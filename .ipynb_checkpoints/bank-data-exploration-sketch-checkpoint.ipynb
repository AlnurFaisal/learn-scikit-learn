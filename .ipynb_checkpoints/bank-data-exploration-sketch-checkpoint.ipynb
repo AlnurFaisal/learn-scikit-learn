{
 "cells": [
  {
   "cell_type": "markdown",
   "metadata": {
    "collapsed": true
   },
   "source": [
    "# Lunch and learn: Machine learning (logistic regression)"
   ]
  },
  {
   "cell_type": "markdown",
   "metadata": {},
   "source": [
    "### Goals of this notebook:\n",
    "Demonstrate how to:\n",
    "    1. Define the problem\n",
    "    2. Load and explore the data\n",
    "    3. Prepare / clean the data for modeling\n",
    "    4. Train the model\n",
    "    5. Evaluate the model\n",
    "    6. Tune / improve the model\n",
    "    7. Use the model to predict the probability of outcomes"
   ]
  },
  {
   "cell_type": "markdown",
   "metadata": {},
   "source": [
    "### 1. Define the problem\n",
    "\n",
    "The most important part of any ML problem is: **what puzzle(s) are we trying to solve?**\n",
    "\n",
    "In this example, since we have data on bank marketing, some interesting questions might be:\n",
    "- what indicators (x variables) have the biggest effect on whether a user will subscribe to a bank term deposit (y variable)?\n",
    "- given that we have the variables required for the model for a given user, can we predict if the client will subscribe a bank term deposit (y variable)?"
   ]
  },
  {
   "cell_type": "code",
   "execution_count": 196,
   "metadata": {
    "collapsed": true
   },
   "outputs": [],
   "source": [
    "import pandas as pd\n",
    "import numpy as np\n",
    "import matplotlib.pyplot as plt\n",
    "%matplotlib inline\n",
    "\n",
    "pd.options.display.max_columns = 50"
   ]
  },
  {
   "cell_type": "markdown",
   "metadata": {},
   "source": []
  },
  {
   "cell_type": "markdown",
   "metadata": {},
   "source": [
    "### 2. Load and explore the data"
   ]
  },
  {
   "cell_type": "code",
   "execution_count": 197,
   "metadata": {
    "collapsed": true
   },
   "outputs": [],
   "source": [
    "df_raw = pd.read_csv('./data/bank-marketing-data/bank-additional-full.csv', sep=';')\n",
    "df = pd.read_csv('./data/bank-marketing-data/bank-additional-full.csv', sep=';')"
   ]
  },
  {
   "cell_type": "markdown",
   "metadata": {},
   "source": [
    "Based on the dataset's [README](http://archive.ics.uci.edu/ml/datasets/Bank+Marketing), we know that the data is related with direct marketing campaigns (phone calls) of a Portuguese banking institution. The classification goal is to predict if the client will subscribe a term deposit (variable y).\n",
    "\n",
    "Data Source: S. Moro, P. Cortez and P. Rita. A Data-Driven Approach to Predict the Success of Bank Telemarketing. Decision Support Systems (2014), doi:10.1016/j.dss.2014.03.001.\n",
    "\n",
    "Some caveats about this data:\n",
    "- not all attributes are included due to privacy concerns"
   ]
  },
  {
   "cell_type": "markdown",
   "metadata": {},
   "source": [
    "Data Sources: Sérgio Moro (ISCTE-IUL), Paulo Cortez (Univ. Minho) and Paulo Rita (ISCTE-IUL) @ 2014; S. Moro, P. Cortez and P. Rita. A Data-Driven Approach to Predict the Success of Bank Telemarketing. Decision Support Systems (2014), doi:10.1016/j.dss.2014.03.001.\n",
    " \n",
    "Number of Instances: 41188 for bank-additional-full.csv\n",
    "\n",
    "Number of Attributes: 20 + output attribute.\n",
    "\n",
    "## Input variables:\n",
    "**bank client data:**   \n",
    "1 - age (numeric)\n",
    "\n",
    "2 - job : type of job (categorical: \"admin.\",\"blue-collar\",\"entrepreneur\",\"housemaid\",\"management\",\"retired\",\"self-employed\",\"services\",\"student\",\"technician\",\"unemployed\",\"unknown\")\n",
    "\n",
    "3 - marital : marital status (categorical: \"divorced\",\"married\",\"single\",\"unknown\"; note: \"divorced\" means divorced or widowed)\n",
    "\n",
    "4 - education (categorical: \"basic.4y\",\"basic.6y\",\"basic.9y\",\"high.school\",\"illiterate\",\"professional.course\",\"university.degree\",\"unknown\")\n",
    "\n",
    "5 - default: has credit in default? (categorical: \"no\",\"yes\",\"unknown\")\n",
    "\n",
    "6 - housing: has housing loan? (categorical: \"no\",\"yes\",\"unknown\")\n",
    "\n",
    "7 - loan: has personal loan? (categorical: \"no\",\"yes\",\"unknown\")\n",
    "\n",
    "**related with the last contact of the current campaign:**\n",
    "   \n",
    "8 - contact: contact communication type (categorical: \"cellular\",\"telephone\") \n",
    "\n",
    "9 - month: last contact month of year (categorical: \"jan\", \"feb\", \"mar\", ..., \"nov\", \"dec\")\n",
    "\n",
    "10 - day_of_week: last contact day of the week (categorical: \"mon\",\"tue\",\"wed\",\"thu\",\"fri\")\n",
    "\n",
    "11 - duration: last contact duration, in seconds (numeric). Important note:  this attribute highly affects the output target (e.g., if duration=0 then y=\"no\"). Yet, the duration is not known before a call is performed. Also, after the end of the call y is obviously known. Thus, this input should only be included for benchmark purposes and should be discarded if the intention is to have a realistic predictive model.\n",
    "\n",
    "**other attributes:**\n",
    "\n",
    "12 - campaign: number of contacts performed during this campaign and for this client (numeric, includes last contact)\n",
    "\n",
    "13 - pdays: number of days that passed by after the client was last contacted from a previous campaign (numeric; 999 means client was not previously contacted)\n",
    "\n",
    "14 - previous: number of contacts performed before this campaign and for this client (numeric)\n",
    "\n",
    "15 - poutcome: outcome of the previous marketing campaign (categorical: \"failure\",\"nonexistent\",\"success\")\n",
    "\n",
    "**social and economic context attributes**\n",
    "\n",
    "16 - emp.var.rate: employment variation rate -quarterly indicator (numeric)\n",
    "\n",
    "17 - cons.price.idx: consumer price index -monthly indicator (numeric)     \n",
    "\n",
    "18 - cons.conf.idx: consumer confidence index -monthly indicator (numeric)     \n",
    "\n",
    "19 - euribor3m: euribor 3 month rate -daily indicator (numeric)\n",
    "\n",
    "20 - nr.employed: number of employees -quarterly indicator (numeric)\n",
    "\n",
    "## Output variable (target variable):\n",
    "\n",
    "21 - y: has the client subscribed a term deposit? (binary: \"yes\",\"no\")\n",
    "\n",
    "8. Missing Attribute Values: There are several missing values in some categorical attributes, all coded with the \"unknown\" label. These missing values can be treated as a possible class label or using deletion or imputation techniques. \n"
   ]
  },
  {
   "cell_type": "code",
   "execution_count": 198,
   "metadata": {
    "collapsed": false
   },
   "outputs": [
    {
     "data": {
      "text/html": [
       "<div>\n",
       "<table border=\"1\" class=\"dataframe\">\n",
       "  <thead>\n",
       "    <tr style=\"text-align: right;\">\n",
       "      <th></th>\n",
       "      <th>age</th>\n",
       "      <th>job</th>\n",
       "      <th>marital</th>\n",
       "      <th>education</th>\n",
       "      <th>default</th>\n",
       "      <th>housing</th>\n",
       "      <th>loan</th>\n",
       "      <th>contact</th>\n",
       "      <th>month</th>\n",
       "      <th>day_of_week</th>\n",
       "      <th>duration</th>\n",
       "      <th>campaign</th>\n",
       "      <th>pdays</th>\n",
       "      <th>previous</th>\n",
       "      <th>poutcome</th>\n",
       "      <th>emp.var.rate</th>\n",
       "      <th>cons.price.idx</th>\n",
       "      <th>cons.conf.idx</th>\n",
       "      <th>euribor3m</th>\n",
       "      <th>nr.employed</th>\n",
       "      <th>y</th>\n",
       "    </tr>\n",
       "  </thead>\n",
       "  <tbody>\n",
       "    <tr>\n",
       "      <th>0</th>\n",
       "      <td>56</td>\n",
       "      <td>housemaid</td>\n",
       "      <td>married</td>\n",
       "      <td>basic.4y</td>\n",
       "      <td>no</td>\n",
       "      <td>no</td>\n",
       "      <td>no</td>\n",
       "      <td>telephone</td>\n",
       "      <td>may</td>\n",
       "      <td>mon</td>\n",
       "      <td>261</td>\n",
       "      <td>1</td>\n",
       "      <td>999</td>\n",
       "      <td>0</td>\n",
       "      <td>nonexistent</td>\n",
       "      <td>1.1</td>\n",
       "      <td>93.994</td>\n",
       "      <td>-36.4</td>\n",
       "      <td>4.857</td>\n",
       "      <td>5191.0</td>\n",
       "      <td>no</td>\n",
       "    </tr>\n",
       "    <tr>\n",
       "      <th>1</th>\n",
       "      <td>57</td>\n",
       "      <td>services</td>\n",
       "      <td>married</td>\n",
       "      <td>high.school</td>\n",
       "      <td>unknown</td>\n",
       "      <td>no</td>\n",
       "      <td>no</td>\n",
       "      <td>telephone</td>\n",
       "      <td>may</td>\n",
       "      <td>mon</td>\n",
       "      <td>149</td>\n",
       "      <td>1</td>\n",
       "      <td>999</td>\n",
       "      <td>0</td>\n",
       "      <td>nonexistent</td>\n",
       "      <td>1.1</td>\n",
       "      <td>93.994</td>\n",
       "      <td>-36.4</td>\n",
       "      <td>4.857</td>\n",
       "      <td>5191.0</td>\n",
       "      <td>no</td>\n",
       "    </tr>\n",
       "    <tr>\n",
       "      <th>2</th>\n",
       "      <td>37</td>\n",
       "      <td>services</td>\n",
       "      <td>married</td>\n",
       "      <td>high.school</td>\n",
       "      <td>no</td>\n",
       "      <td>yes</td>\n",
       "      <td>no</td>\n",
       "      <td>telephone</td>\n",
       "      <td>may</td>\n",
       "      <td>mon</td>\n",
       "      <td>226</td>\n",
       "      <td>1</td>\n",
       "      <td>999</td>\n",
       "      <td>0</td>\n",
       "      <td>nonexistent</td>\n",
       "      <td>1.1</td>\n",
       "      <td>93.994</td>\n",
       "      <td>-36.4</td>\n",
       "      <td>4.857</td>\n",
       "      <td>5191.0</td>\n",
       "      <td>no</td>\n",
       "    </tr>\n",
       "    <tr>\n",
       "      <th>3</th>\n",
       "      <td>40</td>\n",
       "      <td>admin.</td>\n",
       "      <td>married</td>\n",
       "      <td>basic.6y</td>\n",
       "      <td>no</td>\n",
       "      <td>no</td>\n",
       "      <td>no</td>\n",
       "      <td>telephone</td>\n",
       "      <td>may</td>\n",
       "      <td>mon</td>\n",
       "      <td>151</td>\n",
       "      <td>1</td>\n",
       "      <td>999</td>\n",
       "      <td>0</td>\n",
       "      <td>nonexistent</td>\n",
       "      <td>1.1</td>\n",
       "      <td>93.994</td>\n",
       "      <td>-36.4</td>\n",
       "      <td>4.857</td>\n",
       "      <td>5191.0</td>\n",
       "      <td>no</td>\n",
       "    </tr>\n",
       "    <tr>\n",
       "      <th>4</th>\n",
       "      <td>56</td>\n",
       "      <td>services</td>\n",
       "      <td>married</td>\n",
       "      <td>high.school</td>\n",
       "      <td>no</td>\n",
       "      <td>no</td>\n",
       "      <td>yes</td>\n",
       "      <td>telephone</td>\n",
       "      <td>may</td>\n",
       "      <td>mon</td>\n",
       "      <td>307</td>\n",
       "      <td>1</td>\n",
       "      <td>999</td>\n",
       "      <td>0</td>\n",
       "      <td>nonexistent</td>\n",
       "      <td>1.1</td>\n",
       "      <td>93.994</td>\n",
       "      <td>-36.4</td>\n",
       "      <td>4.857</td>\n",
       "      <td>5191.0</td>\n",
       "      <td>no</td>\n",
       "    </tr>\n",
       "  </tbody>\n",
       "</table>\n",
       "</div>"
      ],
      "text/plain": [
       "   age        job  marital    education  default housing loan    contact  \\\n",
       "0   56  housemaid  married     basic.4y       no      no   no  telephone   \n",
       "1   57   services  married  high.school  unknown      no   no  telephone   \n",
       "2   37   services  married  high.school       no     yes   no  telephone   \n",
       "3   40     admin.  married     basic.6y       no      no   no  telephone   \n",
       "4   56   services  married  high.school       no      no  yes  telephone   \n",
       "\n",
       "  month day_of_week  duration  campaign  pdays  previous     poutcome  \\\n",
       "0   may         mon       261         1    999         0  nonexistent   \n",
       "1   may         mon       149         1    999         0  nonexistent   \n",
       "2   may         mon       226         1    999         0  nonexistent   \n",
       "3   may         mon       151         1    999         0  nonexistent   \n",
       "4   may         mon       307         1    999         0  nonexistent   \n",
       "\n",
       "   emp.var.rate  cons.price.idx  cons.conf.idx  euribor3m  nr.employed   y  \n",
       "0           1.1          93.994          -36.4      4.857       5191.0  no  \n",
       "1           1.1          93.994          -36.4      4.857       5191.0  no  \n",
       "2           1.1          93.994          -36.4      4.857       5191.0  no  \n",
       "3           1.1          93.994          -36.4      4.857       5191.0  no  \n",
       "4           1.1          93.994          -36.4      4.857       5191.0  no  "
      ]
     },
     "execution_count": 198,
     "metadata": {},
     "output_type": "execute_result"
    }
   ],
   "source": [
    "df.head()"
   ]
  },
  {
   "cell_type": "code",
   "execution_count": 208,
   "metadata": {
    "collapsed": false
   },
   "outputs": [
    {
     "name": "stdout",
     "output_type": "stream",
     "text": [
      "no     36548\n",
      "yes     4640\n",
      "Name: y, dtype: int64\n",
      "0.887345828882\n"
     ]
    }
   ],
   "source": [
    "print(df['y'].value_counts())\n",
    "\n",
    "# A baseline model which always predicts 'no' will be correct 88.7% of the time. \n",
    "# Our model needs to be better than this!\n",
    "no_count = float(df['y'].value_counts()['no'])\n",
    "print(no_count/df.shape[0])"
   ]
  },
  {
   "cell_type": "code",
   "execution_count": 4,
   "metadata": {
    "collapsed": false
   },
   "outputs": [
    {
     "data": {
      "text/html": [
       "<div>\n",
       "<table border=\"1\" class=\"dataframe\">\n",
       "  <thead>\n",
       "    <tr style=\"text-align: right;\">\n",
       "      <th></th>\n",
       "      <th>age</th>\n",
       "      <th>duration</th>\n",
       "      <th>campaign</th>\n",
       "      <th>pdays</th>\n",
       "      <th>previous</th>\n",
       "      <th>emp.var.rate</th>\n",
       "      <th>cons.price.idx</th>\n",
       "      <th>cons.conf.idx</th>\n",
       "      <th>euribor3m</th>\n",
       "      <th>nr.employed</th>\n",
       "    </tr>\n",
       "  </thead>\n",
       "  <tbody>\n",
       "    <tr>\n",
       "      <th>count</th>\n",
       "      <td>41188.00000</td>\n",
       "      <td>41188.000000</td>\n",
       "      <td>41188.000000</td>\n",
       "      <td>41188.000000</td>\n",
       "      <td>41188.000000</td>\n",
       "      <td>41188.000000</td>\n",
       "      <td>41188.000000</td>\n",
       "      <td>41188.000000</td>\n",
       "      <td>41188.000000</td>\n",
       "      <td>41188.000000</td>\n",
       "    </tr>\n",
       "    <tr>\n",
       "      <th>mean</th>\n",
       "      <td>40.02406</td>\n",
       "      <td>258.285010</td>\n",
       "      <td>2.567593</td>\n",
       "      <td>962.475454</td>\n",
       "      <td>0.172963</td>\n",
       "      <td>0.081886</td>\n",
       "      <td>93.575664</td>\n",
       "      <td>-40.502600</td>\n",
       "      <td>3.621291</td>\n",
       "      <td>5167.035911</td>\n",
       "    </tr>\n",
       "    <tr>\n",
       "      <th>std</th>\n",
       "      <td>10.42125</td>\n",
       "      <td>259.279249</td>\n",
       "      <td>2.770014</td>\n",
       "      <td>186.910907</td>\n",
       "      <td>0.494901</td>\n",
       "      <td>1.570960</td>\n",
       "      <td>0.578840</td>\n",
       "      <td>4.628198</td>\n",
       "      <td>1.734447</td>\n",
       "      <td>72.251528</td>\n",
       "    </tr>\n",
       "    <tr>\n",
       "      <th>min</th>\n",
       "      <td>17.00000</td>\n",
       "      <td>0.000000</td>\n",
       "      <td>1.000000</td>\n",
       "      <td>0.000000</td>\n",
       "      <td>0.000000</td>\n",
       "      <td>-3.400000</td>\n",
       "      <td>92.201000</td>\n",
       "      <td>-50.800000</td>\n",
       "      <td>0.634000</td>\n",
       "      <td>4963.600000</td>\n",
       "    </tr>\n",
       "    <tr>\n",
       "      <th>25%</th>\n",
       "      <td>32.00000</td>\n",
       "      <td>102.000000</td>\n",
       "      <td>1.000000</td>\n",
       "      <td>999.000000</td>\n",
       "      <td>0.000000</td>\n",
       "      <td>-1.800000</td>\n",
       "      <td>93.075000</td>\n",
       "      <td>-42.700000</td>\n",
       "      <td>1.344000</td>\n",
       "      <td>5099.100000</td>\n",
       "    </tr>\n",
       "    <tr>\n",
       "      <th>50%</th>\n",
       "      <td>38.00000</td>\n",
       "      <td>180.000000</td>\n",
       "      <td>2.000000</td>\n",
       "      <td>999.000000</td>\n",
       "      <td>0.000000</td>\n",
       "      <td>1.100000</td>\n",
       "      <td>93.749000</td>\n",
       "      <td>-41.800000</td>\n",
       "      <td>4.857000</td>\n",
       "      <td>5191.000000</td>\n",
       "    </tr>\n",
       "    <tr>\n",
       "      <th>75%</th>\n",
       "      <td>47.00000</td>\n",
       "      <td>319.000000</td>\n",
       "      <td>3.000000</td>\n",
       "      <td>999.000000</td>\n",
       "      <td>0.000000</td>\n",
       "      <td>1.400000</td>\n",
       "      <td>93.994000</td>\n",
       "      <td>-36.400000</td>\n",
       "      <td>4.961000</td>\n",
       "      <td>5228.100000</td>\n",
       "    </tr>\n",
       "    <tr>\n",
       "      <th>max</th>\n",
       "      <td>98.00000</td>\n",
       "      <td>4918.000000</td>\n",
       "      <td>56.000000</td>\n",
       "      <td>999.000000</td>\n",
       "      <td>7.000000</td>\n",
       "      <td>1.400000</td>\n",
       "      <td>94.767000</td>\n",
       "      <td>-26.900000</td>\n",
       "      <td>5.045000</td>\n",
       "      <td>5228.100000</td>\n",
       "    </tr>\n",
       "  </tbody>\n",
       "</table>\n",
       "</div>"
      ],
      "text/plain": [
       "               age      duration      campaign         pdays      previous  \\\n",
       "count  41188.00000  41188.000000  41188.000000  41188.000000  41188.000000   \n",
       "mean      40.02406    258.285010      2.567593    962.475454      0.172963   \n",
       "std       10.42125    259.279249      2.770014    186.910907      0.494901   \n",
       "min       17.00000      0.000000      1.000000      0.000000      0.000000   \n",
       "25%       32.00000    102.000000      1.000000    999.000000      0.000000   \n",
       "50%       38.00000    180.000000      2.000000    999.000000      0.000000   \n",
       "75%       47.00000    319.000000      3.000000    999.000000      0.000000   \n",
       "max       98.00000   4918.000000     56.000000    999.000000      7.000000   \n",
       "\n",
       "       emp.var.rate  cons.price.idx  cons.conf.idx     euribor3m   nr.employed  \n",
       "count  41188.000000    41188.000000   41188.000000  41188.000000  41188.000000  \n",
       "mean       0.081886       93.575664     -40.502600      3.621291   5167.035911  \n",
       "std        1.570960        0.578840       4.628198      1.734447     72.251528  \n",
       "min       -3.400000       92.201000     -50.800000      0.634000   4963.600000  \n",
       "25%       -1.800000       93.075000     -42.700000      1.344000   5099.100000  \n",
       "50%        1.100000       93.749000     -41.800000      4.857000   5191.000000  \n",
       "75%        1.400000       93.994000     -36.400000      4.961000   5228.100000  \n",
       "max        1.400000       94.767000     -26.900000      5.045000   5228.100000  "
      ]
     },
     "execution_count": 4,
     "metadata": {},
     "output_type": "execute_result"
    }
   ],
   "source": [
    "df.describe() \n",
    "# this will display only numerical variables. String variables are ommitted"
   ]
  },
  {
   "cell_type": "markdown",
   "metadata": {
    "collapsed": true
   },
   "source": [
    "### 2. data cleaning/wrangling"
   ]
  },
  {
   "cell_type": "markdown",
   "metadata": {},
   "source": [
    "### Treating missing values\n",
    "We can treat missing values in 3 ways:\n",
    "    - Impute (i.e. estimate) its value based on its other values\n",
    "    - Drop the entire row\n",
    "    - Use the label for missing values (in this case, \"unknown\") as a variable (i.e. do nothing)"
   ]
  },
  {
   "cell_type": "code",
   "execution_count": 130,
   "metadata": {
    "collapsed": false
   },
   "outputs": [],
   "source": [
    "# removing rows with unknown\n",
    "for column in df.columns:\n",
    "    if (df[column].dtype == object): ## for columns that containing strings (dtype == object), remove rows with unknown\n",
    "        df = df[df[column] != 'unknown']"
   ]
  },
  {
   "cell_type": "markdown",
   "metadata": {
    "collapsed": false
   },
   "source": [
    "### 4. Exploratory Data Analysis"
   ]
  },
  {
   "cell_type": "code",
   "execution_count": 17,
   "metadata": {
    "collapsed": false
   },
   "outputs": [
    {
     "data": {
      "text/html": [
       "<div>\n",
       "<table border=\"1\" class=\"dataframe\">\n",
       "  <thead>\n",
       "    <tr style=\"text-align: right;\">\n",
       "      <th></th>\n",
       "      <th>age</th>\n",
       "      <th>duration</th>\n",
       "      <th>campaign</th>\n",
       "      <th>pdays</th>\n",
       "      <th>previous</th>\n",
       "      <th>emp.var.rate</th>\n",
       "      <th>cons.price.idx</th>\n",
       "      <th>cons.conf.idx</th>\n",
       "      <th>euribor3m</th>\n",
       "      <th>nr.employed</th>\n",
       "    </tr>\n",
       "  </thead>\n",
       "  <tbody>\n",
       "    <tr>\n",
       "      <th>count</th>\n",
       "      <td>30488.000000</td>\n",
       "      <td>30488.000000</td>\n",
       "      <td>30488.000000</td>\n",
       "      <td>30488.000000</td>\n",
       "      <td>30488.000000</td>\n",
       "      <td>30488.000000</td>\n",
       "      <td>30488.000000</td>\n",
       "      <td>30488.000000</td>\n",
       "      <td>30488.000000</td>\n",
       "      <td>30488.000000</td>\n",
       "    </tr>\n",
       "    <tr>\n",
       "      <th>mean</th>\n",
       "      <td>39.030012</td>\n",
       "      <td>259.484092</td>\n",
       "      <td>2.521451</td>\n",
       "      <td>956.332295</td>\n",
       "      <td>0.194273</td>\n",
       "      <td>-0.071510</td>\n",
       "      <td>93.523311</td>\n",
       "      <td>-40.602263</td>\n",
       "      <td>3.459938</td>\n",
       "      <td>5160.813409</td>\n",
       "    </tr>\n",
       "    <tr>\n",
       "      <th>std</th>\n",
       "      <td>10.333529</td>\n",
       "      <td>261.714262</td>\n",
       "      <td>2.720150</td>\n",
       "      <td>201.373292</td>\n",
       "      <td>0.522788</td>\n",
       "      <td>1.610399</td>\n",
       "      <td>0.585374</td>\n",
       "      <td>4.789249</td>\n",
       "      <td>1.777231</td>\n",
       "      <td>75.158065</td>\n",
       "    </tr>\n",
       "    <tr>\n",
       "      <th>min</th>\n",
       "      <td>17.000000</td>\n",
       "      <td>0.000000</td>\n",
       "      <td>1.000000</td>\n",
       "      <td>0.000000</td>\n",
       "      <td>0.000000</td>\n",
       "      <td>-3.400000</td>\n",
       "      <td>92.201000</td>\n",
       "      <td>-50.800000</td>\n",
       "      <td>0.634000</td>\n",
       "      <td>4963.600000</td>\n",
       "    </tr>\n",
       "    <tr>\n",
       "      <th>25%</th>\n",
       "      <td>31.000000</td>\n",
       "      <td>103.000000</td>\n",
       "      <td>1.000000</td>\n",
       "      <td>999.000000</td>\n",
       "      <td>0.000000</td>\n",
       "      <td>-1.800000</td>\n",
       "      <td>93.075000</td>\n",
       "      <td>-42.700000</td>\n",
       "      <td>1.313000</td>\n",
       "      <td>5099.100000</td>\n",
       "    </tr>\n",
       "    <tr>\n",
       "      <th>50%</th>\n",
       "      <td>37.000000</td>\n",
       "      <td>181.000000</td>\n",
       "      <td>2.000000</td>\n",
       "      <td>999.000000</td>\n",
       "      <td>0.000000</td>\n",
       "      <td>1.100000</td>\n",
       "      <td>93.444000</td>\n",
       "      <td>-41.800000</td>\n",
       "      <td>4.856000</td>\n",
       "      <td>5191.000000</td>\n",
       "    </tr>\n",
       "    <tr>\n",
       "      <th>75%</th>\n",
       "      <td>45.000000</td>\n",
       "      <td>321.000000</td>\n",
       "      <td>3.000000</td>\n",
       "      <td>999.000000</td>\n",
       "      <td>0.000000</td>\n",
       "      <td>1.400000</td>\n",
       "      <td>93.994000</td>\n",
       "      <td>-36.400000</td>\n",
       "      <td>4.961000</td>\n",
       "      <td>5228.100000</td>\n",
       "    </tr>\n",
       "    <tr>\n",
       "      <th>max</th>\n",
       "      <td>95.000000</td>\n",
       "      <td>4918.000000</td>\n",
       "      <td>43.000000</td>\n",
       "      <td>999.000000</td>\n",
       "      <td>7.000000</td>\n",
       "      <td>1.400000</td>\n",
       "      <td>94.767000</td>\n",
       "      <td>-26.900000</td>\n",
       "      <td>5.045000</td>\n",
       "      <td>5228.100000</td>\n",
       "    </tr>\n",
       "  </tbody>\n",
       "</table>\n",
       "</div>"
      ],
      "text/plain": [
       "                age      duration      campaign         pdays      previous  \\\n",
       "count  30488.000000  30488.000000  30488.000000  30488.000000  30488.000000   \n",
       "mean      39.030012    259.484092      2.521451    956.332295      0.194273   \n",
       "std       10.333529    261.714262      2.720150    201.373292      0.522788   \n",
       "min       17.000000      0.000000      1.000000      0.000000      0.000000   \n",
       "25%       31.000000    103.000000      1.000000    999.000000      0.000000   \n",
       "50%       37.000000    181.000000      2.000000    999.000000      0.000000   \n",
       "75%       45.000000    321.000000      3.000000    999.000000      0.000000   \n",
       "max       95.000000   4918.000000     43.000000    999.000000      7.000000   \n",
       "\n",
       "       emp.var.rate  cons.price.idx  cons.conf.idx     euribor3m   nr.employed  \n",
       "count  30488.000000    30488.000000   30488.000000  30488.000000  30488.000000  \n",
       "mean      -0.071510       93.523311     -40.602263      3.459938   5160.813409  \n",
       "std        1.610399        0.585374       4.789249      1.777231     75.158065  \n",
       "min       -3.400000       92.201000     -50.800000      0.634000   4963.600000  \n",
       "25%       -1.800000       93.075000     -42.700000      1.313000   5099.100000  \n",
       "50%        1.100000       93.444000     -41.800000      4.856000   5191.000000  \n",
       "75%        1.400000       93.994000     -36.400000      4.961000   5228.100000  \n",
       "max        1.400000       94.767000     -26.900000      5.045000   5228.100000  "
      ]
     },
     "execution_count": 17,
     "metadata": {},
     "output_type": "execute_result"
    }
   ],
   "source": [
    "df.describe()"
   ]
  },
  {
   "cell_type": "markdown",
   "metadata": {},
   "source": [
    "### Preparing data for modelling"
   ]
  },
  {
   "cell_type": "code",
   "execution_count": 131,
   "metadata": {
    "collapsed": false
   },
   "outputs": [],
   "source": [
    "# Convert string data to numerical data so that scikitlearn can understand it\n",
    "cols_to_transform = ['job', 'marital', 'education', 'default', 'housing', 'loan', 'contact', 'month', 'day_of_week',\n",
    "                    'poutcome', 'y']\n",
    "df_with_dummies = pd.get_dummies(df, columns = cols_to_transform)"
   ]
  },
  {
   "cell_type": "code",
   "execution_count": 116,
   "metadata": {
    "collapsed": false
   },
   "outputs": [
    {
     "data": {
      "text/html": [
       "<div>\n",
       "<table border=\"1\" class=\"dataframe\">\n",
       "  <thead>\n",
       "    <tr style=\"text-align: right;\">\n",
       "      <th></th>\n",
       "      <th>age</th>\n",
       "      <th>duration</th>\n",
       "      <th>campaign</th>\n",
       "      <th>pdays</th>\n",
       "      <th>previous</th>\n",
       "      <th>emp.var.rate</th>\n",
       "      <th>cons.price.idx</th>\n",
       "      <th>cons.conf.idx</th>\n",
       "      <th>euribor3m</th>\n",
       "      <th>nr.employed</th>\n",
       "      <th>job_admin.</th>\n",
       "      <th>job_blue-collar</th>\n",
       "      <th>job_entrepreneur</th>\n",
       "      <th>job_housemaid</th>\n",
       "      <th>job_management</th>\n",
       "      <th>job_retired</th>\n",
       "      <th>job_self-employed</th>\n",
       "      <th>job_services</th>\n",
       "      <th>job_student</th>\n",
       "      <th>job_technician</th>\n",
       "      <th>job_unemployed</th>\n",
       "      <th>marital_divorced</th>\n",
       "      <th>marital_married</th>\n",
       "      <th>marital_single</th>\n",
       "      <th>education_basic.4y</th>\n",
       "      <th>...</th>\n",
       "      <th>housing_yes</th>\n",
       "      <th>loan_no</th>\n",
       "      <th>loan_yes</th>\n",
       "      <th>contact_cellular</th>\n",
       "      <th>contact_telephone</th>\n",
       "      <th>month_apr</th>\n",
       "      <th>month_aug</th>\n",
       "      <th>month_dec</th>\n",
       "      <th>month_jul</th>\n",
       "      <th>month_jun</th>\n",
       "      <th>month_mar</th>\n",
       "      <th>month_may</th>\n",
       "      <th>month_nov</th>\n",
       "      <th>month_oct</th>\n",
       "      <th>month_sep</th>\n",
       "      <th>day_of_week_fri</th>\n",
       "      <th>day_of_week_mon</th>\n",
       "      <th>day_of_week_thu</th>\n",
       "      <th>day_of_week_tue</th>\n",
       "      <th>day_of_week_wed</th>\n",
       "      <th>poutcome_failure</th>\n",
       "      <th>poutcome_nonexistent</th>\n",
       "      <th>poutcome_success</th>\n",
       "      <th>y_no</th>\n",
       "      <th>y_yes</th>\n",
       "    </tr>\n",
       "  </thead>\n",
       "  <tbody>\n",
       "    <tr>\n",
       "      <th>0</th>\n",
       "      <td>56</td>\n",
       "      <td>261</td>\n",
       "      <td>1</td>\n",
       "      <td>999</td>\n",
       "      <td>0</td>\n",
       "      <td>1.1</td>\n",
       "      <td>93.994</td>\n",
       "      <td>-36.4</td>\n",
       "      <td>4.857</td>\n",
       "      <td>5191.0</td>\n",
       "      <td>0</td>\n",
       "      <td>0</td>\n",
       "      <td>0</td>\n",
       "      <td>1</td>\n",
       "      <td>0</td>\n",
       "      <td>0</td>\n",
       "      <td>0</td>\n",
       "      <td>0</td>\n",
       "      <td>0</td>\n",
       "      <td>0</td>\n",
       "      <td>0</td>\n",
       "      <td>0</td>\n",
       "      <td>1</td>\n",
       "      <td>0</td>\n",
       "      <td>1</td>\n",
       "      <td>...</td>\n",
       "      <td>0</td>\n",
       "      <td>1</td>\n",
       "      <td>0</td>\n",
       "      <td>0</td>\n",
       "      <td>1</td>\n",
       "      <td>0</td>\n",
       "      <td>0</td>\n",
       "      <td>0</td>\n",
       "      <td>0</td>\n",
       "      <td>0</td>\n",
       "      <td>0</td>\n",
       "      <td>1</td>\n",
       "      <td>0</td>\n",
       "      <td>0</td>\n",
       "      <td>0</td>\n",
       "      <td>0</td>\n",
       "      <td>1</td>\n",
       "      <td>0</td>\n",
       "      <td>0</td>\n",
       "      <td>0</td>\n",
       "      <td>0</td>\n",
       "      <td>1</td>\n",
       "      <td>0</td>\n",
       "      <td>1</td>\n",
       "      <td>0</td>\n",
       "    </tr>\n",
       "    <tr>\n",
       "      <th>2</th>\n",
       "      <td>37</td>\n",
       "      <td>226</td>\n",
       "      <td>1</td>\n",
       "      <td>999</td>\n",
       "      <td>0</td>\n",
       "      <td>1.1</td>\n",
       "      <td>93.994</td>\n",
       "      <td>-36.4</td>\n",
       "      <td>4.857</td>\n",
       "      <td>5191.0</td>\n",
       "      <td>0</td>\n",
       "      <td>0</td>\n",
       "      <td>0</td>\n",
       "      <td>0</td>\n",
       "      <td>0</td>\n",
       "      <td>0</td>\n",
       "      <td>0</td>\n",
       "      <td>1</td>\n",
       "      <td>0</td>\n",
       "      <td>0</td>\n",
       "      <td>0</td>\n",
       "      <td>0</td>\n",
       "      <td>1</td>\n",
       "      <td>0</td>\n",
       "      <td>0</td>\n",
       "      <td>...</td>\n",
       "      <td>1</td>\n",
       "      <td>1</td>\n",
       "      <td>0</td>\n",
       "      <td>0</td>\n",
       "      <td>1</td>\n",
       "      <td>0</td>\n",
       "      <td>0</td>\n",
       "      <td>0</td>\n",
       "      <td>0</td>\n",
       "      <td>0</td>\n",
       "      <td>0</td>\n",
       "      <td>1</td>\n",
       "      <td>0</td>\n",
       "      <td>0</td>\n",
       "      <td>0</td>\n",
       "      <td>0</td>\n",
       "      <td>1</td>\n",
       "      <td>0</td>\n",
       "      <td>0</td>\n",
       "      <td>0</td>\n",
       "      <td>0</td>\n",
       "      <td>1</td>\n",
       "      <td>0</td>\n",
       "      <td>1</td>\n",
       "      <td>0</td>\n",
       "    </tr>\n",
       "    <tr>\n",
       "      <th>3</th>\n",
       "      <td>40</td>\n",
       "      <td>151</td>\n",
       "      <td>1</td>\n",
       "      <td>999</td>\n",
       "      <td>0</td>\n",
       "      <td>1.1</td>\n",
       "      <td>93.994</td>\n",
       "      <td>-36.4</td>\n",
       "      <td>4.857</td>\n",
       "      <td>5191.0</td>\n",
       "      <td>1</td>\n",
       "      <td>0</td>\n",
       "      <td>0</td>\n",
       "      <td>0</td>\n",
       "      <td>0</td>\n",
       "      <td>0</td>\n",
       "      <td>0</td>\n",
       "      <td>0</td>\n",
       "      <td>0</td>\n",
       "      <td>0</td>\n",
       "      <td>0</td>\n",
       "      <td>0</td>\n",
       "      <td>1</td>\n",
       "      <td>0</td>\n",
       "      <td>0</td>\n",
       "      <td>...</td>\n",
       "      <td>0</td>\n",
       "      <td>1</td>\n",
       "      <td>0</td>\n",
       "      <td>0</td>\n",
       "      <td>1</td>\n",
       "      <td>0</td>\n",
       "      <td>0</td>\n",
       "      <td>0</td>\n",
       "      <td>0</td>\n",
       "      <td>0</td>\n",
       "      <td>0</td>\n",
       "      <td>1</td>\n",
       "      <td>0</td>\n",
       "      <td>0</td>\n",
       "      <td>0</td>\n",
       "      <td>0</td>\n",
       "      <td>1</td>\n",
       "      <td>0</td>\n",
       "      <td>0</td>\n",
       "      <td>0</td>\n",
       "      <td>0</td>\n",
       "      <td>1</td>\n",
       "      <td>0</td>\n",
       "      <td>1</td>\n",
       "      <td>0</td>\n",
       "    </tr>\n",
       "    <tr>\n",
       "      <th>4</th>\n",
       "      <td>56</td>\n",
       "      <td>307</td>\n",
       "      <td>1</td>\n",
       "      <td>999</td>\n",
       "      <td>0</td>\n",
       "      <td>1.1</td>\n",
       "      <td>93.994</td>\n",
       "      <td>-36.4</td>\n",
       "      <td>4.857</td>\n",
       "      <td>5191.0</td>\n",
       "      <td>0</td>\n",
       "      <td>0</td>\n",
       "      <td>0</td>\n",
       "      <td>0</td>\n",
       "      <td>0</td>\n",
       "      <td>0</td>\n",
       "      <td>0</td>\n",
       "      <td>1</td>\n",
       "      <td>0</td>\n",
       "      <td>0</td>\n",
       "      <td>0</td>\n",
       "      <td>0</td>\n",
       "      <td>1</td>\n",
       "      <td>0</td>\n",
       "      <td>0</td>\n",
       "      <td>...</td>\n",
       "      <td>0</td>\n",
       "      <td>0</td>\n",
       "      <td>1</td>\n",
       "      <td>0</td>\n",
       "      <td>1</td>\n",
       "      <td>0</td>\n",
       "      <td>0</td>\n",
       "      <td>0</td>\n",
       "      <td>0</td>\n",
       "      <td>0</td>\n",
       "      <td>0</td>\n",
       "      <td>1</td>\n",
       "      <td>0</td>\n",
       "      <td>0</td>\n",
       "      <td>0</td>\n",
       "      <td>0</td>\n",
       "      <td>1</td>\n",
       "      <td>0</td>\n",
       "      <td>0</td>\n",
       "      <td>0</td>\n",
       "      <td>0</td>\n",
       "      <td>1</td>\n",
       "      <td>0</td>\n",
       "      <td>1</td>\n",
       "      <td>0</td>\n",
       "    </tr>\n",
       "    <tr>\n",
       "      <th>6</th>\n",
       "      <td>59</td>\n",
       "      <td>139</td>\n",
       "      <td>1</td>\n",
       "      <td>999</td>\n",
       "      <td>0</td>\n",
       "      <td>1.1</td>\n",
       "      <td>93.994</td>\n",
       "      <td>-36.4</td>\n",
       "      <td>4.857</td>\n",
       "      <td>5191.0</td>\n",
       "      <td>1</td>\n",
       "      <td>0</td>\n",
       "      <td>0</td>\n",
       "      <td>0</td>\n",
       "      <td>0</td>\n",
       "      <td>0</td>\n",
       "      <td>0</td>\n",
       "      <td>0</td>\n",
       "      <td>0</td>\n",
       "      <td>0</td>\n",
       "      <td>0</td>\n",
       "      <td>0</td>\n",
       "      <td>1</td>\n",
       "      <td>0</td>\n",
       "      <td>0</td>\n",
       "      <td>...</td>\n",
       "      <td>0</td>\n",
       "      <td>1</td>\n",
       "      <td>0</td>\n",
       "      <td>0</td>\n",
       "      <td>1</td>\n",
       "      <td>0</td>\n",
       "      <td>0</td>\n",
       "      <td>0</td>\n",
       "      <td>0</td>\n",
       "      <td>0</td>\n",
       "      <td>0</td>\n",
       "      <td>1</td>\n",
       "      <td>0</td>\n",
       "      <td>0</td>\n",
       "      <td>0</td>\n",
       "      <td>0</td>\n",
       "      <td>1</td>\n",
       "      <td>0</td>\n",
       "      <td>0</td>\n",
       "      <td>0</td>\n",
       "      <td>0</td>\n",
       "      <td>1</td>\n",
       "      <td>0</td>\n",
       "      <td>1</td>\n",
       "      <td>0</td>\n",
       "    </tr>\n",
       "  </tbody>\n",
       "</table>\n",
       "<p>5 rows × 59 columns</p>\n",
       "</div>"
      ],
      "text/plain": [
       "   age  duration  campaign  pdays  previous  emp.var.rate  cons.price.idx  \\\n",
       "0   56       261         1    999         0           1.1          93.994   \n",
       "2   37       226         1    999         0           1.1          93.994   \n",
       "3   40       151         1    999         0           1.1          93.994   \n",
       "4   56       307         1    999         0           1.1          93.994   \n",
       "6   59       139         1    999         0           1.1          93.994   \n",
       "\n",
       "   cons.conf.idx  euribor3m  nr.employed  job_admin.  job_blue-collar  \\\n",
       "0          -36.4      4.857       5191.0           0                0   \n",
       "2          -36.4      4.857       5191.0           0                0   \n",
       "3          -36.4      4.857       5191.0           1                0   \n",
       "4          -36.4      4.857       5191.0           0                0   \n",
       "6          -36.4      4.857       5191.0           1                0   \n",
       "\n",
       "   job_entrepreneur  job_housemaid  job_management  job_retired  \\\n",
       "0                 0              1               0            0   \n",
       "2                 0              0               0            0   \n",
       "3                 0              0               0            0   \n",
       "4                 0              0               0            0   \n",
       "6                 0              0               0            0   \n",
       "\n",
       "   job_self-employed  job_services  job_student  job_technician  \\\n",
       "0                  0             0            0               0   \n",
       "2                  0             1            0               0   \n",
       "3                  0             0            0               0   \n",
       "4                  0             1            0               0   \n",
       "6                  0             0            0               0   \n",
       "\n",
       "   job_unemployed  marital_divorced  marital_married  marital_single  \\\n",
       "0               0                 0                1               0   \n",
       "2               0                 0                1               0   \n",
       "3               0                 0                1               0   \n",
       "4               0                 0                1               0   \n",
       "6               0                 0                1               0   \n",
       "\n",
       "   education_basic.4y  ...    housing_yes  loan_no  loan_yes  \\\n",
       "0                   1  ...              0        1         0   \n",
       "2                   0  ...              1        1         0   \n",
       "3                   0  ...              0        1         0   \n",
       "4                   0  ...              0        0         1   \n",
       "6                   0  ...              0        1         0   \n",
       "\n",
       "   contact_cellular  contact_telephone  month_apr  month_aug  month_dec  \\\n",
       "0                 0                  1          0          0          0   \n",
       "2                 0                  1          0          0          0   \n",
       "3                 0                  1          0          0          0   \n",
       "4                 0                  1          0          0          0   \n",
       "6                 0                  1          0          0          0   \n",
       "\n",
       "   month_jul  month_jun  month_mar  month_may  month_nov  month_oct  \\\n",
       "0          0          0          0          1          0          0   \n",
       "2          0          0          0          1          0          0   \n",
       "3          0          0          0          1          0          0   \n",
       "4          0          0          0          1          0          0   \n",
       "6          0          0          0          1          0          0   \n",
       "\n",
       "   month_sep  day_of_week_fri  day_of_week_mon  day_of_week_thu  \\\n",
       "0          0                0                1                0   \n",
       "2          0                0                1                0   \n",
       "3          0                0                1                0   \n",
       "4          0                0                1                0   \n",
       "6          0                0                1                0   \n",
       "\n",
       "   day_of_week_tue  day_of_week_wed  poutcome_failure  poutcome_nonexistent  \\\n",
       "0                0                0                 0                     1   \n",
       "2                0                0                 0                     1   \n",
       "3                0                0                 0                     1   \n",
       "4                0                0                 0                     1   \n",
       "6                0                0                 0                     1   \n",
       "\n",
       "   poutcome_success  y_no  y_yes  \n",
       "0                 0     1      0  \n",
       "2                 0     1      0  \n",
       "3                 0     1      0  \n",
       "4                 0     1      0  \n",
       "6                 0     1      0  \n",
       "\n",
       "[5 rows x 59 columns]"
      ]
     },
     "execution_count": 116,
     "metadata": {},
     "output_type": "execute_result"
    }
   ],
   "source": [
    "df_with_dummies.head()"
   ]
  },
  {
   "cell_type": "code",
   "execution_count": 6,
   "metadata": {
    "collapsed": false
   },
   "outputs": [
    {
     "data": {
      "text/html": [
       "<div>\n",
       "<table border=\"1\" class=\"dataframe\">\n",
       "  <thead>\n",
       "    <tr style=\"text-align: right;\">\n",
       "      <th></th>\n",
       "      <th>y_yes</th>\n",
       "    </tr>\n",
       "  </thead>\n",
       "  <tbody>\n",
       "    <tr>\n",
       "      <th>0</th>\n",
       "      <td>0</td>\n",
       "    </tr>\n",
       "    <tr>\n",
       "      <th>2</th>\n",
       "      <td>0</td>\n",
       "    </tr>\n",
       "    <tr>\n",
       "      <th>3</th>\n",
       "      <td>0</td>\n",
       "    </tr>\n",
       "    <tr>\n",
       "      <th>4</th>\n",
       "      <td>0</td>\n",
       "    </tr>\n",
       "    <tr>\n",
       "      <th>6</th>\n",
       "      <td>0</td>\n",
       "    </tr>\n",
       "  </tbody>\n",
       "</table>\n",
       "</div>"
      ],
      "text/plain": [
       "   y_yes\n",
       "0      0\n",
       "2      0\n",
       "3      0\n",
       "4      0\n",
       "6      0"
      ]
     },
     "execution_count": 6,
     "metadata": {},
     "output_type": "execute_result"
    }
   ],
   "source": [
    "# Preparing the data into 2 sets: X and y variables\n",
    "\n",
    "df_y = df_with_dummies[['y_yes']]\n",
    "df_y.head()"
   ]
  },
  {
   "cell_type": "code",
   "execution_count": 7,
   "metadata": {
    "collapsed": false
   },
   "outputs": [
    {
     "data": {
      "text/html": [
       "<div>\n",
       "<table border=\"1\" class=\"dataframe\">\n",
       "  <thead>\n",
       "    <tr style=\"text-align: right;\">\n",
       "      <th></th>\n",
       "      <th>age</th>\n",
       "      <th>duration</th>\n",
       "      <th>campaign</th>\n",
       "      <th>pdays</th>\n",
       "      <th>previous</th>\n",
       "      <th>emp.var.rate</th>\n",
       "      <th>cons.price.idx</th>\n",
       "      <th>cons.conf.idx</th>\n",
       "      <th>euribor3m</th>\n",
       "      <th>nr.employed</th>\n",
       "      <th>job_admin.</th>\n",
       "      <th>job_blue-collar</th>\n",
       "      <th>job_entrepreneur</th>\n",
       "      <th>job_housemaid</th>\n",
       "      <th>job_management</th>\n",
       "      <th>job_retired</th>\n",
       "      <th>job_self-employed</th>\n",
       "      <th>job_services</th>\n",
       "      <th>job_student</th>\n",
       "      <th>job_technician</th>\n",
       "      <th>job_unemployed</th>\n",
       "      <th>marital_divorced</th>\n",
       "      <th>marital_married</th>\n",
       "      <th>marital_single</th>\n",
       "      <th>education_basic.4y</th>\n",
       "      <th>...</th>\n",
       "      <th>default_yes</th>\n",
       "      <th>housing_no</th>\n",
       "      <th>housing_yes</th>\n",
       "      <th>loan_no</th>\n",
       "      <th>loan_yes</th>\n",
       "      <th>contact_cellular</th>\n",
       "      <th>contact_telephone</th>\n",
       "      <th>month_apr</th>\n",
       "      <th>month_aug</th>\n",
       "      <th>month_dec</th>\n",
       "      <th>month_jul</th>\n",
       "      <th>month_jun</th>\n",
       "      <th>month_mar</th>\n",
       "      <th>month_may</th>\n",
       "      <th>month_nov</th>\n",
       "      <th>month_oct</th>\n",
       "      <th>month_sep</th>\n",
       "      <th>day_of_week_fri</th>\n",
       "      <th>day_of_week_mon</th>\n",
       "      <th>day_of_week_thu</th>\n",
       "      <th>day_of_week_tue</th>\n",
       "      <th>day_of_week_wed</th>\n",
       "      <th>poutcome_failure</th>\n",
       "      <th>poutcome_nonexistent</th>\n",
       "      <th>poutcome_success</th>\n",
       "    </tr>\n",
       "  </thead>\n",
       "  <tbody>\n",
       "    <tr>\n",
       "      <th>0</th>\n",
       "      <td>56</td>\n",
       "      <td>261</td>\n",
       "      <td>1</td>\n",
       "      <td>999</td>\n",
       "      <td>0</td>\n",
       "      <td>1.1</td>\n",
       "      <td>93.994</td>\n",
       "      <td>-36.4</td>\n",
       "      <td>4.857</td>\n",
       "      <td>5191.0</td>\n",
       "      <td>0</td>\n",
       "      <td>0</td>\n",
       "      <td>0</td>\n",
       "      <td>1</td>\n",
       "      <td>0</td>\n",
       "      <td>0</td>\n",
       "      <td>0</td>\n",
       "      <td>0</td>\n",
       "      <td>0</td>\n",
       "      <td>0</td>\n",
       "      <td>0</td>\n",
       "      <td>0</td>\n",
       "      <td>1</td>\n",
       "      <td>0</td>\n",
       "      <td>1</td>\n",
       "      <td>...</td>\n",
       "      <td>0</td>\n",
       "      <td>1</td>\n",
       "      <td>0</td>\n",
       "      <td>1</td>\n",
       "      <td>0</td>\n",
       "      <td>0</td>\n",
       "      <td>1</td>\n",
       "      <td>0</td>\n",
       "      <td>0</td>\n",
       "      <td>0</td>\n",
       "      <td>0</td>\n",
       "      <td>0</td>\n",
       "      <td>0</td>\n",
       "      <td>1</td>\n",
       "      <td>0</td>\n",
       "      <td>0</td>\n",
       "      <td>0</td>\n",
       "      <td>0</td>\n",
       "      <td>1</td>\n",
       "      <td>0</td>\n",
       "      <td>0</td>\n",
       "      <td>0</td>\n",
       "      <td>0</td>\n",
       "      <td>1</td>\n",
       "      <td>0</td>\n",
       "    </tr>\n",
       "    <tr>\n",
       "      <th>2</th>\n",
       "      <td>37</td>\n",
       "      <td>226</td>\n",
       "      <td>1</td>\n",
       "      <td>999</td>\n",
       "      <td>0</td>\n",
       "      <td>1.1</td>\n",
       "      <td>93.994</td>\n",
       "      <td>-36.4</td>\n",
       "      <td>4.857</td>\n",
       "      <td>5191.0</td>\n",
       "      <td>0</td>\n",
       "      <td>0</td>\n",
       "      <td>0</td>\n",
       "      <td>0</td>\n",
       "      <td>0</td>\n",
       "      <td>0</td>\n",
       "      <td>0</td>\n",
       "      <td>1</td>\n",
       "      <td>0</td>\n",
       "      <td>0</td>\n",
       "      <td>0</td>\n",
       "      <td>0</td>\n",
       "      <td>1</td>\n",
       "      <td>0</td>\n",
       "      <td>0</td>\n",
       "      <td>...</td>\n",
       "      <td>0</td>\n",
       "      <td>0</td>\n",
       "      <td>1</td>\n",
       "      <td>1</td>\n",
       "      <td>0</td>\n",
       "      <td>0</td>\n",
       "      <td>1</td>\n",
       "      <td>0</td>\n",
       "      <td>0</td>\n",
       "      <td>0</td>\n",
       "      <td>0</td>\n",
       "      <td>0</td>\n",
       "      <td>0</td>\n",
       "      <td>1</td>\n",
       "      <td>0</td>\n",
       "      <td>0</td>\n",
       "      <td>0</td>\n",
       "      <td>0</td>\n",
       "      <td>1</td>\n",
       "      <td>0</td>\n",
       "      <td>0</td>\n",
       "      <td>0</td>\n",
       "      <td>0</td>\n",
       "      <td>1</td>\n",
       "      <td>0</td>\n",
       "    </tr>\n",
       "    <tr>\n",
       "      <th>3</th>\n",
       "      <td>40</td>\n",
       "      <td>151</td>\n",
       "      <td>1</td>\n",
       "      <td>999</td>\n",
       "      <td>0</td>\n",
       "      <td>1.1</td>\n",
       "      <td>93.994</td>\n",
       "      <td>-36.4</td>\n",
       "      <td>4.857</td>\n",
       "      <td>5191.0</td>\n",
       "      <td>1</td>\n",
       "      <td>0</td>\n",
       "      <td>0</td>\n",
       "      <td>0</td>\n",
       "      <td>0</td>\n",
       "      <td>0</td>\n",
       "      <td>0</td>\n",
       "      <td>0</td>\n",
       "      <td>0</td>\n",
       "      <td>0</td>\n",
       "      <td>0</td>\n",
       "      <td>0</td>\n",
       "      <td>1</td>\n",
       "      <td>0</td>\n",
       "      <td>0</td>\n",
       "      <td>...</td>\n",
       "      <td>0</td>\n",
       "      <td>1</td>\n",
       "      <td>0</td>\n",
       "      <td>1</td>\n",
       "      <td>0</td>\n",
       "      <td>0</td>\n",
       "      <td>1</td>\n",
       "      <td>0</td>\n",
       "      <td>0</td>\n",
       "      <td>0</td>\n",
       "      <td>0</td>\n",
       "      <td>0</td>\n",
       "      <td>0</td>\n",
       "      <td>1</td>\n",
       "      <td>0</td>\n",
       "      <td>0</td>\n",
       "      <td>0</td>\n",
       "      <td>0</td>\n",
       "      <td>1</td>\n",
       "      <td>0</td>\n",
       "      <td>0</td>\n",
       "      <td>0</td>\n",
       "      <td>0</td>\n",
       "      <td>1</td>\n",
       "      <td>0</td>\n",
       "    </tr>\n",
       "    <tr>\n",
       "      <th>4</th>\n",
       "      <td>56</td>\n",
       "      <td>307</td>\n",
       "      <td>1</td>\n",
       "      <td>999</td>\n",
       "      <td>0</td>\n",
       "      <td>1.1</td>\n",
       "      <td>93.994</td>\n",
       "      <td>-36.4</td>\n",
       "      <td>4.857</td>\n",
       "      <td>5191.0</td>\n",
       "      <td>0</td>\n",
       "      <td>0</td>\n",
       "      <td>0</td>\n",
       "      <td>0</td>\n",
       "      <td>0</td>\n",
       "      <td>0</td>\n",
       "      <td>0</td>\n",
       "      <td>1</td>\n",
       "      <td>0</td>\n",
       "      <td>0</td>\n",
       "      <td>0</td>\n",
       "      <td>0</td>\n",
       "      <td>1</td>\n",
       "      <td>0</td>\n",
       "      <td>0</td>\n",
       "      <td>...</td>\n",
       "      <td>0</td>\n",
       "      <td>1</td>\n",
       "      <td>0</td>\n",
       "      <td>0</td>\n",
       "      <td>1</td>\n",
       "      <td>0</td>\n",
       "      <td>1</td>\n",
       "      <td>0</td>\n",
       "      <td>0</td>\n",
       "      <td>0</td>\n",
       "      <td>0</td>\n",
       "      <td>0</td>\n",
       "      <td>0</td>\n",
       "      <td>1</td>\n",
       "      <td>0</td>\n",
       "      <td>0</td>\n",
       "      <td>0</td>\n",
       "      <td>0</td>\n",
       "      <td>1</td>\n",
       "      <td>0</td>\n",
       "      <td>0</td>\n",
       "      <td>0</td>\n",
       "      <td>0</td>\n",
       "      <td>1</td>\n",
       "      <td>0</td>\n",
       "    </tr>\n",
       "    <tr>\n",
       "      <th>6</th>\n",
       "      <td>59</td>\n",
       "      <td>139</td>\n",
       "      <td>1</td>\n",
       "      <td>999</td>\n",
       "      <td>0</td>\n",
       "      <td>1.1</td>\n",
       "      <td>93.994</td>\n",
       "      <td>-36.4</td>\n",
       "      <td>4.857</td>\n",
       "      <td>5191.0</td>\n",
       "      <td>1</td>\n",
       "      <td>0</td>\n",
       "      <td>0</td>\n",
       "      <td>0</td>\n",
       "      <td>0</td>\n",
       "      <td>0</td>\n",
       "      <td>0</td>\n",
       "      <td>0</td>\n",
       "      <td>0</td>\n",
       "      <td>0</td>\n",
       "      <td>0</td>\n",
       "      <td>0</td>\n",
       "      <td>1</td>\n",
       "      <td>0</td>\n",
       "      <td>0</td>\n",
       "      <td>...</td>\n",
       "      <td>0</td>\n",
       "      <td>1</td>\n",
       "      <td>0</td>\n",
       "      <td>1</td>\n",
       "      <td>0</td>\n",
       "      <td>0</td>\n",
       "      <td>1</td>\n",
       "      <td>0</td>\n",
       "      <td>0</td>\n",
       "      <td>0</td>\n",
       "      <td>0</td>\n",
       "      <td>0</td>\n",
       "      <td>0</td>\n",
       "      <td>1</td>\n",
       "      <td>0</td>\n",
       "      <td>0</td>\n",
       "      <td>0</td>\n",
       "      <td>0</td>\n",
       "      <td>1</td>\n",
       "      <td>0</td>\n",
       "      <td>0</td>\n",
       "      <td>0</td>\n",
       "      <td>0</td>\n",
       "      <td>1</td>\n",
       "      <td>0</td>\n",
       "    </tr>\n",
       "  </tbody>\n",
       "</table>\n",
       "<p>5 rows × 57 columns</p>\n",
       "</div>"
      ],
      "text/plain": [
       "   age  duration  campaign  pdays  previous  emp.var.rate  cons.price.idx  \\\n",
       "0   56       261         1    999         0           1.1          93.994   \n",
       "2   37       226         1    999         0           1.1          93.994   \n",
       "3   40       151         1    999         0           1.1          93.994   \n",
       "4   56       307         1    999         0           1.1          93.994   \n",
       "6   59       139         1    999         0           1.1          93.994   \n",
       "\n",
       "   cons.conf.idx  euribor3m  nr.employed  job_admin.  job_blue-collar  \\\n",
       "0          -36.4      4.857       5191.0           0                0   \n",
       "2          -36.4      4.857       5191.0           0                0   \n",
       "3          -36.4      4.857       5191.0           1                0   \n",
       "4          -36.4      4.857       5191.0           0                0   \n",
       "6          -36.4      4.857       5191.0           1                0   \n",
       "\n",
       "   job_entrepreneur  job_housemaid  job_management  job_retired  \\\n",
       "0                 0              1               0            0   \n",
       "2                 0              0               0            0   \n",
       "3                 0              0               0            0   \n",
       "4                 0              0               0            0   \n",
       "6                 0              0               0            0   \n",
       "\n",
       "   job_self-employed  job_services  job_student  job_technician  \\\n",
       "0                  0             0            0               0   \n",
       "2                  0             1            0               0   \n",
       "3                  0             0            0               0   \n",
       "4                  0             1            0               0   \n",
       "6                  0             0            0               0   \n",
       "\n",
       "   job_unemployed  marital_divorced  marital_married  marital_single  \\\n",
       "0               0                 0                1               0   \n",
       "2               0                 0                1               0   \n",
       "3               0                 0                1               0   \n",
       "4               0                 0                1               0   \n",
       "6               0                 0                1               0   \n",
       "\n",
       "   education_basic.4y        ...         default_yes  housing_no  housing_yes  \\\n",
       "0                   1        ...                   0           1            0   \n",
       "2                   0        ...                   0           0            1   \n",
       "3                   0        ...                   0           1            0   \n",
       "4                   0        ...                   0           1            0   \n",
       "6                   0        ...                   0           1            0   \n",
       "\n",
       "   loan_no  loan_yes  contact_cellular  contact_telephone  month_apr  \\\n",
       "0        1         0                 0                  1          0   \n",
       "2        1         0                 0                  1          0   \n",
       "3        1         0                 0                  1          0   \n",
       "4        0         1                 0                  1          0   \n",
       "6        1         0                 0                  1          0   \n",
       "\n",
       "   month_aug  month_dec  month_jul  month_jun  month_mar  month_may  \\\n",
       "0          0          0          0          0          0          1   \n",
       "2          0          0          0          0          0          1   \n",
       "3          0          0          0          0          0          1   \n",
       "4          0          0          0          0          0          1   \n",
       "6          0          0          0          0          0          1   \n",
       "\n",
       "   month_nov  month_oct  month_sep  day_of_week_fri  day_of_week_mon  \\\n",
       "0          0          0          0                0                1   \n",
       "2          0          0          0                0                1   \n",
       "3          0          0          0                0                1   \n",
       "4          0          0          0                0                1   \n",
       "6          0          0          0                0                1   \n",
       "\n",
       "   day_of_week_thu  day_of_week_tue  day_of_week_wed  poutcome_failure  \\\n",
       "0                0                0                0                 0   \n",
       "2                0                0                0                 0   \n",
       "3                0                0                0                 0   \n",
       "4                0                0                0                 0   \n",
       "6                0                0                0                 0   \n",
       "\n",
       "   poutcome_nonexistent  poutcome_success  \n",
       "0                     1                 0  \n",
       "2                     1                 0  \n",
       "3                     1                 0  \n",
       "4                     1                 0  \n",
       "6                     1                 0  \n",
       "\n",
       "[5 rows x 57 columns]"
      ]
     },
     "execution_count": 7,
     "metadata": {},
     "output_type": "execute_result"
    }
   ],
   "source": [
    "del df_with_dummies['y_yes']\n",
    "del df_with_dummies['y_no']\n",
    "df_with_dummies.head()"
   ]
  },
  {
   "cell_type": "code",
   "execution_count": 8,
   "metadata": {
    "collapsed": true
   },
   "outputs": [],
   "source": [
    "# convert pandas dataframe into numpy array\n",
    "X = df_with_dummies.as_matrix()\n",
    "y = df_y.as_matrix() # this step may not be necessary"
   ]
  },
  {
   "cell_type": "code",
   "execution_count": 43,
   "metadata": {
    "collapsed": true
   },
   "outputs": [],
   "source": []
  },
  {
   "cell_type": "code",
   "execution_count": null,
   "metadata": {
    "collapsed": true
   },
   "outputs": [],
   "source": []
  },
  {
   "cell_type": "code",
   "execution_count": null,
   "metadata": {
    "collapsed": true
   },
   "outputs": [],
   "source": [
    "### 3. Train the model"
   ]
  },
  {
   "cell_type": "code",
   "execution_count": 14,
   "metadata": {
    "collapsed": true
   },
   "outputs": [],
   "source": [
    "from sklearn.model_selection import train_test_split\n",
    "from sklearn.linear_model import LogisticRegression\n",
    "from sklearn.linear_model import LogisticRegressionCV"
   ]
  },
  {
   "cell_type": "code",
   "execution_count": 10,
   "metadata": {
    "collapsed": false
   },
   "outputs": [],
   "source": [
    "X_train, X_test, y_train, y_test = train_test_split(X, y, random_state=0)"
   ]
  },
  {
   "cell_type": "code",
   "execution_count": 31,
   "metadata": {
    "collapsed": false
   },
   "outputs": [
    {
     "name": "stdout",
     "output_type": "stream",
     "text": [
      "training set score: 0.900245\n",
      "test set score: 0.899370\n"
     ]
    }
   ],
   "source": [
    "logisticregression = LogisticRegression().fit(X_train, y_train)\n",
    "print(\"training set score: %f\" % logisticregression.score(X_train, y_train))\n",
    "print(\"test set score: %f\" % logisticregression.score(X_test, y_test))"
   ]
  },
  {
   "cell_type": "code",
   "execution_count": 21,
   "metadata": {
    "collapsed": false
   },
   "outputs": [
    {
     "name": "stdout",
     "output_type": "stream",
     "text": [
      "training set score: 0.900201\n",
      "test set score: 0.901994\n"
     ]
    }
   ],
   "source": [
    "logisticregression001 = LogisticRegression(C=0.01).fit(X_train, y_train)\n",
    "print(\"training set score: %f\" % logisticregression001.score(X_train, y_train))\n",
    "print(\"test set score: %f\" % logisticregression001.score(X_test, y_test))"
   ]
  },
  {
   "cell_type": "code",
   "execution_count": 24,
   "metadata": {
    "collapsed": false
   },
   "outputs": [
    {
     "name": "stdout",
     "output_type": "stream",
     "text": [
      "training set score: 0.900157\n",
      "test set score: 0.903175\n"
     ]
    }
   ],
   "source": [
    "logisticregression100 = LogisticRegression(C=100).fit(X_train, y_train)\n",
    "print(\"training set score: %f\" % logisticregression100.score(X_train, y_train))\n",
    "print(\"test set score: %f\" % logisticregression100.score(X_test, y_test))"
   ]
  },
  {
   "cell_type": "code",
   "execution_count": 32,
   "metadata": {
    "collapsed": false
   },
   "outputs": [
    {
     "name": "stdout",
     "output_type": "stream",
     "text": [
      "training set score: 0.900201\n",
      "test set score: 0.901994\n",
      "training set score: 0.900945\n",
      "test set score: 0.898452\n",
      "training set score: 0.900245\n",
      "test set score: 0.899370\n",
      "training set score: 0.900026\n",
      "test set score: 0.899239\n",
      "training set score: 0.900201\n",
      "test set score: 0.901207\n",
      "training set score: 0.900026\n",
      "test set score: 0.903306\n",
      "training set score: 0.900026\n",
      "test set score: 0.899764\n",
      "training set score: 0.900157\n",
      "test set score: 0.903175\n",
      "training set score: 0.900157\n",
      "test set score: 0.903175\n",
      "training set score: 0.900157\n",
      "test set score: 0.903306\n",
      "training set score: 0.900289\n",
      "test set score: 0.899239\n",
      "training set score: 0.900245\n",
      "test set score: 0.903175\n",
      "training set score: 0.900332\n",
      "test set score: 0.899370\n",
      "training set score: 0.900201\n",
      "test set score: 0.901207\n"
     ]
    }
   ],
   "source": [
    "C=[0.01, 0.1, 1, 5, 10, 20, 30, 40, 50, 60, 70, 80, 90, 10]\n",
    "\n",
    "for c in C:\n",
    "    print(\"training set score: %f\" % LogisticRegression(C=c).fit(X_train, y_train).score(X_train, y_train))\n",
    "    print(\"test set score: %f\" % LogisticRegression(C=c).fit(X_train, y_train).score(X_test, y_test))"
   ]
  },
  {
   "cell_type": "code",
   "execution_count": 29,
   "metadata": {
    "collapsed": false
   },
   "outputs": [
    {
     "data": {
      "text/plain": [
       "<matplotlib.legend.Legend at 0x123d47750>"
      ]
     },
     "execution_count": 29,
     "metadata": {},
     "output_type": "execute_result"
    },
    {
     "data": {
      "image/png": "[encoded data removed]",
      "text/plain": [
       "<matplotlib.figure.Figure at 0x123a82990>"
      ]
     },
     "metadata": {},
     "output_type": "display_data"
    }
   ],
   "source": [
    "plt.figure(figsize=(16,9))\n",
    "\n",
    "plt.plot(logisticregression.coef_.T, 'o', label=\"C=1\")\n",
    "plt.plot(logisticregression100.coef_.T, 'o', label=\"C=100\")\n",
    "plt.plot(logisticregression001.coef_.T, 'o', label=\"C=0.001\")\n",
    "plt.xticks(range(X.shape[1]), df_with_dummies.columns, rotation=90)\n",
    "# plt.ylim(-5, 5)\n",
    "plt.legend()"
   ]
  },
  {
   "cell_type": "code",
   "execution_count": 12,
   "metadata": {
    "collapsed": false
   },
   "outputs": [
    {
     "data": {
      "text/plain": [
       "array([[  2.93503642e-03,   4.48157447e-03,  -3.89492988e-02,\n",
       "         -1.64868429e-03,  -1.86673798e-01,  -2.98576842e-01,\n",
       "          3.52941036e-01,   1.73131936e-02,  -1.50564944e-01,\n",
       "         -6.64708107e-03,   7.37816947e-02,  -1.79734089e-01,\n",
       "         -2.01598290e-02,   1.87276087e-03,  -9.54591038e-03,\n",
       "          1.31964302e-01,  -2.54120694e-03,  -6.49102059e-02,\n",
       "          1.03445576e-01,  -1.87603463e-02,  -1.23778819e-02,\n",
       "         -3.16743306e-02,  -5.81013537e-02,   9.28105489e-02,\n",
       "         -4.19302259e-02,  -8.89641160e-03,  -9.07479338e-02,\n",
       "         -3.71975286e-02,   6.87299391e-03,   3.28775991e-02,\n",
       "          1.42056372e-01,   3.19827377e-03,  -1.63409161e-04,\n",
       "          1.03108225e-02,  -7.27595784e-03,   4.11112002e-02,\n",
       "         -3.80763356e-02,   1.92173017e-01,  -1.89138153e-01,\n",
       "          1.43679190e-02,   1.41559137e-01,   2.16388101e-02,\n",
       "          1.49059338e-01,   1.44311558e-01,   3.16457063e-01,\n",
       "         -6.50224538e-01,  -1.10005391e-01,   1.37551429e-02,\n",
       "         -3.78841735e-02,  -3.74524513e-02,  -1.24403895e-01,\n",
       "          2.42306656e-02,   6.34792609e-02,   7.71812842e-02,\n",
       "         -2.31692878e-01,   1.76556262e-01,   5.81714807e-02]])"
      ]
     },
     "execution_count": 12,
     "metadata": {},
     "output_type": "execute_result"
    }
   ],
   "source": [
    "logisticregression.coef_"
   ]
  },
  {
   "cell_type": "markdown",
   "metadata": {},
   "source": [
    "### 4. Evaluate the model"
   ]
  },
  {
   "cell_type": "code",
   "execution_count": 19,
   "metadata": {
    "collapsed": true
   },
   "outputs": [],
   "source": [
    "from sklearn import metrics"
   ]
  },
  {
   "cell_type": "code",
   "execution_count": 22,
   "metadata": {
    "collapsed": false
   },
   "outputs": [
    {
     "name": "stdout",
     "output_type": "stream",
     "text": [
      "             precision    recall  f1-score   support\n",
      "\n",
      "          0       0.92      0.97      0.94      6662\n",
      "          1       0.66      0.42      0.51       960\n",
      "\n",
      "avg / total       0.89      0.90      0.89      7622\n",
      "\n"
     ]
    }
   ],
   "source": [
    "expected = y_test\n",
    "predicted = logisticregression.predict(X_test)\n",
    "# summarize the fit of the model\n",
    "print(metrics.classification_report(expected, predicted))"
   ]
  },
  {
   "cell_type": "code",
   "execution_count": 23,
   "metadata": {
    "collapsed": false
   },
   "outputs": [
    {
     "name": "stdout",
     "output_type": "stream",
     "text": [
      "[[6455  207]\n",
      " [ 560  400]]\n"
     ]
    }
   ],
   "source": [
    "print(metrics.confusion_matrix(expected, predicted))"
   ]
  },
  {
   "cell_type": "markdown",
   "metadata": {},
   "source": [
    "### Model 2: Macroeconomic indicators only"
   ]
  },
  {
   "cell_type": "code",
   "execution_count": 36,
   "metadata": {
    "collapsed": true
   },
   "outputs": [],
   "source": [
    "macroeconomic_variables = ['emp.var.rate', 'cons.price.idx', 'cons.conf.idx', 'euribor3m', 'nr.employed', 'y']\n",
    "df_macroeconomic = df_raw[macroeconomic_variables]"
   ]
  },
  {
   "cell_type": "code",
   "execution_count": 37,
   "metadata": {
    "collapsed": false
   },
   "outputs": [
    {
     "data": {
      "text/html": [
       "<div>\n",
       "<table border=\"1\" class=\"dataframe\">\n",
       "  <thead>\n",
       "    <tr style=\"text-align: right;\">\n",
       "      <th></th>\n",
       "      <th>emp.var.rate</th>\n",
       "      <th>cons.price.idx</th>\n",
       "      <th>cons.conf.idx</th>\n",
       "      <th>euribor3m</th>\n",
       "      <th>nr.employed</th>\n",
       "    </tr>\n",
       "  </thead>\n",
       "  <tbody>\n",
       "    <tr>\n",
       "      <th>count</th>\n",
       "      <td>41188.000000</td>\n",
       "      <td>41188.000000</td>\n",
       "      <td>41188.000000</td>\n",
       "      <td>41188.000000</td>\n",
       "      <td>41188.000000</td>\n",
       "    </tr>\n",
       "    <tr>\n",
       "      <th>mean</th>\n",
       "      <td>0.081886</td>\n",
       "      <td>93.575664</td>\n",
       "      <td>-40.502600</td>\n",
       "      <td>3.621291</td>\n",
       "      <td>5167.035911</td>\n",
       "    </tr>\n",
       "    <tr>\n",
       "      <th>std</th>\n",
       "      <td>1.570960</td>\n",
       "      <td>0.578840</td>\n",
       "      <td>4.628198</td>\n",
       "      <td>1.734447</td>\n",
       "      <td>72.251528</td>\n",
       "    </tr>\n",
       "    <tr>\n",
       "      <th>min</th>\n",
       "      <td>-3.400000</td>\n",
       "      <td>92.201000</td>\n",
       "      <td>-50.800000</td>\n",
       "      <td>0.634000</td>\n",
       "      <td>4963.600000</td>\n",
       "    </tr>\n",
       "    <tr>\n",
       "      <th>25%</th>\n",
       "      <td>-1.800000</td>\n",
       "      <td>93.075000</td>\n",
       "      <td>-42.700000</td>\n",
       "      <td>1.344000</td>\n",
       "      <td>5099.100000</td>\n",
       "    </tr>\n",
       "    <tr>\n",
       "      <th>50%</th>\n",
       "      <td>1.100000</td>\n",
       "      <td>93.749000</td>\n",
       "      <td>-41.800000</td>\n",
       "      <td>4.857000</td>\n",
       "      <td>5191.000000</td>\n",
       "    </tr>\n",
       "    <tr>\n",
       "      <th>75%</th>\n",
       "      <td>1.400000</td>\n",
       "      <td>93.994000</td>\n",
       "      <td>-36.400000</td>\n",
       "      <td>4.961000</td>\n",
       "      <td>5228.100000</td>\n",
       "    </tr>\n",
       "    <tr>\n",
       "      <th>max</th>\n",
       "      <td>1.400000</td>\n",
       "      <td>94.767000</td>\n",
       "      <td>-26.900000</td>\n",
       "      <td>5.045000</td>\n",
       "      <td>5228.100000</td>\n",
       "    </tr>\n",
       "  </tbody>\n",
       "</table>\n",
       "</div>"
      ],
      "text/plain": [
       "       emp.var.rate  cons.price.idx  cons.conf.idx     euribor3m   nr.employed\n",
       "count  41188.000000    41188.000000   41188.000000  41188.000000  41188.000000\n",
       "mean       0.081886       93.575664     -40.502600      3.621291   5167.035911\n",
       "std        1.570960        0.578840       4.628198      1.734447     72.251528\n",
       "min       -3.400000       92.201000     -50.800000      0.634000   4963.600000\n",
       "25%       -1.800000       93.075000     -42.700000      1.344000   5099.100000\n",
       "50%        1.100000       93.749000     -41.800000      4.857000   5191.000000\n",
       "75%        1.400000       93.994000     -36.400000      4.961000   5228.100000\n",
       "max        1.400000       94.767000     -26.900000      5.045000   5228.100000"
      ]
     },
     "execution_count": 37,
     "metadata": {},
     "output_type": "execute_result"
    }
   ],
   "source": [
    "df_macroeconomic.describe()"
   ]
  },
  {
   "cell_type": "code",
   "execution_count": 38,
   "metadata": {
    "collapsed": true
   },
   "outputs": [],
   "source": [
    "y_2 = df_macroeconomic['y'].as_matrix() # this step may not be necessary\n",
    "\n",
    "del df_macroeconomic['y']\n",
    "X_2 = df_macroeconomic.as_matrix()"
   ]
  },
  {
   "cell_type": "code",
   "execution_count": 39,
   "metadata": {
    "collapsed": true
   },
   "outputs": [],
   "source": [
    "X_train_2, X_test_2, y_train_2, y_test_2 = train_test_split(X_2, y_2, random_state=0)"
   ]
  },
  {
   "cell_type": "code",
   "execution_count": 42,
   "metadata": {
    "collapsed": false
   },
   "outputs": [
    {
     "name": "stdout",
     "output_type": "stream",
     "text": [
      "training set score: 0.887281\n",
      "test set score: 0.887249\n"
     ]
    }
   ],
   "source": [
    "logisticregression_macroeconomic = LogisticRegression().fit(X_train_2, y_train_2)\n",
    "print(\"training set score: %f\" % logisticregression_macroeconomic.score(X_train_2, y_train_2))\n",
    "print(\"test set score: %f\" % logisticregression_macroeconomic.score(X_test_2, y_test_2))"
   ]
  },
  {
   "cell_type": "code",
   "execution_count": null,
   "metadata": {
    "collapsed": true
   },
   "outputs": [],
   "source": [
    "## Macroeconomic indicators are worse predictors than the null model. Let's exclude it from our model."
   ]
  },
  {
   "cell_type": "markdown",
   "metadata": {},
   "source": [
    "### Model 3: User attributes only"
   ]
  },
  {
   "cell_type": "code",
   "execution_count": 110,
   "metadata": {
    "collapsed": false
   },
   "outputs": [],
   "source": [
    "macroeconomic_variables_without_y = ['emp.var.rate', 'cons.price.idx', 'cons.conf.idx', 'euribor3m', 'nr.employed']\n",
    "df_without_macroeconomic = df_with_dummies"
   ]
  },
  {
   "cell_type": "code",
   "execution_count": 78,
   "metadata": {
    "collapsed": false
   },
   "outputs": [],
   "source": [
    "for var in macroeconomic_variables_without_y:\n",
    "    del df_without_macroeconomic[var]"
   ]
  },
  {
   "cell_type": "code",
   "execution_count": 79,
   "metadata": {
    "collapsed": false
   },
   "outputs": [],
   "source": [
    "y_3 = df_without_macroeconomic['y_yes'].as_matrix() # this step may not be necessary\n",
    "\n",
    "del df_without_macroeconomic['y_yes']\n",
    "del df_without_macroeconomic['y_no']\n",
    "X_3 = df_without_macroeconomic.as_matrix()"
   ]
  },
  {
   "cell_type": "code",
   "execution_count": 80,
   "metadata": {
    "collapsed": false
   },
   "outputs": [
    {
     "data": {
      "text/html": [
       "<div>\n",
       "<table border=\"1\" class=\"dataframe\">\n",
       "  <thead>\n",
       "    <tr style=\"text-align: right;\">\n",
       "      <th></th>\n",
       "      <th>age</th>\n",
       "      <th>duration</th>\n",
       "      <th>campaign</th>\n",
       "      <th>pdays</th>\n",
       "      <th>previous</th>\n",
       "      <th>job_admin.</th>\n",
       "      <th>job_blue-collar</th>\n",
       "      <th>job_entrepreneur</th>\n",
       "      <th>job_housemaid</th>\n",
       "      <th>job_management</th>\n",
       "      <th>job_retired</th>\n",
       "      <th>job_self-employed</th>\n",
       "      <th>job_services</th>\n",
       "      <th>job_student</th>\n",
       "      <th>job_technician</th>\n",
       "      <th>job_unemployed</th>\n",
       "      <th>job_unknown</th>\n",
       "      <th>marital_divorced</th>\n",
       "      <th>marital_married</th>\n",
       "      <th>marital_single</th>\n",
       "      <th>marital_unknown</th>\n",
       "      <th>education_basic.4y</th>\n",
       "      <th>education_basic.6y</th>\n",
       "      <th>education_basic.9y</th>\n",
       "      <th>education_high.school</th>\n",
       "      <th>...</th>\n",
       "      <th>housing_unknown</th>\n",
       "      <th>housing_yes</th>\n",
       "      <th>loan_no</th>\n",
       "      <th>loan_unknown</th>\n",
       "      <th>loan_yes</th>\n",
       "      <th>contact_cellular</th>\n",
       "      <th>contact_telephone</th>\n",
       "      <th>month_apr</th>\n",
       "      <th>month_aug</th>\n",
       "      <th>month_dec</th>\n",
       "      <th>month_jul</th>\n",
       "      <th>month_jun</th>\n",
       "      <th>month_mar</th>\n",
       "      <th>month_may</th>\n",
       "      <th>month_nov</th>\n",
       "      <th>month_oct</th>\n",
       "      <th>month_sep</th>\n",
       "      <th>day_of_week_fri</th>\n",
       "      <th>day_of_week_mon</th>\n",
       "      <th>day_of_week_thu</th>\n",
       "      <th>day_of_week_tue</th>\n",
       "      <th>day_of_week_wed</th>\n",
       "      <th>poutcome_failure</th>\n",
       "      <th>poutcome_nonexistent</th>\n",
       "      <th>poutcome_success</th>\n",
       "    </tr>\n",
       "  </thead>\n",
       "  <tbody>\n",
       "    <tr>\n",
       "      <th>0</th>\n",
       "      <td>56</td>\n",
       "      <td>261</td>\n",
       "      <td>1</td>\n",
       "      <td>999</td>\n",
       "      <td>0</td>\n",
       "      <td>0</td>\n",
       "      <td>0</td>\n",
       "      <td>0</td>\n",
       "      <td>1</td>\n",
       "      <td>0</td>\n",
       "      <td>0</td>\n",
       "      <td>0</td>\n",
       "      <td>0</td>\n",
       "      <td>0</td>\n",
       "      <td>0</td>\n",
       "      <td>0</td>\n",
       "      <td>0</td>\n",
       "      <td>0</td>\n",
       "      <td>1</td>\n",
       "      <td>0</td>\n",
       "      <td>0</td>\n",
       "      <td>1</td>\n",
       "      <td>0</td>\n",
       "      <td>0</td>\n",
       "      <td>0</td>\n",
       "      <td>...</td>\n",
       "      <td>0</td>\n",
       "      <td>0</td>\n",
       "      <td>1</td>\n",
       "      <td>0</td>\n",
       "      <td>0</td>\n",
       "      <td>0</td>\n",
       "      <td>1</td>\n",
       "      <td>0</td>\n",
       "      <td>0</td>\n",
       "      <td>0</td>\n",
       "      <td>0</td>\n",
       "      <td>0</td>\n",
       "      <td>0</td>\n",
       "      <td>1</td>\n",
       "      <td>0</td>\n",
       "      <td>0</td>\n",
       "      <td>0</td>\n",
       "      <td>0</td>\n",
       "      <td>1</td>\n",
       "      <td>0</td>\n",
       "      <td>0</td>\n",
       "      <td>0</td>\n",
       "      <td>0</td>\n",
       "      <td>1</td>\n",
       "      <td>0</td>\n",
       "    </tr>\n",
       "    <tr>\n",
       "      <th>1</th>\n",
       "      <td>57</td>\n",
       "      <td>149</td>\n",
       "      <td>1</td>\n",
       "      <td>999</td>\n",
       "      <td>0</td>\n",
       "      <td>0</td>\n",
       "      <td>0</td>\n",
       "      <td>0</td>\n",
       "      <td>0</td>\n",
       "      <td>0</td>\n",
       "      <td>0</td>\n",
       "      <td>0</td>\n",
       "      <td>1</td>\n",
       "      <td>0</td>\n",
       "      <td>0</td>\n",
       "      <td>0</td>\n",
       "      <td>0</td>\n",
       "      <td>0</td>\n",
       "      <td>1</td>\n",
       "      <td>0</td>\n",
       "      <td>0</td>\n",
       "      <td>0</td>\n",
       "      <td>0</td>\n",
       "      <td>0</td>\n",
       "      <td>1</td>\n",
       "      <td>...</td>\n",
       "      <td>0</td>\n",
       "      <td>0</td>\n",
       "      <td>1</td>\n",
       "      <td>0</td>\n",
       "      <td>0</td>\n",
       "      <td>0</td>\n",
       "      <td>1</td>\n",
       "      <td>0</td>\n",
       "      <td>0</td>\n",
       "      <td>0</td>\n",
       "      <td>0</td>\n",
       "      <td>0</td>\n",
       "      <td>0</td>\n",
       "      <td>1</td>\n",
       "      <td>0</td>\n",
       "      <td>0</td>\n",
       "      <td>0</td>\n",
       "      <td>0</td>\n",
       "      <td>1</td>\n",
       "      <td>0</td>\n",
       "      <td>0</td>\n",
       "      <td>0</td>\n",
       "      <td>0</td>\n",
       "      <td>1</td>\n",
       "      <td>0</td>\n",
       "    </tr>\n",
       "    <tr>\n",
       "      <th>2</th>\n",
       "      <td>37</td>\n",
       "      <td>226</td>\n",
       "      <td>1</td>\n",
       "      <td>999</td>\n",
       "      <td>0</td>\n",
       "      <td>0</td>\n",
       "      <td>0</td>\n",
       "      <td>0</td>\n",
       "      <td>0</td>\n",
       "      <td>0</td>\n",
       "      <td>0</td>\n",
       "      <td>0</td>\n",
       "      <td>1</td>\n",
       "      <td>0</td>\n",
       "      <td>0</td>\n",
       "      <td>0</td>\n",
       "      <td>0</td>\n",
       "      <td>0</td>\n",
       "      <td>1</td>\n",
       "      <td>0</td>\n",
       "      <td>0</td>\n",
       "      <td>0</td>\n",
       "      <td>0</td>\n",
       "      <td>0</td>\n",
       "      <td>1</td>\n",
       "      <td>...</td>\n",
       "      <td>0</td>\n",
       "      <td>1</td>\n",
       "      <td>1</td>\n",
       "      <td>0</td>\n",
       "      <td>0</td>\n",
       "      <td>0</td>\n",
       "      <td>1</td>\n",
       "      <td>0</td>\n",
       "      <td>0</td>\n",
       "      <td>0</td>\n",
       "      <td>0</td>\n",
       "      <td>0</td>\n",
       "      <td>0</td>\n",
       "      <td>1</td>\n",
       "      <td>0</td>\n",
       "      <td>0</td>\n",
       "      <td>0</td>\n",
       "      <td>0</td>\n",
       "      <td>1</td>\n",
       "      <td>0</td>\n",
       "      <td>0</td>\n",
       "      <td>0</td>\n",
       "      <td>0</td>\n",
       "      <td>1</td>\n",
       "      <td>0</td>\n",
       "    </tr>\n",
       "    <tr>\n",
       "      <th>3</th>\n",
       "      <td>40</td>\n",
       "      <td>151</td>\n",
       "      <td>1</td>\n",
       "      <td>999</td>\n",
       "      <td>0</td>\n",
       "      <td>1</td>\n",
       "      <td>0</td>\n",
       "      <td>0</td>\n",
       "      <td>0</td>\n",
       "      <td>0</td>\n",
       "      <td>0</td>\n",
       "      <td>0</td>\n",
       "      <td>0</td>\n",
       "      <td>0</td>\n",
       "      <td>0</td>\n",
       "      <td>0</td>\n",
       "      <td>0</td>\n",
       "      <td>0</td>\n",
       "      <td>1</td>\n",
       "      <td>0</td>\n",
       "      <td>0</td>\n",
       "      <td>0</td>\n",
       "      <td>1</td>\n",
       "      <td>0</td>\n",
       "      <td>0</td>\n",
       "      <td>...</td>\n",
       "      <td>0</td>\n",
       "      <td>0</td>\n",
       "      <td>1</td>\n",
       "      <td>0</td>\n",
       "      <td>0</td>\n",
       "      <td>0</td>\n",
       "      <td>1</td>\n",
       "      <td>0</td>\n",
       "      <td>0</td>\n",
       "      <td>0</td>\n",
       "      <td>0</td>\n",
       "      <td>0</td>\n",
       "      <td>0</td>\n",
       "      <td>1</td>\n",
       "      <td>0</td>\n",
       "      <td>0</td>\n",
       "      <td>0</td>\n",
       "      <td>0</td>\n",
       "      <td>1</td>\n",
       "      <td>0</td>\n",
       "      <td>0</td>\n",
       "      <td>0</td>\n",
       "      <td>0</td>\n",
       "      <td>1</td>\n",
       "      <td>0</td>\n",
       "    </tr>\n",
       "    <tr>\n",
       "      <th>4</th>\n",
       "      <td>56</td>\n",
       "      <td>307</td>\n",
       "      <td>1</td>\n",
       "      <td>999</td>\n",
       "      <td>0</td>\n",
       "      <td>0</td>\n",
       "      <td>0</td>\n",
       "      <td>0</td>\n",
       "      <td>0</td>\n",
       "      <td>0</td>\n",
       "      <td>0</td>\n",
       "      <td>0</td>\n",
       "      <td>1</td>\n",
       "      <td>0</td>\n",
       "      <td>0</td>\n",
       "      <td>0</td>\n",
       "      <td>0</td>\n",
       "      <td>0</td>\n",
       "      <td>1</td>\n",
       "      <td>0</td>\n",
       "      <td>0</td>\n",
       "      <td>0</td>\n",
       "      <td>0</td>\n",
       "      <td>0</td>\n",
       "      <td>1</td>\n",
       "      <td>...</td>\n",
       "      <td>0</td>\n",
       "      <td>0</td>\n",
       "      <td>0</td>\n",
       "      <td>0</td>\n",
       "      <td>1</td>\n",
       "      <td>0</td>\n",
       "      <td>1</td>\n",
       "      <td>0</td>\n",
       "      <td>0</td>\n",
       "      <td>0</td>\n",
       "      <td>0</td>\n",
       "      <td>0</td>\n",
       "      <td>0</td>\n",
       "      <td>1</td>\n",
       "      <td>0</td>\n",
       "      <td>0</td>\n",
       "      <td>0</td>\n",
       "      <td>0</td>\n",
       "      <td>1</td>\n",
       "      <td>0</td>\n",
       "      <td>0</td>\n",
       "      <td>0</td>\n",
       "      <td>0</td>\n",
       "      <td>1</td>\n",
       "      <td>0</td>\n",
       "    </tr>\n",
       "  </tbody>\n",
       "</table>\n",
       "<p>5 rows × 58 columns</p>\n",
       "</div>"
      ],
      "text/plain": [
       "   age  duration  campaign  pdays  previous  job_admin.  job_blue-collar  \\\n",
       "0   56       261         1    999         0           0                0   \n",
       "1   57       149         1    999         0           0                0   \n",
       "2   37       226         1    999         0           0                0   \n",
       "3   40       151         1    999         0           1                0   \n",
       "4   56       307         1    999         0           0                0   \n",
       "\n",
       "   job_entrepreneur  job_housemaid  job_management  job_retired  \\\n",
       "0                 0              1               0            0   \n",
       "1                 0              0               0            0   \n",
       "2                 0              0               0            0   \n",
       "3                 0              0               0            0   \n",
       "4                 0              0               0            0   \n",
       "\n",
       "   job_self-employed  job_services  job_student  job_technician  \\\n",
       "0                  0             0            0               0   \n",
       "1                  0             1            0               0   \n",
       "2                  0             1            0               0   \n",
       "3                  0             0            0               0   \n",
       "4                  0             1            0               0   \n",
       "\n",
       "   job_unemployed  job_unknown  marital_divorced  marital_married  \\\n",
       "0               0            0                 0                1   \n",
       "1               0            0                 0                1   \n",
       "2               0            0                 0                1   \n",
       "3               0            0                 0                1   \n",
       "4               0            0                 0                1   \n",
       "\n",
       "   marital_single  marital_unknown  education_basic.4y  education_basic.6y  \\\n",
       "0               0                0                   1                   0   \n",
       "1               0                0                   0                   0   \n",
       "2               0                0                   0                   0   \n",
       "3               0                0                   0                   1   \n",
       "4               0                0                   0                   0   \n",
       "\n",
       "   education_basic.9y  education_high.school        ...         \\\n",
       "0                   0                      0        ...          \n",
       "1                   0                      1        ...          \n",
       "2                   0                      1        ...          \n",
       "3                   0                      0        ...          \n",
       "4                   0                      1        ...          \n",
       "\n",
       "   housing_unknown  housing_yes  loan_no  loan_unknown  loan_yes  \\\n",
       "0                0            0        1             0         0   \n",
       "1                0            0        1             0         0   \n",
       "2                0            1        1             0         0   \n",
       "3                0            0        1             0         0   \n",
       "4                0            0        0             0         1   \n",
       "\n",
       "   contact_cellular  contact_telephone  month_apr  month_aug  month_dec  \\\n",
       "0                 0                  1          0          0          0   \n",
       "1                 0                  1          0          0          0   \n",
       "2                 0                  1          0          0          0   \n",
       "3                 0                  1          0          0          0   \n",
       "4                 0                  1          0          0          0   \n",
       "\n",
       "   month_jul  month_jun  month_mar  month_may  month_nov  month_oct  \\\n",
       "0          0          0          0          1          0          0   \n",
       "1          0          0          0          1          0          0   \n",
       "2          0          0          0          1          0          0   \n",
       "3          0          0          0          1          0          0   \n",
       "4          0          0          0          1          0          0   \n",
       "\n",
       "   month_sep  day_of_week_fri  day_of_week_mon  day_of_week_thu  \\\n",
       "0          0                0                1                0   \n",
       "1          0                0                1                0   \n",
       "2          0                0                1                0   \n",
       "3          0                0                1                0   \n",
       "4          0                0                1                0   \n",
       "\n",
       "   day_of_week_tue  day_of_week_wed  poutcome_failure  poutcome_nonexistent  \\\n",
       "0                0                0                 0                     1   \n",
       "1                0                0                 0                     1   \n",
       "2                0                0                 0                     1   \n",
       "3                0                0                 0                     1   \n",
       "4                0                0                 0                     1   \n",
       "\n",
       "   poutcome_success  \n",
       "0                 0  \n",
       "1                 0  \n",
       "2                 0  \n",
       "3                 0  \n",
       "4                 0  \n",
       "\n",
       "[5 rows x 58 columns]"
      ]
     },
     "execution_count": 80,
     "metadata": {},
     "output_type": "execute_result"
    }
   ],
   "source": [
    "df_without_macroeconomic.head()"
   ]
  },
  {
   "cell_type": "code",
   "execution_count": 81,
   "metadata": {
    "collapsed": true
   },
   "outputs": [],
   "source": [
    "X_train_3, X_test_3, y_train_3, y_test_3 = train_test_split(X_3, y_3, random_state=0)"
   ]
  },
  {
   "cell_type": "code",
   "execution_count": 86,
   "metadata": {
    "collapsed": false
   },
   "outputs": [
    {
     "name": "stdout",
     "output_type": "stream",
     "text": [
      "training set score: 0.905021\n",
      "test set score: 0.907449\n"
     ]
    }
   ],
   "source": [
    "logisticregression_user_attributes_001 = LogisticRegression(C=0.01).fit(X_train_3, y_train_3)\n",
    "logisticregression_user_attributes_1 = LogisticRegression(C=1).fit(X_train_3, y_train_3)\n",
    "logisticregression_user_attributes_100 = LogisticRegression(C=100).fit(X_train_3, y_train_3)\n",
    "\n",
    "print(\"training set score: %f\" % logisticregression_user_attributes.score(X_train_3, y_train_3))\n",
    "print(\"test set score: %f\" % logisticregression_user_attributes.score(X_test_3, y_test_3))"
   ]
  },
  {
   "cell_type": "code",
   "execution_count": null,
   "metadata": {
    "collapsed": true
   },
   "outputs": [],
   "source": [
    "len(X_train_)"
   ]
  },
  {
   "cell_type": "code",
   "execution_count": 98,
   "metadata": {
    "collapsed": false
   },
   "outputs": [
    {
     "data": {
      "text/plain": [
       "<matplotlib.legend.Legend at 0x11adbc190>"
      ]
     },
     "execution_count": 98,
     "metadata": {},
     "output_type": "execute_result"
    },
    {
     "data": {
      "image/png": "[encoded data removed]",
      "text/plain": [
       "<matplotlib.figure.Figure at 0x11e46a9d0>"
      ]
     },
     "metadata": {},
     "output_type": "display_data"
    }
   ],
   "source": [
    "plt.figure(figsize=(16,9))\n",
    "\n",
    "plt.plot(logisticregression_user_attributes_001.coef_.T, 'o', label=\"C=0.01\")\n",
    "plt.plot(logisticregression_user_attributes_1.coef_.T, 'o', label=\"C=1\")\n",
    "plt.plot(logisticregression_user_attributes_100.coef_.T, 'o', label=\"C=100\")\n",
    "plt.xticks(range(X.shape[1]), df_without_macroeconomic.columns, rotation=90)\n",
    "# plt.ylim(-5, 5)\n",
    "plt.legend()\n",
    "\n",
    "# Note: the last value in the x-axis is 'poutcome_success'. For some reason, it is not showing."
   ]
  },
  {
   "cell_type": "code",
   "execution_count": 105,
   "metadata": {
    "collapsed": false,
    "scrolled": true
   },
   "outputs": [
    {
     "name": "stdout",
     "output_type": "stream",
     "text": [
      "             precision    recall  f1-score   support\n",
      "\n",
      "          0       0.92      0.98      0.95     36548\n",
      "          1       0.66      0.36      0.47      4640\n",
      "\n",
      "avg / total       0.89      0.91      0.89     41188\n",
      "\n",
      "[[35689   859]\n",
      " [ 2961  1679]]\n"
     ]
    }
   ],
   "source": [
    "# Evaluating our model\n",
    "from sklearn import metrics\n",
    "\n",
    "expected = y_3\n",
    "predicted = logisticregression_user_attributes_1.predict(X_3)\n",
    "print(metrics.classification_report(expected, predicted))\n",
    "print(metrics.confusion_matrix(expected, predicted))\n",
    "# confusion matrix is in this format: [[true_positive, false_negatives]]\n",
    "#                                     [[false_positive, true_negative ]]"
   ]
  },
  {
   "cell_type": "code",
   "execution_count": 106,
   "metadata": {
    "collapsed": false
   },
   "outputs": [
    {
     "name": "stdout",
     "output_type": "stream",
     "text": [
      "0.907254540157\n"
     ]
    }
   ],
   "source": [
    "# Accuracy score of our model\n",
    "print(metrics.accuracy_score(expected, predicted))"
   ]
  },
  {
   "cell_type": "markdown",
   "metadata": {},
   "source": [
    "## Tuning hyper-parameters"
   ]
  },
  {
   "cell_type": "code",
   "execution_count": 173,
   "metadata": {
    "collapsed": false
   },
   "outputs": [],
   "source": [
    "from sklearn.model_selection import GridSearchCV"
   ]
  },
  {
   "cell_type": "code",
   "execution_count": 170,
   "metadata": {
    "collapsed": false
   },
   "outputs": [
    {
     "data": {
      "text/plain": [
       "{'C': 1,\n",
       " 'class_weight': None,\n",
       " 'dual': False,\n",
       " 'fit_intercept': True,\n",
       " 'intercept_scaling': 1,\n",
       " 'max_iter': 100,\n",
       " 'multi_class': 'ovr',\n",
       " 'n_jobs': 1,\n",
       " 'penalty': 'l2',\n",
       " 'random_state': None,\n",
       " 'solver': 'liblinear',\n",
       " 'tol': 0.0001,\n",
       " 'verbose': 0,\n",
       " 'warm_start': False}"
      ]
     },
     "execution_count": 170,
     "metadata": {},
     "output_type": "execute_result"
    }
   ],
   "source": [
    "logisticregression_user_attributes_1.get_params()"
   ]
  },
  {
   "cell_type": "code",
   "execution_count": 190,
   "metadata": {
    "collapsed": false
   },
   "outputs": [
    {
     "name": "stdout",
     "output_type": "stream",
     "text": [
      "   mean_fit_time  mean_score_time  mean_test_score  mean_train_score param_C  \\\n",
      "0       0.111408         0.001172         0.905247          0.905547    0.01   \n",
      "1       0.128449         0.000780         0.905604          0.905725     0.1   \n",
      "2       0.121107         0.000734         0.905863          0.906122       1   \n",
      "3       0.123734         0.000727         0.905895          0.906049      10   \n",
      "4       0.121836         0.000726         0.906122          0.906000     100   \n",
      "\n",
      "         params  rank_test_score  split0_test_score  split0_train_score  \\\n",
      "0  {u'C': 0.01}                5           0.905001            0.905471   \n",
      "1   {u'C': 0.1}                4           0.903382            0.905026   \n",
      "2     {u'C': 1}                3           0.905324            0.906038   \n",
      "3    {u'C': 10}                2           0.905163            0.906038   \n",
      "4   {u'C': 100}                1           0.905163            0.906038   \n",
      "\n",
      "   split1_test_score  split1_train_score  split2_test_score  \\\n",
      "0           0.905648            0.905390           0.902072   \n",
      "1           0.905001            0.905309           0.904338   \n",
      "2           0.904839            0.905916           0.903043   \n",
      "3           0.905001            0.905916           0.903529   \n",
      "4           0.905810            0.906118           0.904014   \n",
      "\n",
      "   split2_train_score  split3_test_score  split3_train_score  \\\n",
      "0            0.906972           0.907413            0.904827   \n",
      "1            0.906972           0.905957            0.906325   \n",
      "2            0.907458           0.906442            0.906082   \n",
      "3            0.907296           0.905795            0.905718   \n",
      "4            0.906527           0.906442            0.906082   \n",
      "\n",
      "   split4_test_score  split4_train_score  std_fit_time  std_score_time  \\\n",
      "0           0.906103            0.905074      0.014681        0.000628   \n",
      "1           0.909341            0.904993      0.012545        0.000061   \n",
      "2           0.909665            0.905115      0.001393        0.000007   \n",
      "3           0.909989            0.905276      0.008710        0.000003   \n",
      "4           0.909179            0.905236      0.007586        0.000011   \n",
      "\n",
      "   std_test_score  std_train_score  \n",
      "0        0.001774         0.000749  \n",
      "1        0.002049         0.000789  \n",
      "2        0.002194         0.000755  \n",
      "3        0.002177         0.000675  \n",
      "4        0.001727         0.000420  \n"
     ]
    }
   ],
   "source": [
    "logisticregression_user_attributes = LogisticRegression()\n",
    "\n",
    "param_grid = {'C': [0.01, 0.1, 1, 10, 100]}\n",
    "# using the default scoring of accuracy:\n",
    "grid = GridSearchCV(estimator=logisticregression_user_attributes, param_grid=param_grid, cv=5)\n",
    "grid.fit(X_train_3, y_train_3)\n",
    "\n",
    "# print(\"training set score: \")\n",
    "print(pd.DataFrame(grid.cv_results_))\n",
    "# print(\"test set score: %f\" % logisticregression_user_attributes_CV.score(X_test_3, y_test_3))"
   ]
  },
  {
   "cell_type": "code",
   "execution_count": 191,
   "metadata": {
    "collapsed": false
   },
   "outputs": [
    {
     "name": "stdout",
     "output_type": "stream",
     "text": [
      "('Best estimator:', LogisticRegression(C=100, class_weight=None, dual=False, fit_intercept=True,\n",
      "          intercept_scaling=1, max_iter=100, multi_class='ovr', n_jobs=1,\n",
      "          penalty='l2', random_state=None, solver='liblinear', tol=0.0001,\n",
      "          verbose=0, warm_start=False))\n",
      "('Best score:', 0.90612152406849888)\n"
     ]
    }
   ],
   "source": [
    "print(\"Best estimator:\", grid.best_estimator_)\n",
    "print(\"Best score:\", grid.best_score_)"
   ]
  },
  {
   "cell_type": "markdown",
   "metadata": {},
   "source": [
    "## Random forest classifier, optimized with gridsearch"
   ]
  },
  {
   "cell_type": "code",
   "execution_count": 193,
   "metadata": {
    "collapsed": false
   },
   "outputs": [
    {
     "name": "stdout",
     "output_type": "stream",
     "text": [
      "     mean_fit_time  mean_score_time  mean_test_score  mean_train_score  \\\n",
      "0         0.055655         0.008634         0.887281          0.887281   \n",
      "1         0.055394         0.008158         0.887281          0.887281   \n",
      "2         0.055164         0.008245         0.887281          0.887281   \n",
      "3         0.054616         0.007888         0.887281          0.887281   \n",
      "4         0.054444         0.007788         0.887281          0.887281   \n",
      "5         0.053256         0.007977         0.887281          0.887281   \n",
      "6         0.056058         0.008043         0.887281          0.887281   \n",
      "7         0.053368         0.007954         0.887281          0.887281   \n",
      "8         0.054658         0.008215         0.887281          0.887281   \n",
      "9         0.063058         0.007751         0.888058          0.887961   \n",
      "10        0.063136         0.007988         0.887313          0.887313   \n",
      "11        0.063602         0.007719         0.887313          0.887305   \n",
      "12        0.062428         0.007739         0.887540          0.887556   \n",
      "13        0.062401         0.007778         0.887670          0.887904   \n",
      "14        0.060813         0.007579         0.887346          0.887297   \n",
      "15        0.060906         0.007820         0.887281          0.887289   \n",
      "16        0.061247         0.008311         0.887411          0.887508   \n",
      "17        0.063096         0.007720         0.887346          0.887419   \n",
      "18        0.089327         0.007842         0.897511          0.897349   \n",
      "19        0.094234         0.008401         0.899906          0.900626   \n",
      "20        0.089438         0.007747         0.897057          0.897494   \n",
      "21        0.092873         0.007894         0.895665          0.896596   \n",
      "22        0.091206         0.007842         0.897640          0.898004   \n",
      "23        0.092032         0.007773         0.897770          0.898352   \n",
      "24        0.090176         0.008309         0.896151          0.896378   \n",
      "25        0.090133         0.008574         0.899615          0.899938   \n",
      "26        0.090745         0.007758         0.898190          0.899129   \n",
      "27        0.129183         0.018378         0.897057          0.987577   \n",
      "28        0.128239         0.017446         0.896216          0.977210   \n",
      "29        0.112641         0.015354         0.898708          0.924541   \n",
      "..             ...              ...              ...               ...   \n",
      "186       0.112206         0.007850         0.899647          0.900319   \n",
      "187       0.109512         0.007801         0.895601          0.895973   \n",
      "188       0.111943         0.008079         0.898385          0.898830   \n",
      "189       0.187647         0.019117         0.894662          1.000000   \n",
      "190       0.182505         0.019845         0.896345          0.999838   \n",
      "191       0.160072         0.016354         0.898741          0.947477   \n",
      "192       0.121678         0.013364         0.896183          0.903346   \n",
      "193       0.117210         0.013445         0.895277          0.902318   \n",
      "194       0.115098         0.013376         0.893820          0.899372   \n",
      "195       0.093381         0.011570         0.889385          0.890356   \n",
      "196       0.096936         0.011208         0.890842          0.892258   \n",
      "197       0.101380         0.011785         0.890195          0.892331   \n",
      "198       0.240002         0.020732         0.897478          1.000000   \n",
      "199       0.237948         0.018968         0.900456          0.999911   \n",
      "200       0.209639         0.016604         0.903791          0.963234   \n",
      "201       0.184968         0.015437         0.902690          0.921733   \n",
      "202       0.183402         0.014651         0.901233          0.920802   \n",
      "203       0.182826         0.015168         0.901395          0.917856   \n",
      "204       0.159771         0.013127         0.900748          0.903815   \n",
      "205       0.153362         0.012515         0.899000          0.902828   \n",
      "206       0.157020         0.012898         0.900262          0.903880   \n",
      "207       0.420362         0.015384         0.900392          1.000000   \n",
      "208       0.416209         0.015662         0.902302          0.999976   \n",
      "209       0.381853         0.014794         0.903467          0.985732   \n",
      "210       0.368006         0.013954         0.906898          0.977631   \n",
      "211       0.367323         0.013819         0.906769          0.977429   \n",
      "212       0.361545         0.013466         0.905345          0.970242   \n",
      "213       0.334149         0.012127         0.906737          0.932755   \n",
      "214       0.327110         0.011903         0.906219          0.932391   \n",
      "215       0.334438         0.012191         0.906024          0.932610   \n",
      "\n",
      "    param_bootstrap param_criterion param_max_depth param_max_features  \\\n",
      "0              True            gini               3                  1   \n",
      "1              True            gini               3                  1   \n",
      "2              True            gini               3                  1   \n",
      "3              True            gini               3                  1   \n",
      "4              True            gini               3                  1   \n",
      "5              True            gini               3                  1   \n",
      "6              True            gini               3                  1   \n",
      "7              True            gini               3                  1   \n",
      "8              True            gini               3                  1   \n",
      "9              True            gini               3                  3   \n",
      "10             True            gini               3                  3   \n",
      "11             True            gini               3                  3   \n",
      "12             True            gini               3                  3   \n",
      "13             True            gini               3                  3   \n",
      "14             True            gini               3                  3   \n",
      "15             True            gini               3                  3   \n",
      "16             True            gini               3                  3   \n",
      "17             True            gini               3                  3   \n",
      "18             True            gini               3                 10   \n",
      "19             True            gini               3                 10   \n",
      "20             True            gini               3                 10   \n",
      "21             True            gini               3                 10   \n",
      "22             True            gini               3                 10   \n",
      "23             True            gini               3                 10   \n",
      "24             True            gini               3                 10   \n",
      "25             True            gini               3                 10   \n",
      "26             True            gini               3                 10   \n",
      "27             True            gini            None                  1   \n",
      "28             True            gini            None                  1   \n",
      "29             True            gini            None                  1   \n",
      "..              ...             ...             ...                ...   \n",
      "186           False         entropy               3                 10   \n",
      "187           False         entropy               3                 10   \n",
      "188           False         entropy               3                 10   \n",
      "189           False         entropy            None                  1   \n",
      "190           False         entropy            None                  1   \n",
      "191           False         entropy            None                  1   \n",
      "192           False         entropy            None                  1   \n",
      "193           False         entropy            None                  1   \n",
      "194           False         entropy            None                  1   \n",
      "195           False         entropy            None                  1   \n",
      "196           False         entropy            None                  1   \n",
      "197           False         entropy            None                  1   \n",
      "198           False         entropy            None                  3   \n",
      "199           False         entropy            None                  3   \n",
      "200           False         entropy            None                  3   \n",
      "201           False         entropy            None                  3   \n",
      "202           False         entropy            None                  3   \n",
      "203           False         entropy            None                  3   \n",
      "204           False         entropy            None                  3   \n",
      "205           False         entropy            None                  3   \n",
      "206           False         entropy            None                  3   \n",
      "207           False         entropy            None                 10   \n",
      "208           False         entropy            None                 10   \n",
      "209           False         entropy            None                 10   \n",
      "210           False         entropy            None                 10   \n",
      "211           False         entropy            None                 10   \n",
      "212           False         entropy            None                 10   \n",
      "213           False         entropy            None                 10   \n",
      "214           False         entropy            None                 10   \n",
      "215           False         entropy            None                 10   \n",
      "\n",
      "    param_min_samples_leaf param_min_samples_split  \\\n",
      "0                        1                       2   \n",
      "1                        1                       3   \n",
      "2                        1                      10   \n",
      "3                        3                       2   \n",
      "4                        3                       3   \n",
      "5                        3                      10   \n",
      "6                       10                       2   \n",
      "7                       10                       3   \n",
      "8                       10                      10   \n",
      "9                        1                       2   \n",
      "10                       1                       3   \n",
      "11                       1                      10   \n",
      "12                       3                       2   \n",
      "13                       3                       3   \n",
      "14                       3                      10   \n",
      "15                      10                       2   \n",
      "16                      10                       3   \n",
      "17                      10                      10   \n",
      "18                       1                       2   \n",
      "19                       1                       3   \n",
      "20                       1                      10   \n",
      "21                       3                       2   \n",
      "22                       3                       3   \n",
      "23                       3                      10   \n",
      "24                      10                       2   \n",
      "25                      10                       3   \n",
      "26                      10                      10   \n",
      "27                       1                       2   \n",
      "28                       1                       3   \n",
      "29                       1                      10   \n",
      "..                     ...                     ...   \n",
      "186                     10                       2   \n",
      "187                     10                       3   \n",
      "188                     10                      10   \n",
      "189                      1                       2   \n",
      "190                      1                       3   \n",
      "191                      1                      10   \n",
      "192                      3                       2   \n",
      "193                      3                       3   \n",
      "194                      3                      10   \n",
      "195                     10                       2   \n",
      "196                     10                       3   \n",
      "197                     10                      10   \n",
      "198                      1                       2   \n",
      "199                      1                       3   \n",
      "200                      1                      10   \n",
      "201                      3                       2   \n",
      "202                      3                       3   \n",
      "203                      3                      10   \n",
      "204                     10                       2   \n",
      "205                     10                       3   \n",
      "206                     10                      10   \n",
      "207                      1                       2   \n",
      "208                      1                       3   \n",
      "209                      1                      10   \n",
      "210                      3                       2   \n",
      "211                      3                       3   \n",
      "212                      3                      10   \n",
      "213                     10                       2   \n",
      "214                     10                       3   \n",
      "215                     10                      10   \n",
      "\n",
      "                                                params  rank_test_score  \\\n",
      "0    {u'bootstrap': True, u'min_samples_leaf': 1, u...              171   \n",
      "1    {u'bootstrap': True, u'min_samples_leaf': 1, u...              171   \n",
      "2    {u'bootstrap': True, u'min_samples_leaf': 1, u...              171   \n",
      "3    {u'bootstrap': True, u'min_samples_leaf': 3, u...              171   \n",
      "4    {u'bootstrap': True, u'min_samples_leaf': 3, u...              171   \n",
      "5    {u'bootstrap': True, u'min_samples_leaf': 3, u...              171   \n",
      "6    {u'bootstrap': True, u'min_samples_leaf': 10, ...              171   \n",
      "7    {u'bootstrap': True, u'min_samples_leaf': 10, ...              171   \n",
      "8    {u'bootstrap': True, u'min_samples_leaf': 10, ...              171   \n",
      "9    {u'bootstrap': True, u'min_samples_leaf': 1, u...              144   \n",
      "10   {u'bootstrap': True, u'min_samples_leaf': 1, u...              165   \n",
      "11   {u'bootstrap': True, u'min_samples_leaf': 1, u...              165   \n",
      "12   {u'bootstrap': True, u'min_samples_leaf': 3, u...              151   \n",
      "13   {u'bootstrap': True, u'min_samples_leaf': 3, u...              148   \n",
      "14   {u'bootstrap': True, u'min_samples_leaf': 3, u...              160   \n",
      "15   {u'bootstrap': True, u'min_samples_leaf': 10, ...              171   \n",
      "16   {u'bootstrap': True, u'min_samples_leaf': 10, ...              156   \n",
      "17   {u'bootstrap': True, u'min_samples_leaf': 10, ...              160   \n",
      "18   {u'bootstrap': True, u'min_samples_leaf': 1, u...               97   \n",
      "19   {u'bootstrap': True, u'min_samples_leaf': 1, u...               66   \n",
      "20   {u'bootstrap': True, u'min_samples_leaf': 1, u...              101   \n",
      "21   {u'bootstrap': True, u'min_samples_leaf': 3, u...              114   \n",
      "22   {u'bootstrap': True, u'min_samples_leaf': 3, u...               96   \n",
      "23   {u'bootstrap': True, u'min_samples_leaf': 3, u...               93   \n",
      "24   {u'bootstrap': True, u'min_samples_leaf': 10, ...              110   \n",
      "25   {u'bootstrap': True, u'min_samples_leaf': 10, ...               70   \n",
      "26   {u'bootstrap': True, u'min_samples_leaf': 10, ...               90   \n",
      "27   {u'bootstrap': True, u'min_samples_leaf': 1, u...              101   \n",
      "28   {u'bootstrap': True, u'min_samples_leaf': 1, u...              108   \n",
      "29   {u'bootstrap': True, u'min_samples_leaf': 1, u...               81   \n",
      "..                                                 ...              ...   \n",
      "186  {u'bootstrap': False, u'min_samples_leaf': 10,...               69   \n",
      "187  {u'bootstrap': False, u'min_samples_leaf': 10,...              117   \n",
      "188  {u'bootstrap': False, u'min_samples_leaf': 10,...               85   \n",
      "189  {u'bootstrap': False, u'min_samples_leaf': 1, ...              121   \n",
      "190  {u'bootstrap': False, u'min_samples_leaf': 1, ...              107   \n",
      "191  {u'bootstrap': False, u'min_samples_leaf': 1, ...               79   \n",
      "192  {u'bootstrap': False, u'min_samples_leaf': 3, ...              109   \n",
      "193  {u'bootstrap': False, u'min_samples_leaf': 3, ...              119   \n",
      "194  {u'bootstrap': False, u'min_samples_leaf': 3, ...              128   \n",
      "195  {u'bootstrap': False, u'min_samples_leaf': 10,...              139   \n",
      "196  {u'bootstrap': False, u'min_samples_leaf': 10,...              134   \n",
      "197  {u'bootstrap': False, u'min_samples_leaf': 10,...              136   \n",
      "198  {u'bootstrap': False, u'min_samples_leaf': 1, ...               98   \n",
      "199  {u'bootstrap': False, u'min_samples_leaf': 1, ...               57   \n",
      "200  {u'bootstrap': False, u'min_samples_leaf': 1, ...               28   \n",
      "201  {u'bootstrap': False, u'min_samples_leaf': 3, ...               33   \n",
      "202  {u'bootstrap': False, u'min_samples_leaf': 3, ...               47   \n",
      "203  {u'bootstrap': False, u'min_samples_leaf': 3, ...               44   \n",
      "204  {u'bootstrap': False, u'min_samples_leaf': 10,...               53   \n",
      "205  {u'bootstrap': False, u'min_samples_leaf': 10,...               75   \n",
      "206  {u'bootstrap': False, u'min_samples_leaf': 10,...               64   \n",
      "207  {u'bootstrap': False, u'min_samples_leaf': 1, ...               60   \n",
      "208  {u'bootstrap': False, u'min_samples_leaf': 1, ...               37   \n",
      "209  {u'bootstrap': False, u'min_samples_leaf': 1, ...               31   \n",
      "210  {u'bootstrap': False, u'min_samples_leaf': 3, ...                6   \n",
      "211  {u'bootstrap': False, u'min_samples_leaf': 3, ...                8   \n",
      "212  {u'bootstrap': False, u'min_samples_leaf': 3, ...               22   \n",
      "213  {u'bootstrap': False, u'min_samples_leaf': 10,...                9   \n",
      "214  {u'bootstrap': False, u'min_samples_leaf': 10,...               14   \n",
      "215  {u'bootstrap': False, u'min_samples_leaf': 10,...               17   \n",
      "\n",
      "     split0_test_score  split0_train_score  split1_test_score  \\\n",
      "0             0.887199            0.887302           0.887199   \n",
      "1             0.887199            0.887302           0.887199   \n",
      "2             0.887199            0.887302           0.887199   \n",
      "3             0.887199            0.887302           0.887199   \n",
      "4             0.887199            0.887302           0.887199   \n",
      "5             0.887199            0.887302           0.887199   \n",
      "6             0.887199            0.887302           0.887199   \n",
      "7             0.887199            0.887302           0.887199   \n",
      "8             0.887199            0.887302           0.887199   \n",
      "9             0.887199            0.887383           0.887199   \n",
      "10            0.887199            0.887302           0.887199   \n",
      "11            0.887199            0.887302           0.887360   \n",
      "12            0.887199            0.887302           0.888493   \n",
      "13            0.887199            0.887302           0.887199   \n",
      "14            0.887199            0.887302           0.887199   \n",
      "15            0.887199            0.887302           0.887199   \n",
      "16            0.887199            0.887302           0.887199   \n",
      "17            0.887199            0.887787           0.887522   \n",
      "18            0.900469            0.898875           0.893025   \n",
      "19            0.899822            0.898187           0.900631   \n",
      "20            0.900631            0.898875           0.897556   \n",
      "21            0.890274            0.891308           0.892539   \n",
      "22            0.901279            0.900008           0.899660   \n",
      "23            0.901602            0.900413           0.900307   \n",
      "24            0.894805            0.894869           0.900631   \n",
      "25            0.900955            0.900656           0.899013   \n",
      "26            0.891083            0.891632           0.900955   \n",
      "27            0.899013            0.987172           0.899822   \n",
      "28            0.898042            0.976165           0.897718   \n",
      "29            0.898851            0.922710           0.900146   \n",
      "..                 ...                 ...                ...   \n",
      "186           0.900631            0.900210           0.902088   \n",
      "187           0.892701            0.892927           0.900793   \n",
      "188           0.895452            0.894586           0.903706   \n",
      "189           0.896100            1.000000           0.895129   \n",
      "190           0.898365            0.999717           0.897394   \n",
      "191           0.901117            0.946463           0.899660   \n",
      "192           0.898204            0.904945           0.898042   \n",
      "193           0.893996            0.901829           0.895614   \n",
      "194           0.891245            0.893695           0.893510   \n",
      "195           0.888979            0.890215           0.888331   \n",
      "196           0.890112            0.891106           0.891083   \n",
      "197           0.893348            0.896164           0.889141   \n",
      "198           0.899498            1.000000           0.898365   \n",
      "199           0.904839            0.999798           0.902411   \n",
      "200           0.906619            0.962083           0.909047   \n",
      "201           0.902088            0.920686           0.904353   \n",
      "202           0.901926            0.921779           0.902897   \n",
      "203           0.901279            0.917166           0.902573   \n",
      "204           0.900631            0.903367           0.901926   \n",
      "205           0.897394            0.900696           0.900469   \n",
      "206           0.900793            0.903003           0.900955   \n",
      "207           0.904839            1.000000           0.902897   \n",
      "208           0.903544            1.000000           0.903868   \n",
      "209           0.907267            0.986039           0.903382   \n",
      "210           0.903544            0.977137           0.910018   \n",
      "211           0.909047            0.977137           0.909047   \n",
      "212           0.908561            0.968113           0.905486   \n",
      "213           0.911798            0.930601           0.906296   \n",
      "214           0.908723            0.931369           0.907428   \n",
      "215           0.907267            0.932907           0.908238   \n",
      "\n",
      "     split1_train_score  split2_test_score  split2_train_score  \\\n",
      "0              0.887302           0.887342            0.887266   \n",
      "1              0.887302           0.887342            0.887266   \n",
      "2              0.887302           0.887342            0.887266   \n",
      "3              0.887302           0.887342            0.887266   \n",
      "4              0.887302           0.887342            0.887266   \n",
      "5              0.887302           0.887342            0.887266   \n",
      "6              0.887302           0.887342            0.887266   \n",
      "7              0.887302           0.887342            0.887266   \n",
      "8              0.887302           0.887342            0.887266   \n",
      "9              0.887342           0.889608            0.889410   \n",
      "10             0.887302           0.887342            0.887306   \n",
      "11             0.887423           0.887342            0.887266   \n",
      "12             0.888597           0.887342            0.887266   \n",
      "13             0.887302           0.887180            0.887387   \n",
      "14             0.887302           0.887342            0.887266   \n",
      "15             0.887342           0.887342            0.887266   \n",
      "16             0.887302           0.887990            0.888196   \n",
      "17             0.887464           0.887342            0.887306   \n",
      "18             0.893372           0.892198            0.894792   \n",
      "19             0.900898           0.898673            0.901752   \n",
      "20             0.899846           0.891227            0.893416   \n",
      "21             0.893412           0.895759            0.897139   \n",
      "22             0.898835           0.892846            0.896613   \n",
      "23             0.900291           0.895597            0.899688   \n",
      "24             0.901182           0.894788            0.897625   \n",
      "25             0.896933           0.897702            0.901226   \n",
      "26             0.901465           0.898835            0.901833   \n",
      "27             0.988143           0.892522            0.987011   \n",
      "28             0.977541           0.891227            0.978028   \n",
      "29             0.922993           0.896083            0.925424   \n",
      "..                  ...                ...                 ...   \n",
      "186            0.902193           0.899644            0.902359   \n",
      "187            0.900696           0.889770            0.890301   \n",
      "188            0.902315           0.898349            0.901105   \n",
      "189            1.000000           0.892846            1.000000   \n",
      "190            0.999919           0.891713            0.999838   \n",
      "191            0.947637           0.894950            0.950148   \n",
      "192            0.902962           0.890579            0.898029   \n",
      "193            0.901991           0.893169            0.901671   \n",
      "194            0.898794           0.896892            0.903533   \n",
      "195            0.889365           0.891713            0.893619   \n",
      "196            0.891955           0.889285            0.891312   \n",
      "197            0.890579           0.888637            0.891272   \n",
      "198            1.000000           0.892522            1.000000   \n",
      "199            1.000000           0.893817            0.999960   \n",
      "200            0.963985           0.901424            0.964108   \n",
      "201            0.922831           0.899806            0.922591   \n",
      "202            0.920646           0.898835            0.919435   \n",
      "203            0.917409           0.899320            0.916845   \n",
      "204            0.904419           0.898511            0.904868   \n",
      "205            0.903448           0.897054            0.903533   \n",
      "206            0.903812           0.899482            0.905515   \n",
      "207            1.000000           0.895112            1.000000   \n",
      "208            0.999960           0.898349            0.999960   \n",
      "209            0.986322           0.898349            0.986040   \n",
      "210            0.977137           0.902881            0.978028   \n",
      "211            0.977258           0.899644            0.978028   \n",
      "212            0.970581           0.904662            0.972079   \n",
      "213            0.933797           0.905471            0.933072   \n",
      "214            0.932098           0.899968            0.933072   \n",
      "215            0.932745           0.902719            0.934083   \n",
      "\n",
      "     split3_test_score  split3_train_score  split4_test_score  \\\n",
      "0             0.887342            0.887266           0.887324   \n",
      "1             0.887342            0.887266           0.887324   \n",
      "2             0.887342            0.887266           0.887324   \n",
      "3             0.887342            0.887266           0.887324   \n",
      "4             0.887342            0.887266           0.887324   \n",
      "5             0.887342            0.887266           0.887324   \n",
      "6             0.887342            0.887266           0.887324   \n",
      "7             0.887342            0.887266           0.887324   \n",
      "8             0.887342            0.887266           0.887324   \n",
      "9             0.888961            0.888399           0.887324   \n",
      "10            0.887342            0.887306           0.887486   \n",
      "11            0.887342            0.887266           0.887324   \n",
      "12            0.887342            0.887347           0.887324   \n",
      "13            0.887342            0.887266           0.889429   \n",
      "14            0.887666            0.887306           0.887324   \n",
      "15            0.887342            0.887266           0.887324   \n",
      "16            0.887342            0.887468           0.887324   \n",
      "17            0.887342            0.887266           0.887324   \n",
      "18            0.902396            0.902157           0.899466   \n",
      "19            0.899806            0.900741           0.900599   \n",
      "20            0.893169            0.894873           0.902704   \n",
      "21            0.898187            0.899648           0.901570   \n",
      "22            0.891713            0.893012           0.902704   \n",
      "23            0.901424            0.900943           0.889914   \n",
      "24            0.889608            0.889613           0.900923   \n",
      "25            0.898187            0.899729           0.902218   \n",
      "26            0.899968            0.901064           0.900113   \n",
      "27            0.895759            0.987658           0.898171   \n",
      "28            0.893979            0.976450           0.900113   \n",
      "29            0.898511            0.925950           0.899951   \n",
      "..                 ...                 ...                ...   \n",
      "186           0.901586            0.901671           0.894285   \n",
      "187           0.898835            0.900093           0.895904   \n",
      "188           0.893169            0.894549           0.901247   \n",
      "189           0.896730            1.000000           0.892504   \n",
      "190           0.898673            0.999879           0.895580   \n",
      "191           0.899320            0.946991           0.898656   \n",
      "192           0.897216            0.906001           0.896876   \n",
      "193           0.894302            0.901226           0.899304   \n",
      "194           0.891389            0.899810           0.896066   \n",
      "195           0.888313            0.889613           0.889590   \n",
      "196           0.887504            0.887873           0.896228   \n",
      "197           0.890256            0.893821           0.889590   \n",
      "198           0.898025            1.000000           0.898980   \n",
      "199           0.898349            0.999838           0.902865   \n",
      "200           0.898511            0.962368           0.903351   \n",
      "201           0.903367            0.920770           0.903837   \n",
      "202           0.900291            0.921863           0.902218   \n",
      "203           0.901910            0.922187           0.901894   \n",
      "204           0.900453            0.903371           0.902218   \n",
      "205           0.899968            0.904140           0.900113   \n",
      "206           0.900129            0.904099           0.899951   \n",
      "207           0.898025            1.000000           0.901085   \n",
      "208           0.902072            0.999960           0.903675   \n",
      "209           0.903691            0.985514           0.904646   \n",
      "210           0.910489            0.977097           0.907560   \n",
      "211           0.909194            0.977421           0.906913   \n",
      "212           0.903205            0.969975           0.904808   \n",
      "213           0.904824            0.932829           0.905294   \n",
      "214           0.905795            0.932262           0.909179   \n",
      "215           0.906118            0.930320           0.905780   \n",
      "\n",
      "     split4_train_score  std_fit_time  std_score_time  std_test_score  \\\n",
      "0              0.887270      0.002524        0.000709        0.000068   \n",
      "1              0.887270      0.000479        0.000155        0.000068   \n",
      "2              0.887270      0.001702        0.000286        0.000068   \n",
      "3              0.887270      0.003040        0.000362        0.000068   \n",
      "4              0.887270      0.002211        0.000282        0.000068   \n",
      "5              0.887270      0.003046        0.000394        0.000068   \n",
      "6              0.887270      0.001088        0.000246        0.000068   \n",
      "7              0.887270      0.001563        0.000236        0.000068   \n",
      "8              0.887270      0.001610        0.000381        0.000068   \n",
      "9              0.887270      0.002540        0.000090        0.001023   \n",
      "10             0.887351      0.001874        0.000143        0.000107   \n",
      "11             0.887270      0.002609        0.000225        0.000059   \n",
      "12             0.887270      0.001531        0.000120        0.000480   \n",
      "13             0.890265      0.001930        0.000187        0.000881   \n",
      "14             0.887311      0.001489        0.000109        0.000171   \n",
      "15             0.887270      0.001385        0.000177        0.000068   \n",
      "16             0.887270      0.001434        0.000927        0.000296   \n",
      "17             0.887270      0.002308        0.000219        0.000103   \n",
      "18             0.897548      0.001475        0.000240        0.004118   \n",
      "19             0.901554      0.004435        0.000810        0.000713   \n",
      "20             0.900461      0.002700        0.000113        0.004336   \n",
      "21             0.901473      0.001649        0.000158        0.004002   \n",
      "22             0.901554      0.002797        0.000542        0.004496   \n",
      "23             0.890426      0.002276        0.000245        0.004492   \n",
      "24             0.898600      0.002035        0.000956        0.004226   \n",
      "25             0.901149      0.001615        0.001177        0.001711   \n",
      "26             0.899652      0.003055        0.000290        0.003618   \n",
      "27             0.987902      0.001194        0.001148        0.002644   \n",
      "28             0.977867      0.002527        0.001266        0.003183   \n",
      "29             0.925629      0.001490        0.000411        0.001453   \n",
      "..                  ...           ...             ...             ...   \n",
      "186            0.895161      0.002886        0.000304        0.002808   \n",
      "187            0.895849      0.003380        0.000255        0.003998   \n",
      "188            0.901594      0.004085        0.000383        0.003803   \n",
      "189            1.000000      0.003956        0.000910        0.001704   \n",
      "190            0.999838      0.002133        0.000795        0.002555   \n",
      "191            0.946144      0.004624        0.000448        0.002059   \n",
      "192            0.904791      0.006414        0.000923        0.002845   \n",
      "193            0.904872      0.004395        0.000889        0.002161   \n",
      "194            0.901028      0.007223        0.000634        0.002329   \n",
      "195            0.888970      0.002797        0.000931        0.001256   \n",
      "196            0.899045      0.006611        0.000586        0.002938   \n",
      "197            0.889820      0.014050        0.001282        0.001665   \n",
      "198            1.000000      0.002970        0.001858        0.002529   \n",
      "199            0.999960      0.012954        0.002023        0.003933   \n",
      "200            0.963624      0.005250        0.000863        0.003723   \n",
      "201            0.921785      0.005114        0.001243        0.001626   \n",
      "202            0.920288      0.002634        0.000652        0.001474   \n",
      "203            0.915675      0.005738        0.001056        0.001115   \n",
      "204            0.903051      0.007796        0.000851        0.001316   \n",
      "205            0.902323      0.004832        0.000852        0.001463   \n",
      "206            0.902970      0.004219        0.001299        0.000545   \n",
      "207            1.000000      0.007439        0.000738        0.003465   \n",
      "208            1.000000      0.008100        0.000582        0.002077   \n",
      "209            0.984745      0.007999        0.000507        0.002901   \n",
      "210            0.978757      0.010019        0.000815        0.003176   \n",
      "211            0.977300      0.002451        0.000935        0.003662   \n",
      "212            0.970462      0.010104        0.000406        0.001772   \n",
      "213            0.933479      0.009091        0.000702        0.002575   \n",
      "214            0.933155      0.006561        0.000239        0.003339   \n",
      "215            0.932993      0.008414        0.000113        0.001867   \n",
      "\n",
      "     std_train_score  \n",
      "0           0.000017  \n",
      "1           0.000017  \n",
      "2           0.000017  \n",
      "3           0.000017  \n",
      "4           0.000017  \n",
      "5           0.000017  \n",
      "6           0.000017  \n",
      "7           0.000017  \n",
      "8           0.000017  \n",
      "9           0.000835  \n",
      "10          0.000019  \n",
      "11          0.000060  \n",
      "12          0.000521  \n",
      "13          0.001181  \n",
      "14          0.000016  \n",
      "15          0.000030  \n",
      "16          0.000351  \n",
      "17          0.000198  \n",
      "18          0.003093  \n",
      "19          0.001278  \n",
      "20          0.002819  \n",
      "21          0.003781  \n",
      "22          0.002972  \n",
      "23          0.003983  \n",
      "24          0.003940  \n",
      "25          0.001595  \n",
      "26          0.003821  \n",
      "27          0.000428  \n",
      "28          0.000759  \n",
      "29          0.001393  \n",
      "..               ...  \n",
      "186         0.002688  \n",
      "187         0.004019  \n",
      "188         0.003501  \n",
      "189         0.000000  \n",
      "190         0.000068  \n",
      "191         0.001428  \n",
      "192         0.002832  \n",
      "193         0.001302  \n",
      "194         0.003250  \n",
      "195         0.001680  \n",
      "196         0.003677  \n",
      "197         0.002341  \n",
      "198         0.000000  \n",
      "199         0.000078  \n",
      "200         0.000843  \n",
      "201         0.000891  \n",
      "202         0.000921  \n",
      "203         0.002245  \n",
      "204         0.000701  \n",
      "205         0.001217  \n",
      "206         0.000930  \n",
      "207         0.000000  \n",
      "208         0.000020  \n",
      "209         0.000558  \n",
      "210         0.000663  \n",
      "211         0.000313  \n",
      "212         0.001276  \n",
      "213         0.001128  \n",
      "214         0.000662  \n",
      "215         0.001238  \n",
      "\n",
      "[216 rows x 26 columns]\n"
     ]
    }
   ],
   "source": [
    "param_grid = {\"max_depth\": [3, None],\n",
    "              \"max_features\": [1, 3, 10],\n",
    "              \"min_samples_split\": [2, 3, 10],\n",
    "              \"min_samples_leaf\": [1, 3, 10],\n",
    "              \"bootstrap\": [True, False],\n",
    "              \"criterion\": [\"gini\", \"entropy\"]}\n",
    "\n",
    "rfc_model = RandomForestClassifier()\n",
    "grid_2 = GridSearchCV(estimator=rfc_model, param_grid=param_grid, cv=5)\n",
    "\n",
    "grid_2.fit(X_train_3, y_train_3)\n",
    "\n",
    "print(pd.DataFrame(grid_2.cv_results_))"
   ]
  },
  {
   "cell_type": "code",
   "execution_count": 194,
   "metadata": {
    "collapsed": false
   },
   "outputs": [
    {
     "name": "stdout",
     "output_type": "stream",
     "text": [
      "('Best estimator:', RandomForestClassifier(bootstrap=False, class_weight=None, criterion='gini',\n",
      "            max_depth=None, max_features=10, max_leaf_nodes=None,\n",
      "            min_impurity_split=1e-07, min_samples_leaf=10,\n",
      "            min_samples_split=2, min_weight_fraction_leaf=0.0,\n",
      "            n_estimators=10, n_jobs=1, oob_score=False, random_state=None,\n",
      "            verbose=0, warm_start=False))\n",
      "('Best score:', 0.90877601890518278)\n"
     ]
    }
   ],
   "source": [
    "print(\"Best estimator:\", grid_2.best_estimator_)\n",
    "print(\"Best score:\", grid_2.best_score_)"
   ]
  },
  {
   "cell_type": "code",
   "execution_count": 209,
   "metadata": {
    "collapsed": true
   },
   "outputs": [],
   "source": [
    "### Preparing data with missing values\n",
    "\n",
    "cols_to_transform = ['job', 'marital', 'education', 'default', 'housing', 'loan', 'contact', 'month', 'day_of_week',\n",
    "                    'poutcome', 'y']\n",
    "df_raw_with_dummies = pd.get_dummies(df_raw, columns = cols_to_transform)\n",
    "\n",
    "\n",
    "df_raw_y = df_raw_with_dummies[['y_yes']]\n",
    "\n",
    "del df_raw_with_dummies['y_yes']\n",
    "del df_raw_with_dummies['y_no']\n",
    "\n",
    "X_raw = df_raw_with_dummies.as_matrix()\n",
    "y_raw = df_raw_y.as_matrix() # this step may not be necessary\n",
    "\n",
    "from sklearn.model_selection import train_test_split\n",
    "X_raw_train, X_raw_test, y_raw_train, y_raw_test = train_test_split(X_raw, y_raw, random_state=0)"
   ]
  },
  {
   "cell_type": "code",
   "execution_count": 211,
   "metadata": {
    "collapsed": false
   },
   "outputs": [
    {
     "name": "stdout",
     "output_type": "stream",
     "text": [
      "training set score: 0.908906\n",
      "test set score: 0.912013\n"
     ]
    }
   ],
   "source": [
    "logisticregression_raw = LogisticRegression()\n",
    "logisticregression_raw.fit(X_raw_train, y_raw_train)\n",
    "\n",
    "print(\"training set score: %f\" % logisticregression_raw.score(X_raw_train, y_raw_train))\n",
    "print(\"test set score: %f\" % logisticregression_raw.score(X_raw_test, y_raw_test))"
   ]
  },
  {
   "cell_type": "code",
   "execution_count": null,
   "metadata": {
    "collapsed": true
   },
   "outputs": [],
   "source": []
  },
  {
   "cell_type": "code",
   "execution_count": 226,
   "metadata": {
    "collapsed": false
   },
   "outputs": [
    {
     "name": "stderr",
     "output_type": "stream",
     "text": [
      "/Users/davidtan/anaconda2/lib/python2.7/site-packages/ipykernel/__main__.py:5: DataConversionWarning: A column-vector y was passed when a 1d array was expected. Please change the shape of y to (n_samples,), for example using ravel().\n"
     ]
    },
    {
     "name": "stdout",
     "output_type": "stream",
     "text": [
      "training set score: 0.905506\n",
      "test set score: 0.903467\n"
     ]
    }
   ],
   "source": [
    "rfc_raw = RandomForestClassifier(max_depth=5, \n",
    "                                 min_samples_leaf=10, \n",
    "                                 max_features=10, \n",
    "                                 bootstrap=False)\n",
    "rfc_raw.fit(X_raw_train, y_raw_train)\n",
    "\n",
    "print(\"training set score: %f\" % rfc_raw.score(X_raw_train, y_raw_train))\n",
    "print(\"test set score: %f\" % rfc_raw.score(X_raw_test, y_raw_test))"
   ]
  },
  {
   "cell_type": "code",
   "execution_count": 235,
   "metadata": {
    "collapsed": false
   },
   "outputs": [
    {
     "name": "stdout",
     "output_type": "stream",
     "text": [
      "training set score: 0.910103\n",
      "test set score: 0.911722\n"
     ]
    }
   ],
   "source": [
    "logisticregressionCV_raw = LogisticRegressionCV().fit(X_raw_train, y_raw_train)\n",
    "print(\"training set score: %f\" % logisticregressionCV_raw.score(X_raw_train, y_raw_train))\n",
    "print(\"test set score: %f\" % logisticregressionCV_raw.score(X_raw_test, y_raw_test))"
   ]
  },
  {
   "cell_type": "code",
   "execution_count": null,
   "metadata": {
    "collapsed": true
   },
   "outputs": [],
   "source": []
  },
  {
   "cell_type": "markdown",
   "metadata": {},
   "source": [
    "### KNN model on user attributes data"
   ]
  },
  {
   "cell_type": "code",
   "execution_count": 195,
   "metadata": {
    "collapsed": false
   },
   "outputs": [
    {
     "name": "stdout",
     "output_type": "stream",
     "text": [
      "training set score: 0.921854\n",
      "test set score: 0.899485\n"
     ]
    }
   ],
   "source": [
    "from sklearn.neighbors import KNeighborsClassifier\n",
    "knn_model = KNeighborsClassifier()\n",
    "\n",
    "knn_model = knn_model.fit(X_train_3, y_train_3)\n",
    "\n",
    "print(\"training set score: %f\" % knn_model.score(X_train_3, y_train_3))\n",
    "print(\"test set score: %f\" % knn_model.score(X_test_3, y_test_3))"
   ]
  },
  {
   "cell_type": "markdown",
   "metadata": {},
   "source": [
    "### Decision tree model on user attributes data"
   ]
  },
  {
   "cell_type": "code",
   "execution_count": 96,
   "metadata": {
    "collapsed": false
   },
   "outputs": [
    {
     "name": "stdout",
     "output_type": "stream",
     "text": [
      "training set score: 1.000000\n",
      "test set score: 0.879479\n"
     ]
    }
   ],
   "source": [
    "from sklearn.tree import DecisionTreeClassifier\n",
    "decision_tree_model = DecisionTreeClassifier().fit(X_train_3, y_train_3)\n",
    "\n",
    "print(\"training set score: %f\" % decision_tree_model.score(X_train_3, y_train_3))\n",
    "print(\"test set score: %f\" % decision_tree_model.score(X_test_3, y_test_3))"
   ]
  },
  {
   "cell_type": "code",
   "execution_count": null,
   "metadata": {
    "collapsed": true
   },
   "outputs": [],
   "source": [
    "### Support vector machines (SVM) model on user attributes data"
   ]
  },
  {
   "cell_type": "code",
   "execution_count": 97,
   "metadata": {
    "collapsed": false
   },
   "outputs": [
    {
     "name": "stdout",
     "output_type": "stream",
     "text": [
      "training set score: 0.929429\n",
      "test set score: 0.899582\n"
     ]
    }
   ],
   "source": [
    "from sklearn.svm import SVC\n",
    "svc_model = SVC().fit(X_train_3, y_train_3)\n",
    "\n",
    "print(\"training set score: %f\" % svc_model.score(X_train_3, y_train_3))\n",
    "print(\"test set score: %f\" % svc_model.score(X_test_3, y_test_3))"
   ]
  },
  {
   "cell_type": "code",
   "execution_count": null,
   "metadata": {
    "collapsed": true
   },
   "outputs": [],
   "source": []
  },
  {
   "cell_type": "markdown",
   "metadata": {},
   "source": [
    "## Using our model to see the size of the impact of each attribute on the outcome"
   ]
  },
  {
   "cell_type": "code",
   "execution_count": 239,
   "metadata": {
    "collapsed": false
   },
   "outputs": [
    {
     "data": {
      "text/plain": [
       "(41188, 58)"
      ]
     },
     "execution_count": 239,
     "metadata": {},
     "output_type": "execute_result"
    }
   ],
   "source": [
    "df_raw_with_dummies.shape"
   ]
  },
  {
   "cell_type": "code",
   "execution_count": 238,
   "metadata": {
    "collapsed": false
   },
   "outputs": [
    {
     "data": {
      "text/plain": [
       "<matplotlib.legend.Legend at 0x122a358d0>"
      ]
     },
     "execution_count": 238,
     "metadata": {},
     "output_type": "execute_result"
    },
    {
     "data": {
      "image/png": "[encoded data removed]",
      "text/plain": [
       "<matplotlib.figure.Figure at 0x1229a4350>"
      ]
     },
     "metadata": {},
     "output_type": "display_data"
    }
   ],
   "source": [
    "plt.figure(figsize=(16,9))\n",
    "\n",
    "plt.plot(logisticregression_raw.coef_.T, 'o', label=\"C=1\")\n",
    "plt.xticks(range(X_raw.shape[1]), df_raw_with_dummies.columns, rotation=90)\n",
    "# plt.ylim(-5, 5)\n",
    "plt.legend()\n",
    "\n",
    "# TODO: Match x-axis labels to dataset"
   ]
  },
  {
   "cell_type": "code",
   "execution_count": 90,
   "metadata": {
    "collapsed": false
   },
   "outputs": [],
   "source": []
  },
  {
   "cell_type": "markdown",
   "metadata": {
    "collapsed": false
   },
   "source": [
    "### 5. Using the model to predict outcomes based on fresh/unseen data"
   ]
  },
  {
   "cell_type": "code",
   "execution_count": 40,
   "metadata": {
    "collapsed": false
   },
   "outputs": [
    {
     "name": "stdout",
     "output_type": "stream",
     "text": [
      "[[ 0.90609139  0.09390861]]\n",
      "[0]\n"
     ]
    },
    {
     "name": "stderr",
     "output_type": "stream",
     "text": [
      "/Users/davidtan/anaconda2/lib/python2.7/site-packages/sklearn/utils/validation.py:395: DeprecationWarning: Passing 1d arrays as data is deprecated in 0.17 and will raise ValueError in 0.19. Reshape your data either using X.reshape(-1, 1) if your data has a single feature or X.reshape(1, -1) if it contains a single sample.\n",
      "  DeprecationWarning)\n",
      "/Users/davidtan/anaconda2/lib/python2.7/site-packages/sklearn/utils/validation.py:395: DeprecationWarning: Passing 1d arrays as data is deprecated in 0.17 and will raise ValueError in 0.19. Reshape your data either using X.reshape(-1, 1) if your data has a single feature or X.reshape(1, -1) if it contains a single sample.\n",
      "  DeprecationWarning)\n"
     ]
    }
   ],
   "source": [
    "# Using our trained model to predict whether y will be 1 or 0\n",
    "\n",
    "sample_input = X_test[0]\n",
    "\n",
    "# Using .predict_proba() .predict_proba() returns the probability of the sample for each class in the model, where classes are ordered as \n",
    "# they are in self.classes_.\n",
    "print(logisticregression.predict_proba(sample_input))\n",
    "\n",
    "\n",
    "# Using .predict()  This returns the class label (i.e. whether the prediction is 0 or 1)\n",
    "print(logisticregression.predict(sample_input))\n"
   ]
  },
  {
   "cell_type": "code",
   "execution_count": 41,
   "metadata": {
    "collapsed": false
   },
   "outputs": [
    {
     "name": "stdout",
     "output_type": "stream",
     "text": [
      "[[ 0.24718234  0.75281766]]\n",
      "[1]\n"
     ]
    },
    {
     "name": "stderr",
     "output_type": "stream",
     "text": [
      "/Users/davidtan/anaconda2/lib/python2.7/site-packages/sklearn/utils/validation.py:395: DeprecationWarning: Passing 1d arrays as data is deprecated in 0.17 and will raise ValueError in 0.19. Reshape your data either using X.reshape(-1, 1) if your data has a single feature or X.reshape(1, -1) if it contains a single sample.\n",
      "  DeprecationWarning)\n",
      "/Users/davidtan/anaconda2/lib/python2.7/site-packages/sklearn/utils/validation.py:395: DeprecationWarning: Passing 1d arrays as data is deprecated in 0.17 and will raise ValueError in 0.19. Reshape your data either using X.reshape(-1, 1) if your data has a single feature or X.reshape(1, -1) if it contains a single sample.\n",
      "  DeprecationWarning)\n"
     ]
    }
   ],
   "source": [
    "# Using our trained model to predict whether y will be 1 or 0\n",
    "\n",
    "sample_input_2 = X_test[2]\n",
    "\n",
    "# Using .predict_proba() .predict_proba() returns the probability of the sample for each class in the model, where classes are ordered as \n",
    "# they are in self.classes_.\n",
    "print(logisticregression.predict_proba(sample_input_2))\n",
    "\n",
    "\n",
    "# Using .predict()  This returns the class label (i.e. whether the prediction is 0 or 1)\n",
    "print(logisticregression.predict(sample_input_2))\n"
   ]
  },
  {
   "cell_type": "code",
   "execution_count": 39,
   "metadata": {
    "collapsed": false
   },
   "outputs": [
    {
     "data": {
      "text/plain": [
       "array([1], dtype=uint8)"
      ]
     },
     "execution_count": 39,
     "metadata": {},
     "output_type": "execute_result"
    }
   ],
   "source": []
  },
  {
   "cell_type": "code",
   "execution_count": 42,
   "metadata": {
    "collapsed": true
   },
   "outputs": [],
   "source": [
    "from sklearn.linear_model import LogisticRegressionCV"
   ]
  },
  {
   "cell_type": "code",
   "execution_count": 159,
   "metadata": {
    "collapsed": false
   },
   "outputs": [
    {
     "name": "stdout",
     "output_type": "stream",
     "text": [
      "training set score: 0.900245\n",
      "test set score: 0.900026\n"
     ]
    }
   ],
   "source": [
    "logisticregressionCV = LogisticRegressionCV().fit(X_train, y_train)\n",
    "print(\"training set score: %f\" % logisticregressionCV.score(X_train, y_train))\n",
    "print(\"test set score: %f\" % logisticregressionCV.score(X_test, y_test))"
   ]
  },
  {
   "cell_type": "code",
   "execution_count": 160,
   "metadata": {
    "collapsed": false
   },
   "outputs": [
    {
     "name": "stderr",
     "output_type": "stream",
     "text": [
      "/Users/davidtan/anaconda2/lib/python2.7/site-packages/sklearn/utils/class_weight.py:65: DeprecationWarning: The class_weight='auto' heuristic is deprecated in 0.17 in favor of a new heuristic class_weight='balanced'. 'auto' will be removed in 0.19\n",
      "  \" 0.19\", DeprecationWarning)\n"
     ]
    },
    {
     "name": "stdout",
     "output_type": "stream",
     "text": [
      "training set score: 0.853013\n",
      "test set score: 0.843611\n"
     ]
    }
   ],
   "source": [
    "logisticregression_auto_weighted = LogisticRegression(class_weight='auto').fit(X_train, y_train)\n",
    "print(\"training set score: %f\" % logisticregression_auto_weighted.score(X_train, y_train))\n",
    "print(\"test set score: %f\" % logisticregression_auto_weighted.score(X_test, y_test))"
   ]
  },
  {
   "cell_type": "code",
   "execution_count": 145,
   "metadata": {
    "collapsed": true
   },
   "outputs": [],
   "source": [
    "from sklearn.ensemble import RandomForestClassifier\n",
    "from sklearn.ensemble import GradientBoostingClassifier"
   ]
  },
  {
   "cell_type": "code",
   "execution_count": 169,
   "metadata": {
    "collapsed": false
   },
   "outputs": [
    {
     "name": "stderr",
     "output_type": "stream",
     "text": [
      "/Users/davidtan/anaconda2/lib/python2.7/site-packages/ipykernel/__main__.py:2: DataConversionWarning: A column-vector y was passed when a 1d array was expected. Please change the shape of y to (n_samples,), for example using ravel().\n",
      "  from ipykernel import kernelapp as app\n"
     ]
    },
    {
     "name": "stdout",
     "output_type": "stream",
     "text": [
      "training set score: 0.992915\n",
      "test set score: 0.894647\n"
     ]
    }
   ],
   "source": [
    "rfc = RandomForestClassifier()\n",
    "rfc.fit(X_train, y_train)\n",
    "print(\"training set score: %f\" % rfc.score(X_train, y_train))\n",
    "print(\"test set score: %f\" % rfc.score(X_test, y_test))"
   ]
  },
  {
   "cell_type": "code",
   "execution_count": 157,
   "metadata": {
    "collapsed": false
   },
   "outputs": [
    {
     "name": "stdout",
     "output_type": "stream",
     "text": [
      "training set score: 0.992478\n",
      "test set score: 0.902125\n"
     ]
    }
   ],
   "source": [
    "gbc = GradientBoostingClassifier(random_state=0, max_depth=1, max_leaf_nodes=50)\n",
    "gbc.fit(X_train, y_train)\n",
    "print(\"training set score: %f\" % rfc.score(X_train, y_train))\n",
    "print(\"test set score: %f\" % rfc.score(X_test, y_test))"
   ]
  },
  {
   "cell_type": "code",
   "execution_count": null,
   "metadata": {
    "collapsed": true
   },
   "outputs": [],
   "source": []
  },
  {
   "cell_type": "code",
   "execution_count": null,
   "metadata": {
    "collapsed": true
   },
   "outputs": [],
   "source": []
  }
 ],
 "metadata": {
  "kernelspec": {
   "display_name": "Python 2",
   "language": "python",
   "name": "python2"
  },
  "language_info": {
   "codemirror_mode": {
    "name": "ipython",
    "version": 2
   },
   "file_extension": ".py",
   "mimetype": "text/x-python",
   "name": "python",
   "nbconvert_exporter": "python",
   "pygments_lexer": "ipython2",
   "version": "2.7.13"
  }
 },
 "nbformat": 4,
 "nbformat_minor": 2
}
