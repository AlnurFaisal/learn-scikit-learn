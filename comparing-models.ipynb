{
 "cells": [
  {
   "cell_type": "markdown",
   "metadata": {},
   "source": [
    "# Comparison of how to train different models"
   ]
  },
  {
   "cell_type": "markdown",
   "metadata": {},
   "source": [
    "The process of training different models follow similar patterns:\n",
    "1. prepare data into a format that `sklearn` can understand (i.e. target data in a 2-dimensional array, and target data in a 1-dimensional array)\n",
    "2. split data into training set and test set\n",
    "3. choose a model (e.g. LinearRegression, LogisticRegression, RandomForestClassifier, etc) and train the model using the `.fit()` method\n",
    "4. Evaluate model"
   ]
  },
  {
   "cell_type": "code",
   "execution_count": 5,
   "metadata": {
    "collapsed": true
   },
   "outputs": [],
   "source": [
    "# load libraries\n",
    "from sklearn import datasets\n",
    "from sklearn import metrics\n",
    "from sklearn.model_selection import train_test_split\n",
    "\n",
    "# load the iris datasets\n",
    "dataset = datasets.load_iris()"
   ]
  },
  {
   "cell_type": "code",
   "execution_count": 57,
   "metadata": {
    "collapsed": true
   },
   "outputs": [],
   "source": [
    "# defining some helper methods\n",
    "def print_header(title):\n",
    "    newline = \"\\n============================================\\n\"\n",
    "    print(newline + title + newline)\n",
    "    \n",
    "def print_model_header(title):\n",
    "    newline = \"\\n****************************************************\\n\"\n",
    "    print(newline + title + newline)\n",
    "\n",
    "def print_evaluation_tables(model):\n",
    "    print_model_header(type(model).__name__)\n",
    "    # 4. Evaluate our model\n",
    "    training_score = model.score(X_train, y_train)\n",
    "    test_score = model.score(X_test, y_test)\n",
    "    print_header(\"COMPARING SCORES OF TRAINING AND TEST SET\")\n",
    "    print(\"training set score: %f\" % training_score)\n",
    "    print(\"test set score: %f\" % test_score)\n",
    "\n",
    "    # 5. make predictions\n",
    "    expected = dataset.target\n",
    "    predicted = model.predict(dataset.data)\n",
    "    print_header(\"CLASSIFICATION REPORT\")\n",
    "    classification_report = metrics.classification_report(expected, predicted)\n",
    "    print(classification_report)\n",
    "\n",
    "    print_header(\"CONFUSION MATRIX\")\n",
    "    confusion_matrix = metrics.confusion_matrix(expected, predicted)\n",
    "    print(confusion_matrix)"
   ]
  },
  {
   "cell_type": "markdown",
   "metadata": {},
   "source": [
    "## Common steps for preparing data for modeling"
   ]
  },
  {
   "cell_type": "code",
   "execution_count": 28,
   "metadata": {
    "collapsed": true
   },
   "outputs": [],
   "source": [
    "# 1. prepare data into a format that sklearn can understand\n",
    "X = dataset.data\n",
    "y = dataset.target\n",
    "\n",
    "# 2. Split data into training set and test set\n",
    "X_train, X_test, y_train, y_test = train_test_split(X, y, random_state=0)"
   ]
  },
  {
   "cell_type": "markdown",
   "metadata": {},
   "source": [
    "## Logistic Regression"
   ]
  },
  {
   "cell_type": "code",
   "execution_count": 36,
   "metadata": {
    "collapsed": false,
    "scrolled": true
   },
   "outputs": [
    {
     "data": {
      "text/plain": [
       "LogisticRegression(C=1.0, class_weight=None, dual=False, fit_intercept=True,\n",
       "          intercept_scaling=1, max_iter=100, multi_class='ovr', n_jobs=1,\n",
       "          penalty='l2', random_state=None, solver='liblinear', tol=0.0001,\n",
       "          verbose=0, warm_start=False)"
      ]
     },
     "execution_count": 36,
     "metadata": {},
     "output_type": "execute_result"
    }
   ],
   "source": [
    "# 3. Choose our model and train our model \n",
    "from sklearn.linear_model import LogisticRegression     ## IMPORTANT: These 2 lines are the only lines that \n",
    "logistic_regression_model = LogisticRegression()        ## you need to change to build a different model\n",
    "logistic_regression_model.fit(X_train, y_train)"
   ]
  },
  {
   "cell_type": "code",
   "execution_count": 30,
   "metadata": {
    "collapsed": false
   },
   "outputs": [
    {
     "name": "stdout",
     "output_type": "stream",
     "text": [
      "\n",
      "====================================================\n",
      "COMPARING SCORES OF TRAINING AND TEST SET\n",
      "====================================================\n",
      "\n",
      "training set score: 0.946429\n",
      "test set score: 0.868421\n",
      "\n",
      "====================================================\n",
      "CLASSIFICATION REPORT\n",
      "====================================================\n",
      "\n",
      "             precision    recall  f1-score   support\n",
      "\n",
      "          0       1.00      1.00      1.00        50\n",
      "          1       1.00      0.78      0.88        50\n",
      "          2       0.82      1.00      0.90        50\n",
      "\n",
      "avg / total       0.94      0.93      0.93       150\n",
      "\n",
      "\n",
      "====================================================\n",
      "CONFUSION MATRIX\n",
      "====================================================\n",
      "\n",
      "[[50  0  0]\n",
      " [ 0 39 11]\n",
      " [ 0  0 50]]\n"
     ]
    }
   ],
   "source": [
    "# 4. Evaluate our model\n",
    "training_score = model.score(X_train, y_train)\n",
    "test_score = model.score(X_test, y_test)\n",
    "print_header(\"COMPARING SCORES OF TRAINING AND TEST SET\")\n",
    "print(\"training set score: %f\" % training_score)\n",
    "print(\"test set score: %f\" % test_score)\n",
    "\n",
    "# 5. make predictions\n",
    "expected = dataset.target\n",
    "predicted = model.predict(dataset.data)\n",
    "print_header(\"CLASSIFICATION REPORT\")\n",
    "classification_report = metrics.classification_report(expected, predicted)\n",
    "print(classification_report)\n",
    "\n",
    "print_header(\"CONFUSION MATRIX\")\n",
    "confusion_matrix = metrics.confusion_matrix(expected, predicted)\n",
    "print(confusion_matrix)"
   ]
  },
  {
   "cell_type": "markdown",
   "metadata": {},
   "source": [
    "## Naive Bayes"
   ]
  },
  {
   "cell_type": "code",
   "execution_count": 37,
   "metadata": {
    "collapsed": false
   },
   "outputs": [
    {
     "data": {
      "text/plain": [
       "GaussianNB(priors=None)"
      ]
     },
     "execution_count": 37,
     "metadata": {},
     "output_type": "execute_result"
    }
   ],
   "source": [
    "# 3. Choose our model and train our model \n",
    "from sklearn.naive_bayes import GaussianNB\n",
    "naive_bayes_model = GaussianNB()\n",
    "naive_bayes_model.fit(X_train, y_train)"
   ]
  },
  {
   "cell_type": "markdown",
   "metadata": {},
   "source": [
    "## k-Nearest Neighbour"
   ]
  },
  {
   "cell_type": "code",
   "execution_count": 38,
   "metadata": {
    "collapsed": false
   },
   "outputs": [
    {
     "data": {
      "text/plain": [
       "KNeighborsClassifier(algorithm='auto', leaf_size=30, metric='minkowski',\n",
       "           metric_params=None, n_jobs=1, n_neighbors=5, p=2,\n",
       "           weights='uniform')"
      ]
     },
     "execution_count": 38,
     "metadata": {},
     "output_type": "execute_result"
    }
   ],
   "source": [
    "# 3. Choose our model and train our model \n",
    "from sklearn.neighbors import KNeighborsClassifier\n",
    "knn_model = KNeighborsClassifier()\n",
    "knn_model.fit(X_train, y_train)"
   ]
  },
  {
   "cell_type": "markdown",
   "metadata": {},
   "source": [
    "## Decision Trees"
   ]
  },
  {
   "cell_type": "code",
   "execution_count": null,
   "metadata": {
    "collapsed": true
   },
   "outputs": [],
   "source": [
    "# 3. Choose our model and train our model \n",
    "from sklearn.tree import DecisionTreeClassifier\n",
    "decision_trees_model = DecisionTreeClassifier()\n",
    "decision_trees_model.fit(X_train, y_train)\n"
   ]
  },
  {
   "cell_type": "markdown",
   "metadata": {},
   "source": [
    "## Support Vector Machines"
   ]
  },
  {
   "cell_type": "code",
   "execution_count": null,
   "metadata": {
    "collapsed": true
   },
   "outputs": [],
   "source": [
    "# 3. Choose our model and train our model \n",
    "from sklearn.svm import SVC\n",
    "svm_model = SVC()\n",
    "svm_model.fit(X_train, y_train)"
   ]
  },
  {
   "cell_type": "code",
   "execution_count": 58,
   "metadata": {
    "collapsed": false
   },
   "outputs": [
    {
     "name": "stdout",
     "output_type": "stream",
     "text": [
      "\n",
      "****************************************************\n",
      "LogisticRegression\n",
      "****************************************************\n",
      "\n",
      "\n",
      "============================================\n",
      "COMPARING SCORES OF TRAINING AND TEST SET\n",
      "============================================\n",
      "\n",
      "training set score: 0.946429\n",
      "test set score: 0.868421\n",
      "\n",
      "============================================\n",
      "CLASSIFICATION REPORT\n",
      "============================================\n",
      "\n",
      "             precision    recall  f1-score   support\n",
      "\n",
      "          0       1.00      1.00      1.00        50\n",
      "          1       1.00      0.78      0.88        50\n",
      "          2       0.82      1.00      0.90        50\n",
      "\n",
      "avg / total       0.94      0.93      0.93       150\n",
      "\n",
      "\n",
      "============================================\n",
      "CONFUSION MATRIX\n",
      "============================================\n",
      "\n",
      "[[50  0  0]\n",
      " [ 0 39 11]\n",
      " [ 0  0 50]]\n",
      "\n",
      "****************************************************\n",
      "GaussianNB\n",
      "****************************************************\n",
      "\n",
      "\n",
      "============================================\n",
      "COMPARING SCORES OF TRAINING AND TEST SET\n",
      "============================================\n",
      "\n",
      "training set score: 0.946429\n",
      "test set score: 1.000000\n",
      "\n",
      "============================================\n",
      "CLASSIFICATION REPORT\n",
      "============================================\n",
      "\n",
      "             precision    recall  f1-score   support\n",
      "\n",
      "          0       1.00      1.00      1.00        50\n",
      "          1       0.94      0.94      0.94        50\n",
      "          2       0.94      0.94      0.94        50\n",
      "\n",
      "avg / total       0.96      0.96      0.96       150\n",
      "\n",
      "\n",
      "============================================\n",
      "CONFUSION MATRIX\n",
      "============================================\n",
      "\n",
      "[[50  0  0]\n",
      " [ 0 47  3]\n",
      " [ 0  3 47]]\n",
      "\n",
      "****************************************************\n",
      "KNeighborsClassifier\n",
      "****************************************************\n",
      "\n",
      "\n",
      "============================================\n",
      "COMPARING SCORES OF TRAINING AND TEST SET\n",
      "============================================\n",
      "\n",
      "training set score: 0.973214\n",
      "test set score: 0.973684\n",
      "\n",
      "============================================\n",
      "CLASSIFICATION REPORT\n",
      "============================================\n",
      "\n",
      "             precision    recall  f1-score   support\n",
      "\n",
      "          0       1.00      1.00      1.00        50\n",
      "          1       0.98      0.94      0.96        50\n",
      "          2       0.94      0.98      0.96        50\n",
      "\n",
      "avg / total       0.97      0.97      0.97       150\n",
      "\n",
      "\n",
      "============================================\n",
      "CONFUSION MATRIX\n",
      "============================================\n",
      "\n",
      "[[50  0  0]\n",
      " [ 0 47  3]\n",
      " [ 0  1 49]]\n",
      "\n",
      "****************************************************\n",
      "DecisionTreeClassifier\n",
      "****************************************************\n",
      "\n",
      "\n",
      "============================================\n",
      "COMPARING SCORES OF TRAINING AND TEST SET\n",
      "============================================\n",
      "\n",
      "training set score: 1.000000\n",
      "test set score: 0.973684\n",
      "\n",
      "============================================\n",
      "CLASSIFICATION REPORT\n",
      "============================================\n",
      "\n",
      "             precision    recall  f1-score   support\n",
      "\n",
      "          0       1.00      1.00      1.00        50\n",
      "          1       1.00      0.98      0.99        50\n",
      "          2       0.98      1.00      0.99        50\n",
      "\n",
      "avg / total       0.99      0.99      0.99       150\n",
      "\n",
      "\n",
      "============================================\n",
      "CONFUSION MATRIX\n",
      "============================================\n",
      "\n",
      "[[50  0  0]\n",
      " [ 0 49  1]\n",
      " [ 0  0 50]]\n",
      "\n",
      "****************************************************\n",
      "SVC\n",
      "****************************************************\n",
      "\n",
      "\n",
      "============================================\n",
      "COMPARING SCORES OF TRAINING AND TEST SET\n",
      "============================================\n",
      "\n",
      "training set score: 0.982143\n",
      "test set score: 0.973684\n",
      "\n",
      "============================================\n",
      "CLASSIFICATION REPORT\n",
      "============================================\n",
      "\n",
      "             precision    recall  f1-score   support\n",
      "\n",
      "          0       1.00      1.00      1.00        50\n",
      "          1       1.00      0.94      0.97        50\n",
      "          2       0.94      1.00      0.97        50\n",
      "\n",
      "avg / total       0.98      0.98      0.98       150\n",
      "\n",
      "\n",
      "============================================\n",
      "CONFUSION MATRIX\n",
      "============================================\n",
      "\n",
      "[[50  0  0]\n",
      " [ 0 47  3]\n",
      " [ 0  0 50]]\n"
     ]
    }
   ],
   "source": [
    "models = [logistic_regression_model, naive_bayes_model, knn_model, decision_trees_model ,svm_model]\n",
    "for model in models:\n",
    "    print_evaluation_tables(model)"
   ]
  },
  {
   "cell_type": "code",
   "execution_count": null,
   "metadata": {
    "collapsed": true
   },
   "outputs": [],
   "source": []
  }
 ],
 "metadata": {
  "kernelspec": {
   "display_name": "Python 2",
   "language": "python",
   "name": "python2"
  },
  "language_info": {
   "codemirror_mode": {
    "name": "ipython",
    "version": 2
   },
   "file_extension": ".py",
   "mimetype": "text/x-python",
   "name": "python",
   "nbconvert_exporter": "python",
   "pygments_lexer": "ipython2",
   "version": "2.7.13"
  }
 },
 "nbformat": 4,
 "nbformat_minor": 2
}
