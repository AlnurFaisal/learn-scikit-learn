{
 "cells": [
  {
   "cell_type": "markdown",
   "metadata": {},
   "source": [
    "# Training classification models"
   ]
  },
  {
   "cell_type": "markdown",
   "metadata": {},
   "source": [
    "This notebook demonstrates how you can follow a similar process for training a model using:\n",
    "- Logistic Regression Classifier\n",
    "- Naive Bayes Classifier\n",
    "- KNearest Neighbour Classifier\n",
    "- Decision Tree Classifier\n",
    "- Support Vector Machine Classifier\n",
    "- Random Forest Classifier\n",
    "\n",
    "The process of training different models follow similar patterns:\n",
    "1. prepare data into a format that `sklearn` can understand (i.e. target data in a 2-dimensional array, and target data in a 1-dimensional array)\n",
    "2. split data into training set and test set\n",
    "3. choose a model (e.g. LinearRegression, LogisticRegression, RandomForestClassifier, etc) and train the model using the `.fit()` method\n",
    "4. Evaluate model\n",
    "5. Tune / improve the model"
   ]
  },
  {
   "cell_type": "code",
   "execution_count": 1,
   "metadata": {
    "collapsed": true
   },
   "outputs": [],
   "source": [
    "# load libraries\n",
    "import pandas as pd\n",
    "from sklearn import datasets\n",
    "from sklearn import metrics\n",
    "from sklearn.model_selection import train_test_split"
   ]
  },
  {
   "cell_type": "code",
   "execution_count": 35,
   "metadata": {
    "collapsed": true
   },
   "outputs": [],
   "source": [
    "# defining some helper methods\n",
    "def print_header(title):\n",
    "    print(\"\\n\" + title + \":\\n\")\n",
    "    \n",
    "def print_model_header(title):\n",
    "    newline = \"\\n=====================================================\\n\"\n",
    "    print(newline + title + newline)\n",
    "\n",
    "def generate_evaluation_tables(model, data, target):\n",
    "    X_train, X_test, y_train, y_test = train_test_split(data, target, random_state=0)\n",
    "    print_model_header(type(model).__name__)\n",
    "    # 4. Evaluate our model\n",
    "    training_score = model.score(X_train, y_train)\n",
    "    test_score = model.score(X_test, y_test)\n",
    "    print_header(\"COMPARING SCORES OF TRAINING AND TEST SET\")\n",
    "    print(\"training set score: %f\" % training_score)\n",
    "    print(\"test set score: %f\" % test_score)\n",
    "\n",
    "    # 5. make predictions\n",
    "    expected = y\n",
    "    predicted = model.predict(X)\n",
    "    print_header(\"CLASSIFICATION REPORT\")\n",
    "    classification_report = metrics.classification_report(expected, predicted)\n",
    "    print(classification_report)\n",
    "\n",
    "    print_header(\"CONFUSION MATRIX\")\n",
    "    confusion_matrix = metrics.confusion_matrix(expected, predicted)\n",
    "    print(confusion_matrix)"
   ]
  },
  {
   "cell_type": "markdown",
   "metadata": {},
   "source": [
    "## 1. Load and prepare data in X and y format"
   ]
  },
  {
   "cell_type": "code",
   "execution_count": 4,
   "metadata": {
    "collapsed": true
   },
   "outputs": [],
   "source": [
    "df = pd.read_csv('./data/bank-marketing-data/bank-additional-full.csv', sep=';')\n",
    "\n",
    "cols_to_transform = ['job', 'marital', 'education', 'default', 'housing', 'loan', 'contact', 'month', 'day_of_week',\n",
    "                    'poutcome', 'y']\n",
    "df_with_dummies = pd.get_dummies(df, columns = cols_to_transform)\n",
    "\n",
    "df_y = df_with_dummies[['y_yes']]\n",
    "del df_with_dummies['y_yes']\n",
    "del df_with_dummies['y_no']\n",
    "\n",
    "X = df_with_dummies.as_matrix()\n",
    "y = df_y.as_matrix().ravel()"
   ]
  },
  {
   "cell_type": "markdown",
   "metadata": {},
   "source": [
    "## 2. Split data into train and test set"
   ]
  },
  {
   "cell_type": "code",
   "execution_count": 12,
   "metadata": {
    "collapsed": true
   },
   "outputs": [],
   "source": [
    "X_train, X_test, y_train, y_test = train_test_split(X, y, random_state=0)"
   ]
  },
  {
   "cell_type": "markdown",
   "metadata": {},
   "source": [
    "## 3. Choose a model and train the model using the .fit() method"
   ]
  },
  {
   "cell_type": "markdown",
   "metadata": {},
   "source": [
    "### Logistic Regression"
   ]
  },
  {
   "cell_type": "code",
   "execution_count": 6,
   "metadata": {
    "collapsed": false,
    "scrolled": true
   },
   "outputs": [
    {
     "data": {
      "text/plain": [
       "LogisticRegression(C=1.0, class_weight=None, dual=False, fit_intercept=True,\n",
       "          intercept_scaling=1, max_iter=100, multi_class='ovr', n_jobs=1,\n",
       "          penalty='l2', random_state=None, solver='liblinear', tol=0.0001,\n",
       "          verbose=0, warm_start=False)"
      ]
     },
     "execution_count": 6,
     "metadata": {},
     "output_type": "execute_result"
    }
   ],
   "source": [
    "# 3. Choose our model and train our model \n",
    "from sklearn.linear_model import LogisticRegression     ## IMPORTANT: These 2 lines are the only lines that \n",
    "logistic_regression_model = LogisticRegression()        ## you need to change to build a different model\n",
    "logistic_regression_model.fit(X_train, y_train)"
   ]
  },
  {
   "cell_type": "code",
   "execution_count": 14,
   "metadata": {
    "collapsed": false
   },
   "outputs": [
    {
     "name": "stdout",
     "output_type": "stream",
     "text": [
      "\n",
      "============================================\n",
      "COMPARING SCORES OF TRAINING AND TEST SET\n",
      "============================================\n",
      "\n",
      "training set score: 0.908906\n",
      "test set score: 0.912013\n",
      "\n",
      "============================================\n",
      "CLASSIFICATION REPORT\n",
      "============================================\n",
      "\n",
      "             precision    recall  f1-score   support\n",
      "\n",
      "          0       0.93      0.97      0.95     36548\n",
      "          1       0.66      0.40      0.50      4640\n",
      "\n",
      "avg / total       0.90      0.91      0.90     41188\n",
      "\n",
      "\n",
      "============================================\n",
      "CONFUSION MATRIX\n",
      "============================================\n",
      "\n",
      "[[35613   935]\n",
      " [ 2785  1855]]\n"
     ]
    }
   ],
   "source": [
    "# 4. Evaluate our model\n",
    "training_score = logistic_regression_model.score(X_train, y_train)\n",
    "test_score = logistic_regression_model.score(X_test, y_test)\n",
    "print_header(\"COMPARING SCORES OF TRAINING AND TEST SET\")\n",
    "print(\"training set score: %f\" % training_score)\n",
    "print(\"test set score: %f\" % test_score)\n",
    "\n",
    "# 5. make predictions\n",
    "expected = y\n",
    "predicted = logistic_regression_model.predict(X)\n",
    "\n",
    "print_header(\"CLASSIFICATION REPORT\")\n",
    "classification_report = metrics.classification_report(expected, predicted)\n",
    "print(classification_report)\n",
    "\n",
    "print_header(\"CONFUSION MATRIX\")\n",
    "confusion_matrix = metrics.confusion_matrix(expected, predicted)\n",
    "print(confusion_matrix)"
   ]
  },
  {
   "cell_type": "markdown",
   "metadata": {},
   "source": [
    "### Naive Bayes"
   ]
  },
  {
   "cell_type": "code",
   "execution_count": 15,
   "metadata": {
    "collapsed": false
   },
   "outputs": [
    {
     "data": {
      "text/plain": [
       "GaussianNB(priors=None)"
      ]
     },
     "execution_count": 15,
     "metadata": {},
     "output_type": "execute_result"
    }
   ],
   "source": [
    "# 3. Choose our model and train our model \n",
    "from sklearn.naive_bayes import GaussianNB\n",
    "naive_bayes_model = GaussianNB()\n",
    "naive_bayes_model.fit(X_train, y_train)"
   ]
  },
  {
   "cell_type": "markdown",
   "metadata": {},
   "source": [
    "### k-Nearest Neighbour"
   ]
  },
  {
   "cell_type": "code",
   "execution_count": 16,
   "metadata": {
    "collapsed": false
   },
   "outputs": [
    {
     "data": {
      "text/plain": [
       "KNeighborsClassifier(algorithm='auto', leaf_size=30, metric='minkowski',\n",
       "           metric_params=None, n_jobs=1, n_neighbors=5, p=2,\n",
       "           weights='uniform')"
      ]
     },
     "execution_count": 16,
     "metadata": {},
     "output_type": "execute_result"
    }
   ],
   "source": [
    "# 3. Choose our model and train our model \n",
    "from sklearn.neighbors import KNeighborsClassifier\n",
    "knn_model = KNeighborsClassifier()\n",
    "knn_model.fit(X_train, y_train)"
   ]
  },
  {
   "cell_type": "markdown",
   "metadata": {},
   "source": [
    "### Decision Trees"
   ]
  },
  {
   "cell_type": "code",
   "execution_count": 17,
   "metadata": {
    "collapsed": false
   },
   "outputs": [
    {
     "data": {
      "text/plain": [
       "DecisionTreeClassifier(class_weight=None, criterion='gini', max_depth=None,\n",
       "            max_features=None, max_leaf_nodes=None,\n",
       "            min_impurity_split=1e-07, min_samples_leaf=1,\n",
       "            min_samples_split=2, min_weight_fraction_leaf=0.0,\n",
       "            presort=False, random_state=None, splitter='best')"
      ]
     },
     "execution_count": 17,
     "metadata": {},
     "output_type": "execute_result"
    }
   ],
   "source": [
    "# 3. Choose our model and train our model \n",
    "from sklearn.tree import DecisionTreeClassifier\n",
    "decision_trees_model = DecisionTreeClassifier()\n",
    "decision_trees_model.fit(X_train, y_train)"
   ]
  },
  {
   "cell_type": "markdown",
   "metadata": {},
   "source": [
    "### Support Vector Machines"
   ]
  },
  {
   "cell_type": "code",
   "execution_count": 18,
   "metadata": {
    "collapsed": false
   },
   "outputs": [
    {
     "data": {
      "text/plain": [
       "SVC(C=1.0, cache_size=200, class_weight=None, coef0=0.0,\n",
       "  decision_function_shape=None, degree=3, gamma='auto', kernel='rbf',\n",
       "  max_iter=-1, probability=False, random_state=None, shrinking=True,\n",
       "  tol=0.001, verbose=False)"
      ]
     },
     "execution_count": 18,
     "metadata": {},
     "output_type": "execute_result"
    }
   ],
   "source": [
    "# 3. Choose our model and train our model \n",
    "from sklearn.svm import SVC\n",
    "svm_model = SVC()\n",
    "svm_model.fit(X_train, y_train)"
   ]
  },
  {
   "cell_type": "markdown",
   "metadata": {},
   "source": [
    "### Random Forest Classifier"
   ]
  },
  {
   "cell_type": "code",
   "execution_count": 34,
   "metadata": {
    "collapsed": false
   },
   "outputs": [
    {
     "data": {
      "text/plain": [
       "RandomForestClassifier(bootstrap=False, class_weight=None, criterion='gini',\n",
       "            max_depth=5, max_features=10, max_leaf_nodes=None,\n",
       "            min_impurity_split=1e-07, min_samples_leaf=10,\n",
       "            min_samples_split=2, min_weight_fraction_leaf=0.0,\n",
       "            n_estimators=10, n_jobs=1, oob_score=False, random_state=None,\n",
       "            verbose=0, warm_start=False)"
      ]
     },
     "execution_count": 34,
     "metadata": {},
     "output_type": "execute_result"
    }
   ],
   "source": [
    "from sklearn.ensemble import RandomForestClassifier\n",
    "\n",
    "rfc_model = RandomForestClassifier(max_depth=5, \n",
    "                                 min_samples_leaf=10, \n",
    "                                 max_features=10, \n",
    "                                 bootstrap=False)\n",
    "rfc_model.fit(X_train, y_train)"
   ]
  },
  {
   "cell_type": "markdown",
   "metadata": {},
   "source": [
    "## 4. Evaluate model"
   ]
  },
  {
   "cell_type": "code",
   "execution_count": 36,
   "metadata": {
    "collapsed": false
   },
   "outputs": [
    {
     "name": "stdout",
     "output_type": "stream",
     "text": [
      "\n",
      "=====================================================\n",
      "LogisticRegression\n",
      "=====================================================\n",
      "\n",
      "\n",
      "COMPARING SCORES OF TRAINING AND TEST SET:\n",
      "\n",
      "training set score: 0.908906\n",
      "test set score: 0.912013\n",
      "\n",
      "CLASSIFICATION REPORT:\n",
      "\n",
      "             precision    recall  f1-score   support\n",
      "\n",
      "          0       0.93      0.97      0.95     36548\n",
      "          1       0.66      0.40      0.50      4640\n",
      "\n",
      "avg / total       0.90      0.91      0.90     41188\n",
      "\n",
      "\n",
      "CONFUSION MATRIX:\n",
      "\n",
      "[[35613   935]\n",
      " [ 2785  1855]]\n",
      "\n",
      "=====================================================\n",
      "GaussianNB\n",
      "=====================================================\n",
      "\n",
      "\n",
      "COMPARING SCORES OF TRAINING AND TEST SET:\n",
      "\n",
      "training set score: 0.861578\n",
      "test set score: 0.868700\n",
      "\n",
      "CLASSIFICATION REPORT:\n",
      "\n",
      "             precision    recall  f1-score   support\n",
      "\n",
      "          0       0.94      0.91      0.92     36548\n",
      "          1       0.41      0.51      0.46      4640\n",
      "\n",
      "avg / total       0.88      0.86      0.87     41188\n",
      "\n",
      "\n",
      "CONFUSION MATRIX:\n",
      "\n",
      "[[33178  3370]\n",
      " [ 2258  2382]]\n",
      "\n",
      "=====================================================\n",
      "KNeighborsClassifier\n",
      "=====================================================\n",
      "\n",
      "\n",
      "COMPARING SCORES OF TRAINING AND TEST SET:\n",
      "\n",
      "training set score: 0.930789\n",
      "test set score: 0.908420\n",
      "\n",
      "CLASSIFICATION REPORT:\n",
      "\n",
      "             precision    recall  f1-score   support\n",
      "\n",
      "          0       0.95      0.97      0.96     36548\n",
      "          1       0.71      0.57      0.63      4640\n",
      "\n",
      "avg / total       0.92      0.93      0.92     41188\n",
      "\n",
      "\n",
      "CONFUSION MATRIX:\n",
      "\n",
      "[[35442  1106]\n",
      " [ 1975  2665]]\n",
      "\n",
      "=====================================================\n",
      "DecisionTreeClassifier\n",
      "=====================================================\n",
      "\n",
      "\n",
      "COMPARING SCORES OF TRAINING AND TEST SET:\n",
      "\n",
      "training set score: 1.000000\n",
      "test set score: 0.896863\n",
      "\n",
      "CLASSIFICATION REPORT:\n",
      "\n",
      "             precision    recall  f1-score   support\n",
      "\n",
      "          0       0.99      0.99      0.99     36548\n",
      "          1       0.89      0.88      0.89      4640\n",
      "\n",
      "avg / total       0.97      0.97      0.97     41188\n",
      "\n",
      "\n",
      "CONFUSION MATRIX:\n",
      "\n",
      "[[36023   525]\n",
      " [  537  4103]]\n",
      "\n",
      "=====================================================\n",
      "SVC\n",
      "=====================================================\n",
      "\n",
      "\n",
      "COMPARING SCORES OF TRAINING AND TEST SET:\n",
      "\n",
      "training set score: 0.959470\n",
      "test set score: 0.897931\n",
      "\n",
      "CLASSIFICATION REPORT:\n",
      "\n",
      "             precision    recall  f1-score   support\n",
      "\n",
      "          0       0.95      0.99      0.97     36548\n",
      "          1       0.89      0.58      0.70      4640\n",
      "\n",
      "avg / total       0.94      0.94      0.94     41188\n",
      "\n",
      "\n",
      "CONFUSION MATRIX:\n",
      "\n",
      "[[36215   333]\n",
      " [ 1970  2670]]\n",
      "\n",
      "=====================================================\n",
      "RandomForestClassifier\n",
      "=====================================================\n",
      "\n",
      "\n",
      "COMPARING SCORES OF TRAINING AND TEST SET:\n",
      "\n",
      "training set score: 0.902949\n",
      "test set score: 0.899485\n",
      "\n",
      "CLASSIFICATION REPORT:\n",
      "\n",
      "             precision    recall  f1-score   support\n",
      "\n",
      "          0       0.91      0.99      0.95     36548\n",
      "          1       0.78      0.18      0.29      4640\n",
      "\n",
      "avg / total       0.89      0.90      0.87     41188\n",
      "\n",
      "\n",
      "CONFUSION MATRIX:\n",
      "\n",
      "[[36315   233]\n",
      " [ 3800   840]]\n"
     ]
    }
   ],
   "source": [
    "models = [logistic_regression_model, naive_bayes_model, knn_model, decision_trees_model, svm_model, rfc_model]\n",
    "for model in models:\n",
    "    generate_evaluation_tables(model, X, y)"
   ]
  },
  {
   "cell_type": "markdown",
   "metadata": {},
   "source": [
    "## 5. Tuning the Random Forest Classifier with GridSearchCV "
   ]
  },
  {
   "cell_type": "code",
   "execution_count": 37,
   "metadata": {
    "collapsed": true
   },
   "outputs": [],
   "source": [
    "from sklearn.model_selection import GridSearchCV"
   ]
  },
  {
   "cell_type": "code",
   "execution_count": 38,
   "metadata": {
    "collapsed": false
   },
   "outputs": [
    {
     "name": "stdout",
     "output_type": "stream",
     "text": [
      "('Best estimator:', RandomForestClassifier(bootstrap=False, class_weight=None, criterion='gini',\n",
      "            max_depth=None, max_features=10, max_leaf_nodes=None,\n",
      "            min_impurity_split=1e-07, min_samples_leaf=10,\n",
      "            min_samples_split=2, min_weight_fraction_leaf=0.0,\n",
      "            n_estimators=10, n_jobs=1, oob_score=False, random_state=None,\n",
      "            verbose=0, warm_start=False))\n",
      "('Best score:', 0.91230455472467709)\n",
      "     mean_fit_time  mean_score_time  mean_test_score  mean_train_score  \\\n",
      "0         0.057498         0.008828         0.887281          0.887281   \n",
      "1         0.058030         0.008061         0.887281          0.887281   \n",
      "2         0.057525         0.008724         0.887313          0.887281   \n",
      "3         0.061585         0.008954         0.887281          0.887281   \n",
      "4         0.068745         0.008370         0.887281          0.887281   \n",
      "5         0.057537         0.008091         0.887281          0.887281   \n",
      "6         0.055540         0.008222         0.887281          0.887281   \n",
      "7         0.056342         0.008053         0.887281          0.887281   \n",
      "8         0.057633         0.008334         0.887281          0.887281   \n",
      "9         0.066243         0.008464         0.887831          0.888066   \n",
      "10        0.066165         0.007982         0.889838          0.890381   \n",
      "11        0.065808         0.008164         0.888058          0.888115   \n",
      "12        0.067125         0.008399         0.887411          0.887378   \n",
      "13        0.067008         0.008059         0.887540          0.887581   \n",
      "14        0.065753         0.008765         0.887864          0.888147   \n",
      "15        0.068987         0.009976         0.889288          0.889547   \n",
      "16        0.067226         0.008188         0.890842          0.890721   \n",
      "17        0.068532         0.007963         0.888673          0.888341   \n",
      "18        0.098324         0.008158         0.900683          0.900853   \n",
      "19        0.100084         0.008453         0.900197          0.900869   \n",
      "20        0.100496         0.008293         0.900165          0.900133   \n",
      "21        0.098672         0.008366         0.900295          0.900570   \n",
      "22        0.099878         0.008021         0.898547          0.899372   \n",
      "23        0.099199         0.008309         0.900715          0.900910   \n",
      "24        0.100052         0.007986         0.900554          0.900586   \n",
      "25        0.099094         0.008413         0.901136          0.901509   \n",
      "26        0.097438         0.008269         0.900554          0.901185   \n",
      "27        0.134943         0.017111         0.898190          0.989754   \n",
      "28        0.134172         0.016908         0.899032          0.978991   \n",
      "29        0.116376         0.015576         0.900327          0.932149   \n",
      "..             ...              ...              ...               ...   \n",
      "186       0.119300         0.009021         0.900424          0.901152   \n",
      "187       0.120330         0.008480         0.900003          0.900303   \n",
      "188       0.120570         0.008288         0.900554          0.900545   \n",
      "189       0.187953         0.020156         0.897834          1.000000   \n",
      "190       0.181640         0.019673         0.900165          0.999814   \n",
      "191       0.156058         0.017272         0.901654          0.956419   \n",
      "192       0.119326         0.013693         0.897802          0.909958   \n",
      "193       0.121118         0.013482         0.900068          0.911568   \n",
      "194       0.119480         0.013000         0.898255          0.909998   \n",
      "195       0.097989         0.011309         0.895860          0.898020   \n",
      "196       0.093867         0.010777         0.893820          0.895609   \n",
      "197       0.090789         0.011050         0.892234          0.892444   \n",
      "198       0.228860         0.018114         0.903014          1.000000   \n",
      "199       0.224141         0.018058         0.902981          0.999854   \n",
      "200       0.201916         0.015980         0.905668          0.967919   \n",
      "201       0.180628         0.013320         0.904827          0.937579   \n",
      "202       0.183902         0.014224         0.904600          0.936316   \n",
      "203       0.179055         0.013579         0.906510          0.932909   \n",
      "204       0.158645         0.012238         0.904535          0.911633   \n",
      "205       0.162682         0.012161         0.903823          0.910678   \n",
      "206       0.158576         0.011711         0.902820          0.911317   \n",
      "207       0.391060         0.014538         0.906057          1.000000   \n",
      "208       0.383054         0.014295         0.906380          1.000000   \n",
      "209       0.372756         0.013503         0.909359          0.990029   \n",
      "210       0.347186         0.013392         0.910427          0.984267   \n",
      "211       0.360365         0.013831         0.910459          0.984745   \n",
      "212       0.353656         0.013100         0.911042          0.977647   \n",
      "213       0.325178         0.012262         0.911495          0.941617   \n",
      "214       0.321567         0.012183         0.911722          0.941577   \n",
      "215       0.318516         0.011996         0.911204          0.942418   \n",
      "\n",
      "    param_bootstrap param_criterion param_max_depth param_max_features  \\\n",
      "0              True            gini               3                  1   \n",
      "1              True            gini               3                  1   \n",
      "2              True            gini               3                  1   \n",
      "3              True            gini               3                  1   \n",
      "4              True            gini               3                  1   \n",
      "5              True            gini               3                  1   \n",
      "6              True            gini               3                  1   \n",
      "7              True            gini               3                  1   \n",
      "8              True            gini               3                  1   \n",
      "9              True            gini               3                  3   \n",
      "10             True            gini               3                  3   \n",
      "11             True            gini               3                  3   \n",
      "12             True            gini               3                  3   \n",
      "13             True            gini               3                  3   \n",
      "14             True            gini               3                  3   \n",
      "15             True            gini               3                  3   \n",
      "16             True            gini               3                  3   \n",
      "17             True            gini               3                  3   \n",
      "18             True            gini               3                 10   \n",
      "19             True            gini               3                 10   \n",
      "20             True            gini               3                 10   \n",
      "21             True            gini               3                 10   \n",
      "22             True            gini               3                 10   \n",
      "23             True            gini               3                 10   \n",
      "24             True            gini               3                 10   \n",
      "25             True            gini               3                 10   \n",
      "26             True            gini               3                 10   \n",
      "27             True            gini            None                  1   \n",
      "28             True            gini            None                  1   \n",
      "29             True            gini            None                  1   \n",
      "..              ...             ...             ...                ...   \n",
      "186           False         entropy               3                 10   \n",
      "187           False         entropy               3                 10   \n",
      "188           False         entropy               3                 10   \n",
      "189           False         entropy            None                  1   \n",
      "190           False         entropy            None                  1   \n",
      "191           False         entropy            None                  1   \n",
      "192           False         entropy            None                  1   \n",
      "193           False         entropy            None                  1   \n",
      "194           False         entropy            None                  1   \n",
      "195           False         entropy            None                  1   \n",
      "196           False         entropy            None                  1   \n",
      "197           False         entropy            None                  1   \n",
      "198           False         entropy            None                  3   \n",
      "199           False         entropy            None                  3   \n",
      "200           False         entropy            None                  3   \n",
      "201           False         entropy            None                  3   \n",
      "202           False         entropy            None                  3   \n",
      "203           False         entropy            None                  3   \n",
      "204           False         entropy            None                  3   \n",
      "205           False         entropy            None                  3   \n",
      "206           False         entropy            None                  3   \n",
      "207           False         entropy            None                 10   \n",
      "208           False         entropy            None                 10   \n",
      "209           False         entropy            None                 10   \n",
      "210           False         entropy            None                 10   \n",
      "211           False         entropy            None                 10   \n",
      "212           False         entropy            None                 10   \n",
      "213           False         entropy            None                 10   \n",
      "214           False         entropy            None                 10   \n",
      "215           False         entropy            None                 10   \n",
      "\n",
      "    param_min_samples_leaf param_min_samples_split       ...         \\\n",
      "0                        1                       2       ...          \n",
      "1                        1                       3       ...          \n",
      "2                        1                      10       ...          \n",
      "3                        3                       2       ...          \n",
      "4                        3                       3       ...          \n",
      "5                        3                      10       ...          \n",
      "6                       10                       2       ...          \n",
      "7                       10                       3       ...          \n",
      "8                       10                      10       ...          \n",
      "9                        1                       2       ...          \n",
      "10                       1                       3       ...          \n",
      "11                       1                      10       ...          \n",
      "12                       3                       2       ...          \n",
      "13                       3                       3       ...          \n",
      "14                       3                      10       ...          \n",
      "15                      10                       2       ...          \n",
      "16                      10                       3       ...          \n",
      "17                      10                      10       ...          \n",
      "18                       1                       2       ...          \n",
      "19                       1                       3       ...          \n",
      "20                       1                      10       ...          \n",
      "21                       3                       2       ...          \n",
      "22                       3                       3       ...          \n",
      "23                       3                      10       ...          \n",
      "24                      10                       2       ...          \n",
      "25                      10                       3       ...          \n",
      "26                      10                      10       ...          \n",
      "27                       1                       2       ...          \n",
      "28                       1                       3       ...          \n",
      "29                       1                      10       ...          \n",
      "..                     ...                     ...       ...          \n",
      "186                     10                       2       ...          \n",
      "187                     10                       3       ...          \n",
      "188                     10                      10       ...          \n",
      "189                      1                       2       ...          \n",
      "190                      1                       3       ...          \n",
      "191                      1                      10       ...          \n",
      "192                      3                       2       ...          \n",
      "193                      3                       3       ...          \n",
      "194                      3                      10       ...          \n",
      "195                     10                       2       ...          \n",
      "196                     10                       3       ...          \n",
      "197                     10                      10       ...          \n",
      "198                      1                       2       ...          \n",
      "199                      1                       3       ...          \n",
      "200                      1                      10       ...          \n",
      "201                      3                       2       ...          \n",
      "202                      3                       3       ...          \n",
      "203                      3                      10       ...          \n",
      "204                     10                       2       ...          \n",
      "205                     10                       3       ...          \n",
      "206                     10                      10       ...          \n",
      "207                      1                       2       ...          \n",
      "208                      1                       3       ...          \n",
      "209                      1                      10       ...          \n",
      "210                      3                       2       ...          \n",
      "211                      3                       3       ...          \n",
      "212                      3                      10       ...          \n",
      "213                     10                       2       ...          \n",
      "214                     10                       3       ...          \n",
      "215                     10                      10       ...          \n",
      "\n",
      "    split2_test_score  split2_train_score  split3_test_score  \\\n",
      "0            0.887342            0.887266           0.887342   \n",
      "1            0.887342            0.887266           0.887342   \n",
      "2            0.887342            0.887266           0.887504   \n",
      "3            0.887342            0.887266           0.887342   \n",
      "4            0.887342            0.887266           0.887342   \n",
      "5            0.887342            0.887266           0.887342   \n",
      "6            0.887342            0.887266           0.887342   \n",
      "7            0.887342            0.887266           0.887342   \n",
      "8            0.887342            0.887266           0.887342   \n",
      "9            0.889446            0.890989           0.887342   \n",
      "10           0.887504            0.887468           0.887504   \n",
      "11           0.887342            0.887266           0.887342   \n",
      "12           0.887342            0.887266           0.887342   \n",
      "13           0.887342            0.887266           0.887342   \n",
      "14           0.887342            0.887306           0.887342   \n",
      "15           0.887342            0.887428           0.887342   \n",
      "16           0.893169            0.892607           0.889285   \n",
      "17           0.890094            0.889815           0.891389   \n",
      "18           0.898025            0.901064           0.901586   \n",
      "19           0.897863            0.900781           0.900453   \n",
      "20           0.900453            0.901752           0.897216   \n",
      "21           0.898835            0.901105           0.902072   \n",
      "22           0.896083            0.897908           0.900291   \n",
      "23           0.900777            0.902966           0.899968   \n",
      "24           0.899482            0.902076           0.901586   \n",
      "25           0.898187            0.901024           0.901748   \n",
      "26           0.899158            0.902400           0.899806   \n",
      "27           0.894464            0.989843           0.902072   \n",
      "28           0.897540            0.979808           0.899968   \n",
      "29           0.894140            0.934286           0.903043   \n",
      "..                ...                 ...                ...   \n",
      "186          0.900291            0.901914           0.901263   \n",
      "187          0.896730            0.898758           0.900939   \n",
      "188          0.898187            0.899648           0.902719   \n",
      "189          0.894950            1.000000           0.895435   \n",
      "190          0.895921            0.999919           0.900939   \n",
      "191          0.898349            0.957269           0.902557   \n",
      "192          0.898187            0.910938           0.900129   \n",
      "193          0.895597            0.908955           0.901910   \n",
      "194          0.895112            0.909117           0.896407   \n",
      "195          0.896568            0.901064           0.891227   \n",
      "196          0.892036            0.896815           0.898673   \n",
      "197          0.888313            0.888803           0.889123   \n",
      "198          0.897378            1.000000           0.900615   \n",
      "199          0.895274            0.999879           0.900453   \n",
      "200          0.901586            0.971675           0.907737   \n",
      "201          0.901424            0.937685           0.903205   \n",
      "202          0.900615            0.938130           0.901748   \n",
      "203          0.903529            0.932020           0.907899   \n",
      "204          0.901101            0.910857           0.907737   \n",
      "205          0.902072            0.911140           0.904662   \n",
      "206          0.901910            0.914256           0.902072   \n",
      "207          0.902234            1.000000           0.904338   \n",
      "208          0.901910            1.000000           0.904824   \n",
      "209          0.901424            0.990369           0.909841   \n",
      "210          0.906766            0.985109           0.911622   \n",
      "211          0.908223            0.985797           0.908385   \n",
      "212          0.906928            0.978109           0.909518   \n",
      "213          0.909518            0.940719           0.910651   \n",
      "214          0.906766            0.940962           0.910165   \n",
      "215          0.907575            0.941610           0.910165   \n",
      "\n",
      "     split3_train_score  split4_test_score  split4_train_score  std_fit_time  \\\n",
      "0              0.887266           0.887324            0.887270      0.001067   \n",
      "1              0.887266           0.887324            0.887270      0.002687   \n",
      "2              0.887266           0.887324            0.887270      0.002464   \n",
      "3              0.887266           0.887324            0.887270      0.004700   \n",
      "4              0.887266           0.887324            0.887270      0.023946   \n",
      "5              0.887266           0.887324            0.887270      0.000691   \n",
      "6              0.887266           0.887324            0.887270      0.001175   \n",
      "7              0.887266           0.887324            0.887270      0.001263   \n",
      "8              0.887266           0.887324            0.887270      0.001209   \n",
      "9              0.887266           0.887324            0.887270      0.000824   \n",
      "10             0.887387           0.893638            0.895201      0.001280   \n",
      "11             0.887266           0.891209            0.891398      0.001030   \n",
      "12             0.887266           0.887810            0.887594      0.001136   \n",
      "13             0.887266           0.887324            0.887311      0.001455   \n",
      "14             0.887347           0.887324            0.887270      0.001783   \n",
      "15             0.887266           0.887324            0.887270      0.003540   \n",
      "16             0.889653           0.887648            0.887958      0.001476   \n",
      "17             0.889613           0.887486            0.887635      0.002122   \n",
      "18             0.901105           0.902542            0.901311      0.002519   \n",
      "19             0.901145           0.900923            0.901513      0.002067   \n",
      "20             0.897989           0.901085            0.900461      0.002685   \n",
      "21             0.901874           0.898980            0.899126      0.001055   \n",
      "22             0.900214           0.897037            0.896981      0.001207   \n",
      "23             0.899607           0.900599            0.901594      0.002410   \n",
      "24             0.900417           0.900113            0.900097      0.002030   \n",
      "25             0.901145           0.902380            0.901635      0.003597   \n",
      "26             0.899688           0.901247            0.901311      0.003455   \n",
      "27             0.989358           0.898656            0.990410      0.003818   \n",
      "28             0.978878           0.899951            0.978433      0.003824   \n",
      "29             0.932788           0.901570            0.931780      0.001597   \n",
      "..                  ...                ...                 ...           ...   \n",
      "186            0.900457           0.898818            0.900380      0.002793   \n",
      "187            0.900781           0.900275            0.901635      0.002588   \n",
      "188            0.901469           0.900923            0.901513      0.002700   \n",
      "189            1.000000           0.901085            1.000000      0.004771   \n",
      "190            0.999717           0.903189            0.999757      0.002805   \n",
      "191            0.957836           0.901408            0.957150      0.002517   \n",
      "192            0.910614           0.896876            0.908392      0.003274   \n",
      "193            0.916238           0.901408            0.912357      0.006074   \n",
      "194            0.907781           0.900599            0.913369      0.002560   \n",
      "195            0.893983           0.898171            0.900340      0.005158   \n",
      "196            0.899203           0.898818            0.900218      0.002916   \n",
      "197            0.888965           0.889590            0.890265      0.003922   \n",
      "198            1.000000           0.906427            1.000000      0.003052   \n",
      "199            0.999879           0.907722            0.999798      0.006334   \n",
      "200            0.965281           0.908208            0.967346      0.004274   \n",
      "201            0.938818           0.909017            0.937363      0.004987   \n",
      "202            0.936956           0.908208            0.932791      0.004218   \n",
      "203            0.935459           0.907398            0.930202      0.004108   \n",
      "204            0.915146           0.904322            0.910415      0.004362   \n",
      "205            0.909319           0.905618            0.911224      0.003600   \n",
      "206            0.910492           0.903513            0.910132      0.002736   \n",
      "207            1.000000           0.908046            1.000000      0.007002   \n",
      "208            1.000000           0.907560            1.000000      0.006525   \n",
      "209            0.989843           0.914684            0.989722      0.008068   \n",
      "210            0.983571           0.910636            0.984422      0.006134   \n",
      "211            0.985109           0.913874            0.984260      0.006163   \n",
      "212            0.976652           0.914522            0.978069      0.009709   \n",
      "213            0.943026           0.913712            0.940115      0.012112   \n",
      "214            0.942985           0.917436            0.941612      0.005549   \n",
      "215            0.943714           0.915979            0.943676      0.007892   \n",
      "\n",
      "     std_score_time  std_test_score  std_train_score  \n",
      "0          0.000521        0.000068         0.000017  \n",
      "1          0.000192        0.000068         0.000017  \n",
      "2          0.000525        0.000113         0.000017  \n",
      "3          0.001340        0.000068         0.000017  \n",
      "4          0.000370        0.000068         0.000017  \n",
      "5          0.000273        0.000068         0.000017  \n",
      "6          0.000127        0.000068         0.000017  \n",
      "7          0.000592        0.000068         0.000017  \n",
      "8          0.000643        0.000068         0.000017  \n",
      "9          0.000453        0.000837         0.001464  \n",
      "10         0.000508        0.002325         0.002904  \n",
      "11         0.000309        0.001577         0.001642  \n",
      "12         0.000361        0.000208         0.000123  \n",
      "13         0.000213        0.000570         0.000409  \n",
      "14         0.000845        0.001043         0.001682  \n",
      "15         0.003260        0.003973         0.004442  \n",
      "16         0.000429        0.003691         0.003162  \n",
      "17         0.000333        0.001741         0.001128  \n",
      "18         0.000414        0.001509         0.000410  \n",
      "19         0.000749        0.001189         0.000894  \n",
      "20         0.000575        0.001494         0.001311  \n",
      "21         0.000472        0.001230         0.001085  \n",
      "22         0.000358        0.002010         0.001630  \n",
      "23         0.000325        0.000665         0.001243  \n",
      "24         0.000472        0.000718         0.000972  \n",
      "25         0.001046        0.001639         0.000525  \n",
      "26         0.000512        0.000922         0.000875  \n",
      "27         0.000651        0.002477         0.000837  \n",
      "28         0.000760        0.000896         0.000492  \n",
      "29         0.000741        0.003193         0.001274  \n",
      "..              ...             ...              ...  \n",
      "186        0.000711        0.000862         0.001375  \n",
      "187        0.000576        0.001668         0.000949  \n",
      "188        0.000442        0.001502         0.000790  \n",
      "189        0.000281        0.002391         0.000000  \n",
      "190        0.000572        0.002963         0.000071  \n",
      "191        0.001113        0.001954         0.001412  \n",
      "192        0.000774        0.001837         0.002513  \n",
      "193        0.000728        0.002295         0.002581  \n",
      "194        0.000171        0.002325         0.002060  \n",
      "195        0.000447        0.002815         0.002823  \n",
      "196        0.000366        0.004106         0.004021  \n",
      "197        0.000827        0.003972         0.003831  \n",
      "198        0.000713        0.003497         0.000000  \n",
      "199        0.000877        0.004547         0.000032  \n",
      "200        0.000593        0.002540         0.002236  \n",
      "201        0.000428        0.003103         0.000671  \n",
      "202        0.000592        0.002918         0.002754  \n",
      "203        0.000427        0.001938         0.001884  \n",
      "204        0.000761        0.002365         0.001834  \n",
      "205        0.000297        0.001318         0.001502  \n",
      "206        0.000255        0.000885         0.001530  \n",
      "207        0.000824        0.002637         0.000000  \n",
      "208        0.000190        0.002838         0.000000  \n",
      "209        0.000316        0.004339         0.000267  \n",
      "210        0.000424        0.002059         0.000972  \n",
      "211        0.000694        0.002205         0.000619  \n",
      "212        0.000368        0.002614         0.000537  \n",
      "213        0.000807        0.002477         0.001809  \n",
      "214        0.000340        0.003500         0.000757  \n",
      "215        0.000523        0.002724         0.001090  \n",
      "\n",
      "[216 rows x 26 columns]\n"
     ]
    }
   ],
   "source": [
    "# NOTE: This will take about 1-2 minutes to run!\n",
    "param_grid = {\"max_depth\": [3, None],\n",
    "              \"max_features\": [1, 3, 10],\n",
    "              \"min_samples_split\": [2, 3, 10],\n",
    "              \"min_samples_leaf\": [1, 3, 10],\n",
    "              \"bootstrap\": [True, False],\n",
    "              \"criterion\": [\"gini\", \"entropy\"]}\n",
    "\n",
    "rfc_model = RandomForestClassifier()\n",
    "rfc_grid = GridSearchCV(estimator=rfc_model, param_grid=param_grid, cv=5)\n",
    "\n",
    "rfc_grid.fit(X_train, y_train)\n",
    "\n",
    "print(\"Best estimator:\", rfc_grid.best_estimator_)\n",
    "print(\"Best score:\", rfc_grid.best_score_)\n",
    "print(pd.DataFrame(rfc_grid.cv_results_))"
   ]
  },
  {
   "cell_type": "code",
   "execution_count": 40,
   "metadata": {
    "collapsed": false
   },
   "outputs": [
    {
     "name": "stdout",
     "output_type": "stream",
     "text": [
      "\n",
      "=====================================================\n",
      "GridSearchCV\n",
      "=====================================================\n",
      "\n",
      "\n",
      "COMPARING SCORES OF TRAINING AND TEST SET:\n",
      "\n",
      "training set score: 0.942346\n",
      "test set score: 0.913567\n",
      "\n",
      "CLASSIFICATION REPORT:\n",
      "\n",
      "             precision    recall  f1-score   support\n",
      "\n",
      "          0       0.95      0.98      0.96     36548\n",
      "          1       0.80      0.56      0.66      4640\n",
      "\n",
      "avg / total       0.93      0.94      0.93     41188\n",
      "\n",
      "\n",
      "CONFUSION MATRIX:\n",
      "\n",
      "[[35910   638]\n",
      " [ 2033  2607]]\n"
     ]
    }
   ],
   "source": [
    "generate_evaluation_tables(rfc_grid, X, y)"
   ]
  },
  {
   "cell_type": "markdown",
   "metadata": {},
   "source": [
    "# Conclusion\n",
    "\n",
    "Key learning points\n",
    "\n",
    "1. The process of training different classification models is very similar.\n",
    "2. Without any tuning, DecisionTreeClassifier provides the most accurate predictions. However, this is due to overfitting (as suggested by the training score of 1.0). This is one of the weakness of DecisionTrees). \n",
    "3. The next most accurate models are:\n",
    "    - SupportVectorMachineClassifier (precision=0.94, recall=0.94)\n",
    "    - RandomForestClassifier (GridSearched) (precision=0.93, recall=0.94)\n",
    "    - KNeighboursClassifier(precision=0.92, recall=0.93)\n",
    "4. We can use GridSearchCV to search for the most optimized parameters for a given model"
   ]
  },
  {
   "cell_type": "code",
   "execution_count": null,
   "metadata": {
    "collapsed": true
   },
   "outputs": [],
   "source": []
  }
 ],
 "metadata": {
  "kernelspec": {
   "display_name": "Python 2",
   "language": "python",
   "name": "python2"
  },
  "language_info": {
   "codemirror_mode": {
    "name": "ipython",
    "version": 2
   },
   "file_extension": ".py",
   "mimetype": "text/x-python",
   "name": "python",
   "nbconvert_exporter": "python",
   "pygments_lexer": "ipython2",
   "version": "2.7.13"
  }
 },
 "nbformat": 4,
 "nbformat_minor": 2
}
