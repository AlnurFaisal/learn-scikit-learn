{
 "cells": [
  {
   "cell_type": "markdown",
   "metadata": {},
   "source": [
    "# Hello Jupyter Notebook"
   ]
  },
  {
   "cell_type": "markdown",
   "metadata": {},
   "source": [
    "Jupyter notebooks is a great code editor for machine learning. Play around with the following cells to familiarize yourself with it."
   ]
  },
  {
   "cell_type": "markdown",
   "metadata": {},
   "source": [
    "### Cheat sheet\n",
    "\n",
    "1. Double-click me!\n",
    "2. Now you see me in edit mode (see the green box around me?) This means you can write stuff.\n",
    "3. Now, hit Escape on your keyboard (see the box turn blue?) This means you are in command mode and can do lots of cool stuff. Try any of the following:\n",
    "  - H (see **H**elp page)\n",
    "  - A (insert cell **A**bove)\n",
    "  - B (insert cell **B**elow)\n",
    "4. Now, click me again, and execute me by running **Shift + Enter**. This is how you execute code in Jupyter. Try executing the following cells\n",
    "  "
   ]
  },
  {
   "cell_type": "code",
   "execution_count": 1,
   "metadata": {},
   "outputs": [
    {
     "name": "stdout",
     "output_type": "stream",
     "text": [
      "Hello world!\n"
     ]
    }
   ],
   "source": [
    "print('Hello world!')"
   ]
  },
  {
   "cell_type": "code",
   "execution_count": 3,
   "metadata": {},
   "outputs": [
    {
     "data": {
      "text/plain": [
       "50.0"
      ]
     },
     "execution_count": 3,
     "metadata": {},
     "output_type": "execute_result"
    }
   ],
   "source": [
    "100/10*5"
   ]
  },
  {
   "cell_type": "markdown",
   "metadata": {},
   "source": [
    "# Hello Python"
   ]
  },
  {
   "cell_type": "markdown",
   "metadata": {},
   "source": [
    "Things to cover:\n",
    "\n",
    "- variables\n",
    "- boolean operators\n",
    "- functions - \n",
    "  - definition\n",
    "  - invocation - with a ()\n",
    "  - parameters/arguments\n",
    "  - how to read the docs with ?\n",
    "- print()\n",
    "- \\# This is a comment\n",
    "- array\n",
    "  - my_array[:]\n",
    "- objects (and methods) (how to instantiate them, and how to see them with autocomplete)\n",
    "- object methods (touch on classes)\n",
    "- how to read error messages\n",
    "\n",
    "- pandas\n",
    "  - how to load the library\n",
    "  - dataframes and methods\n",
    "     - read_csv()\n",
    "     - head()\n",
    "     - describe()\n",
    "     - iloc[:, :]\n",
    "  - series and methods\n",
    "     - value_counts()"
   ]
  },
  {
   "cell_type": "markdown",
   "metadata": {},
   "source": [
    "# Hello Shell"
   ]
  },
  {
   "cell_type": "markdown",
   "metadata": {},
   "source": [
    "To run shell commands in jupyter notebook, simply prefix the command with an exclamation mark (!)"
   ]
  },
  {
   "cell_type": "code",
   "execution_count": 1,
   "metadata": {},
   "outputs": [
    {
     "name": "stdout",
     "output_type": "stream",
     "text": [
      "README.md\r\n",
      "\u001b[1m\u001b[36mbin\u001b[m\u001b[m\r\n",
      "classification-model-workshop-solutions.ipynb\r\n",
      "classification-model-workshop-starter-code.ipynb\r\n",
      "comparing-models.ipynb\r\n",
      "\u001b[1m\u001b[36mdata\u001b[m\u001b[m\r\n",
      "data-preprocessing.ipynb\r\n",
      "full-analysis.ipynb\r\n",
      "hello-jupyter.ipynb\r\n",
      "logistic-regression-formula-playground.ipynb\r\n",
      "requirements.txt\r\n"
     ]
    }
   ],
   "source": [
    "# to list the contents of a directory\n",
    "!ls"
   ]
  },
  {
   "cell_type": "code",
   "execution_count": null,
   "metadata": {},
   "outputs": [],
   "source": [
    "# to print working (i.e. current) directory\n",
    "!pwd"
   ]
  },
  {
   "cell_type": "code",
   "execution_count": 13,
   "metadata": {},
   "outputs": [
    {
     "name": "stdout",
     "output_type": "stream",
     "text": [
      "/Users/davidtan/Code/learning-materials/learn-machine-learning/ml-data-night\n",
      "/Users/davidtan/Code/learning-materials/learn-machine-learning\n",
      "bank-additional-balanced-dataset.csv bank-additional-one-hot-encoded.csv\n",
      "\u001b[31mbank-additional-full.csv\u001b[m\u001b[m             bank-unseen-data.csv\n",
      "bank-additional-names.txt\n"
     ]
    }
   ],
   "source": [
    "# to change directory\n",
    "# cd <name-of-directory>\n",
    "\n",
    "! cd .. && pwd"
   ]
  },
  {
   "cell_type": "code",
   "execution_count": 16,
   "metadata": {
    "scrolled": true
   },
   "outputs": [
    {
     "name": "stdout",
     "output_type": "stream",
     "text": [
      "/Users/davidtan/Code/learning-materials/learn-machine-learning\n",
      "total 26696\n",
      "-rw-r--r--  1 davidtan  staff  1527290 Oct 10 18:38 bank-additional-balanced-dataset.csv\n",
      "-rwxr-xr-x@ 1 davidtan  staff  5834924 May 21 12:35 \u001b[31mbank-additional-full.csv\u001b[m\u001b[m\n",
      "-rw-r--r--@ 1 davidtan  staff        0 May  3 09:00 bank-additional-names.txt\n",
      "-rw-r--r--  1 davidtan  staff  6297140 Jun 28 13:17 bank-additional-one-hot-encoded.csv\n",
      "-rw-r--r--  1 davidtan  staff     2706 Jun 28 13:17 bank-unseen-data.csv\n"
     ]
    }
   ],
   "source": [
    "# To join shell commands, use &&\n",
    "! cd ../.. && pwd\n",
    "! cd data/bank-marketing-data && ls -l # -l are options of the ls command"
   ]
  },
  {
   "cell_type": "code",
   "execution_count": null,
   "metadata": {},
   "outputs": [],
   "source": [
    "# Hello git"
   ]
  },
  {
   "cell_type": "code",
   "execution_count": null,
   "metadata": {},
   "outputs": [],
   "source": [
    "# 1. Create git repository in a folder\n",
    "!git init"
   ]
  },
  {
   "cell_type": "code",
   "execution_count": null,
   "metadata": {},
   "outputs": [],
   "source": [
    "# 2. Connect your local repository (i.e. on your desktop) to the remote repository (e.g. on github.com)\n",
    "!git remote add origin YOUR_GITHUB_REPO_URL"
   ]
  },
  {
   "cell_type": "code",
   "execution_count": null,
   "metadata": {},
   "outputs": [],
   "source": [
    "# 3. See the status of your git commits (this command can be run at anytime)\n",
    "!git status"
   ]
  },
  {
   "cell_type": "code",
   "execution_count": null,
   "metadata": {},
   "outputs": [],
   "source": [
    "# 3. Add your files to staging\n",
    "!git add . # . means everything in the current working directory\n",
    "# you can also add files or directories individually (e.g. git add my-file; git add my-directory/my-file; git add my-directory)"
   ]
  },
  {
   "cell_type": "code",
   "execution_count": null,
   "metadata": {},
   "outputs": [],
   "source": [
    "# 4. Commit your files to the repo\n",
    "git commit -m \"your awesome commit message\"\n",
    "git push -u origin master"
   ]
  }
 ],
 "metadata": {
  "kernelspec": {
   "display_name": "Python 3",
   "language": "python",
   "name": "python3"
  },
  "language_info": {
   "codemirror_mode": {
    "name": "ipython",
    "version": 3
   },
   "file_extension": ".py",
   "mimetype": "text/x-python",
   "name": "python",
   "nbconvert_exporter": "python",
   "pygments_lexer": "ipython3",
   "version": "3.6.1"
  }
 },
 "nbformat": 4,
 "nbformat_minor": 2
}
